{
 "cells": [
  {
   "cell_type": "code",
   "execution_count": 2,
   "metadata": {},
   "outputs": [],
   "source": [
    "import numpy as np"
   ]
  },
  {
   "cell_type": "code",
   "execution_count": 30,
   "metadata": {},
   "outputs": [],
   "source": [
    "simulation_length = 1\n",
    "steps_per_year = 10\n",
    "steps = int(steps_per_year * simulation_length)\n",
    "time_grid = np.linspace(start=0, stop=simulation_length, num=1 + steps)\n",
    "dt = 1 / steps_per_year\n",
    "r = np.array([0.5, 0.4, 0.3, 0.4, 0.3, 0.2, 0.3, 0.4, 0.3, 0.4, 0.2])\n",
    "q = np.array([0.1, 0.1, 0.2, 0.4, 0.2, 0.1, 0.1, 0.1, 0.1, 0.4, 0.1])\n",
    "drift = r - q\n",
    "\n",
    "integrated_drift = np.cumsum(drift * dt)"
   ]
  },
  {
   "cell_type": "code",
   "execution_count": 31,
   "metadata": {},
   "outputs": [
    {
     "name": "stdout",
     "output_type": "stream",
     "text": [
      "[0.4 0.3 0.1 0.  0.1 0.1 0.2 0.3 0.2 0.  0.1]\n",
      "[0.04 0.07 0.08 0.08 0.09 0.1  0.12 0.15 0.17 0.17 0.18]\n"
     ]
    }
   ],
   "source": [
    "print(drift)\n",
    "print(integrated_drift)"
   ]
  },
  {
   "cell_type": "code",
   "execution_count": 12,
   "metadata": {},
   "outputs": [
    {
     "data": {
      "text/plain": [
       "array([0.155])"
      ]
     },
     "execution_count": 12,
     "metadata": {},
     "output_type": "execute_result"
    }
   ],
   "source": [
    "from scipy.integrate import trapezoid\n",
    "\n",
    "trapezoid(drift, time_grid)"
   ]
  },
  {
   "cell_type": "code",
   "execution_count": 6,
   "metadata": {},
   "outputs": [
    {
     "data": {
      "text/plain": [
       "array([0.04, 0.07, 0.08, 0.08, 0.09, 0.1 , 0.12, 0.15, 0.17, 0.17, 0.18])"
      ]
     },
     "execution_count": 6,
     "metadata": {},
     "output_type": "execute_result"
    }
   ],
   "source": [
    "integrated_drift"
   ]
  },
  {
   "cell_type": "code",
   "execution_count": 3,
   "metadata": {},
   "outputs": [
    {
     "data": {
      "text/plain": [
       "array([0., 0., 0., 0., 0., 0.])"
      ]
     },
     "execution_count": 3,
     "metadata": {},
     "output_type": "execute_result"
    }
   ],
   "source": [
    "arr = np.array([0.1, 4, 0.2, 0.3, 4, 0.2])\n",
    "a = 0.57\n",
    "np.cumsum(arr * a) - np.cumsum(arr) * a"
   ]
  },
  {
   "cell_type": "code",
   "execution_count": 7,
   "metadata": {},
   "outputs": [
    {
     "data": {
      "text/plain": [
       "2"
      ]
     },
     "execution_count": 7,
     "metadata": {},
     "output_type": "execute_result"
    }
   ],
   "source": [
    "from Project.notebooks.notebook_utils import foo\n",
    "\n",
    "foo()"
   ]
  }
 ],
 "metadata": {
  "kernelspec": {
   "display_name": ".venv",
   "language": "python",
   "name": "python3"
  },
  "language_info": {
   "codemirror_mode": {
    "name": "ipython",
    "version": 3
   },
   "file_extension": ".py",
   "mimetype": "text/x-python",
   "name": "python",
   "nbconvert_exporter": "python",
   "pygments_lexer": "ipython3",
   "version": "3.12.4"
  }
 },
 "nbformat": 4,
 "nbformat_minor": 2
}
