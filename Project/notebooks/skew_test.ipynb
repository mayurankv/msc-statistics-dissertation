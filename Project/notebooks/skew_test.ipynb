{
 "cells": [
  {
   "cell_type": "code",
   "execution_count": 1,
   "metadata": {},
   "outputs": [
    {
     "name": "stdout",
     "output_type": "stream",
     "text": [
      "\u001b[32m2024-08-09 05:04:01.739\u001b[0m | \u001b[1mINFO    \u001b[0m | \u001b[36mstochastic_volatility_models.config\u001b[0m:\u001b[36minitialise\u001b[0m:\u001b[36m30\u001b[0m - \u001b[1mLoaded module `stochastic_volatility_models` from project directory path `/Users/mayurankv/Documents/Mayuran/Programming/Projects/Academic/Imperial College London/MSc Statistics/Dissertation/Project/modules`\u001b[0m\n"
     ]
    }
   ],
   "source": [
    "from stochastic_volatility_models.src.models.rough_bergomi.rough_bergomi import RoughBergomi\n",
    "from stochastic_volatility_models.src.models.heston.heston import Heston\n",
    "from stochastic_volatility_models.src.core.evaluation_functions import surface_atm_skew\n",
    "from stochastic_volatility_models.src.utils.options.skew import atm_skew\n",
    "\n",
    "from notebook_utils import Notebook"
   ]
  },
  {
   "cell_type": "code",
   "execution_count": 2,
   "metadata": {},
   "outputs": [],
   "source": [
    "nb_e = Notebook(\n",
    "\tmodel=None,\n",
    ")\n",
    "nb_h = Notebook(\n",
    "\tmodel=Heston(\n",
    "\t\tparameters={\n",
    "\t\t\t\"initial_variance\": 0.10006713187966065,\n",
    "\t\t\t\"long_term_variance\": 0.03159120049914011,\n",
    "\t\t\t\"volatility_of_volatility\": 3.4949236489765254,\n",
    "\t\t\t\"mean_reversion_rate\": 6.106005002941104,\n",
    "\t\t\t\"wiener_correlation\": -0.7977506958223608,\n",
    "\t\t},\n",
    "\t),\n",
    ")\n",
    "nb_rb = Notebook(\n",
    "\tmodel=RoughBergomi(\n",
    "\t\tparameters={\n",
    "\t\t\t\"hurst_index\": 0.600784070323841,\n",
    "\t\t\t\"wiener_correlation\": -0.9283329233829251,\n",
    "\t\t\t\"volatility_of_volatility\": 6.196125566995583,\n",
    "\t\t},\n",
    "\t),\n",
    ")"
   ]
  },
  {
   "cell_type": "code",
   "execution_count": 3,
   "metadata": {},
   "outputs": [],
   "source": [
    "volatility_surface = nb_rb.spx_vs\n",
    "surfaces = [\n",
    "\tvolatility_surface.surface_quantities(\n",
    "\t\ttime=nb_rb.time,\n",
    "\t\tquantity_method=\"empirical_pricing_implied_volatility\",\n",
    "\t\tprice_types=[\"Mid\"],\n",
    "\t\tpricing_model=nb_e.pricing_model,\n",
    "\t)[0],\n",
    "\tvolatility_surface.surface_quantities(\n",
    "\t\ttime=nb_rb.time,\n",
    "\t\tquantity_method=\"model_pricing_implied_volatility\",\n",
    "\t\tprice_types=[\"Mid\"],\n",
    "\t\tmodel=nb_rb.model,\n",
    "\t\tpricing_model=nb_rb.pricing_model,\n",
    "\t)[0],\n",
    "]\n",
    "\n",
    "atm_skews = [\n",
    "\tatm_skew(\n",
    "\t\tsurface=surface,\n",
    "\t\tvolatility_surface=volatility_surface,\n",
    "\t\ttime=nb_rb.time,\n",
    "\t).values\n",
    "\tfor surface in surfaces\n",
    "]"
   ]
  },
  {
   "cell_type": "code",
   "execution_count": 4,
   "metadata": {},
   "outputs": [
    {
     "data": {
      "text/plain": [
       "[array([[1.98547473],\n",
       "        [1.97002743],\n",
       "        [1.6173868 ],\n",
       "        [1.41155758],\n",
       "        [1.29418723],\n",
       "        [1.17658411],\n",
       "        [1.19820093],\n",
       "        [1.18522719],\n",
       "        [1.11691653],\n",
       "        [1.04858406],\n",
       "        [0.97011532],\n",
       "        [0.92689096],\n",
       "        [0.82860037],\n",
       "        [0.79450431],\n",
       "        [0.74192256],\n",
       "        [0.70467937],\n",
       "        [0.65944621],\n",
       "        [0.62420632],\n",
       "        [0.57344434]]),\n",
       " array([[1.7927948 ],\n",
       "        [1.63922197],\n",
       "        [1.30990256],\n",
       "        [1.46712251],\n",
       "        [1.68639569],\n",
       "        [1.24162735],\n",
       "        [1.24722422],\n",
       "        [1.21168172],\n",
       "        [1.13931828],\n",
       "        [0.85553458],\n",
       "        [1.06097024],\n",
       "        [0.96333149],\n",
       "        [1.08923454],\n",
       "        [0.92924415],\n",
       "        [0.7454452 ],\n",
       "        [0.78459982],\n",
       "        [0.77599776],\n",
       "        [0.72309421],\n",
       "        [0.64307117]])]"
      ]
     },
     "execution_count": 4,
     "metadata": {},
     "output_type": "execute_result"
    }
   ],
   "source": [
    "atm_skews"
   ]
  },
  {
   "cell_type": "code",
   "execution_count": 6,
   "metadata": {},
   "outputs": [
    {
     "data": {
      "text/plain": [
       "0.17372106926630387"
      ]
     },
     "execution_count": 6,
     "metadata": {},
     "output_type": "execute_result"
    }
   ],
   "source": [
    "surface_atm_skew(\n",
    "\tvolatility_surface=nb_rb.spx_vs,\n",
    "\ttime=nb_rb.time,\n",
    "\tmodel=nb_rb.model,  # type: ignore\n",
    "\tempirical_pricing_model=nb_rb.empirical_pricing_model,\n",
    "\tmodel_pricing_model=nb_rb.pricing_model,\n",
    ")"
   ]
  }
 ],
 "metadata": {
  "kernelspec": {
   "display_name": ".venv",
   "language": "python",
   "name": "python3"
  },
  "language_info": {
   "codemirror_mode": {
    "name": "ipython",
    "version": 3
   },
   "file_extension": ".py",
   "mimetype": "text/x-python",
   "name": "python",
   "nbconvert_exporter": "python",
   "pygments_lexer": "ipython3",
   "version": "3.12.4"
  }
 },
 "nbformat": 4,
 "nbformat_minor": 2
}
