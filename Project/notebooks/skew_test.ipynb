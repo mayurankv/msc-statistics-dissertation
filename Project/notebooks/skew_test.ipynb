{
 "cells": [
  {
   "cell_type": "code",
   "execution_count": 1,
   "metadata": {},
   "outputs": [
    {
     "name": "stdout",
     "output_type": "stream",
     "text": [
      "\u001b[32m2024-08-09 04:31:35.935\u001b[0m | \u001b[1mINFO    \u001b[0m | \u001b[36mstochastic_volatility_models.config\u001b[0m:\u001b[36minitialise\u001b[0m:\u001b[36m30\u001b[0m - \u001b[1mLoaded module `stochastic_volatility_models` from project directory path `/Users/mayurankv/Documents/Mayuran/Programming/Projects/Academic/Imperial College London/MSc Statistics/Dissertation/Project/modules`\u001b[0m\n"
     ]
    }
   ],
   "source": [
    "from stochastic_volatility_models.src.models.rough_bergomi.rough_bergomi import RoughBergomi\n",
    "from stochastic_volatility_models.src.models.heston.heston import Heston\n",
    "from stochastic_volatility_models.src.core.evaluation_functions import surface_atm_skew\n",
    "from stochastic_volatility_models.src.utils.options.skew import atm_skew\n",
    "\n",
    "from notebook_utils import Notebook"
   ]
  },
  {
   "cell_type": "code",
   "execution_count": 2,
   "metadata": {},
   "outputs": [],
   "source": [
    "nb_e = Notebook(\n",
    "\tmodel=None,\n",
    ")\n",
    "nb_h = Notebook(\n",
    "\tmodel=Heston(\n",
    "\t\tparameters={\n",
    "\t\t\t\"initial_variance\": 0.10006713187966065,\n",
    "\t\t\t\"long_term_variance\": 0.03159120049914011,\n",
    "\t\t\t\"volatility_of_volatility\": 3.4949236489765254,\n",
    "\t\t\t\"mean_reversion_rate\": 6.106005002941104,\n",
    "\t\t\t\"wiener_correlation\": -0.7977506958223608,\n",
    "\t\t},\n",
    "\t),\n",
    ")\n",
    "nb_rb = Notebook(\n",
    "\tmodel=RoughBergomi(\n",
    "\t\tparameters={\n",
    "\t\t\t\"hurst_index\": 0.7966150268203153,\n",
    "\t\t\t\"wiener_correlation\": -0.9981022680055287,\n",
    "\t\t\t\"volatility_of_volatility\": 2.3398652742323254,\n",
    "\t\t},\n",
    "\t),\n",
    ")"
   ]
  },
  {
   "cell_type": "code",
   "execution_count": 3,
   "metadata": {},
   "outputs": [],
   "source": [
    "volatility_surface = nb_rb.spx_vs\n",
    "surfaces = [\n",
    "\tvolatility_surface.surface_quantities(\n",
    "\t\ttime=nb_rb.time,\n",
    "\t\tquantity_method=\"empirical_pricing_implied_volatility\",\n",
    "\t\tprice_types=[\"Mid\"],\n",
    "\t\tpricing_model=nb_rb.empirical_pricing_model,\n",
    "\t)[0],\n",
    "\tvolatility_surface.surface_quantities(\n",
    "\t\ttime=nb_rb.time,\n",
    "\t\tquantity_method=\"model_pricing_implied_volatility\",\n",
    "\t\tprice_types=[\"Mid\"],\n",
    "\t\tmodel=nb_rb.model,\n",
    "\t\tpricing_model=nb_rb.pricing_model,\n",
    "\t)[0],\n",
    "]\n",
    "\n",
    "atm_skews = [\n",
    "\tatm_skew(\n",
    "\t\tsurface=surface,\n",
    "\t\tvolatility_surface=volatility_surface,\n",
    "\t\ttime=nb_rb.time,\n",
    "\t).values\n",
    "\tfor surface in surfaces\n",
    "]"
   ]
  },
  {
   "cell_type": "code",
   "execution_count": 5,
   "metadata": {},
   "outputs": [
    {
     "data": {
      "text/plain": [
       "[array([[1.98547473],\n",
       "        [1.97002743],\n",
       "        [1.6173868 ],\n",
       "        [1.41155758],\n",
       "        [1.29418723],\n",
       "        [1.17658411],\n",
       "        [1.19820093],\n",
       "        [1.18522719],\n",
       "        [1.11691653],\n",
       "        [1.04858406],\n",
       "        [0.97011532],\n",
       "        [0.92689096],\n",
       "        [0.82860037],\n",
       "        [0.79450431],\n",
       "        [0.74192256],\n",
       "        [0.70467937],\n",
       "        [0.65944621],\n",
       "        [0.62420632],\n",
       "        [0.57344434]]),\n",
       " array([[1.63014846],\n",
       "        [1.60937615],\n",
       "        [1.03042154],\n",
       "        [0.98864551],\n",
       "        [1.42362395],\n",
       "        [1.07444184],\n",
       "        [1.04842748],\n",
       "        [1.08520289],\n",
       "        [1.04162446],\n",
       "        [1.15751058],\n",
       "        [1.69330068],\n",
       "        [1.71874196],\n",
       "        [1.72016572],\n",
       "        [1.7890352 ],\n",
       "        [1.48856212],\n",
       "        [1.54998646],\n",
       "        [1.13458279],\n",
       "        [1.12134925],\n",
       "        [0.98149604]])]"
      ]
     },
     "execution_count": 5,
     "metadata": {},
     "output_type": "execute_result"
    }
   ],
   "source": [
    "atm_skews"
   ]
  },
  {
   "cell_type": "code",
   "execution_count": 4,
   "metadata": {},
   "outputs": [
    {
     "data": {
      "text/plain": [
       "0.5478330012976266"
      ]
     },
     "execution_count": 4,
     "metadata": {},
     "output_type": "execute_result"
    }
   ],
   "source": [
    "surface_atm_skew(\n",
    "\tvolatility_surface=nb_rb.spx_vs,\n",
    "\ttime=nb_rb.time,\n",
    "\tmodel=nb_rb.model,  # type: ignore\n",
    "\tempirical_pricing_model=nb_rb.empirical_pricing_model,\n",
    "\tmodel_pricing_model=nb_rb.pricing_model,\n",
    ")"
   ]
  }
 ],
 "metadata": {
  "kernelspec": {
   "display_name": ".venv",
   "language": "python",
   "name": "python3"
  },
  "language_info": {
   "codemirror_mode": {
    "name": "ipython",
    "version": 3
   },
   "file_extension": ".py",
   "mimetype": "text/x-python",
   "name": "python",
   "nbconvert_exporter": "python",
   "pygments_lexer": "ipython3",
   "version": "3.12.4"
  }
 },
 "nbformat": 4,
 "nbformat_minor": 2
}
