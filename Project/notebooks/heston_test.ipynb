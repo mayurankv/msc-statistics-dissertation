{
 "cells": [
  {
   "cell_type": "code",
   "execution_count": 1,
   "metadata": {},
   "outputs": [],
   "source": [
    "from stochastic_volatility_models.src.models.heston import HestonModel"
   ]
  },
  {
   "cell_type": "code",
   "execution_count": 2,
   "metadata": {},
   "outputs": [],
   "source": [
    "model = HestonModel(\n",
    "\tparameters={\n",
    "\t\t\"initial_variance\": 0.05,\n",
    "\t\t\"long_term_volatility\": 0.05,\n",
    "\t\t\"volatility_of_volatility\": 0.3,\n",
    "\t\t\"mean_reversion_rate\": 2.0,\n",
    "\t\t\"wiener_correlation\": -0.5,\n",
    "\t}\n",
    ")"
   ]
  },
  {
   "cell_type": "code",
   "execution_count": 4,
   "metadata": {},
   "outputs": [
    {
     "data": {
      "text/plain": [
       "{'initial_variance': 0.05,\n",
       " 'long_term_volatility': 0.05,\n",
       " 'volatility_of_volatility': 0.3,\n",
       " 'mean_reversion_rate': 2.0,\n",
       " 'wiener_correlation': -0.5}"
      ]
     },
     "execution_count": 4,
     "metadata": {},
     "output_type": "execute_result"
    }
   ],
   "source": [
    "model.parameters"
   ]
  }
 ],
 "metadata": {
  "kernelspec": {
   "display_name": ".venv",
   "language": "python",
   "name": "python3"
  },
  "language_info": {
   "codemirror_mode": {
    "name": "ipython",
    "version": 3
   },
   "file_extension": ".py",
   "mimetype": "text/x-python",
   "name": "python",
   "nbconvert_exporter": "python",
   "pygments_lexer": "ipython3",
   "version": "3.12.4"
  }
 },
 "nbformat": 4,
 "nbformat_minor": 2
}
