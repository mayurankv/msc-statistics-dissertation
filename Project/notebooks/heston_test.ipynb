{
 "cells": [
  {
   "cell_type": "code",
   "execution_count": 11,
   "metadata": {},
   "outputs": [],
   "source": [
    "from stochastic_volatility_models.src.models.heston import HestonModel\n",
    "from assets.src.utils.datetime import time_to_expiry\n",
    "from datetime import datetime"
   ]
  },
  {
   "cell_type": "code",
   "execution_count": 4,
   "metadata": {},
   "outputs": [],
   "source": [
    "model = HestonModel(\n",
    "\t{\n",
    "\t\t\"initial_variance\": 0.05,\n",
    "\t\t\"long_term_volatility\": 0.05,\n",
    "\t\t\"volatility_of_volatility\": 0.3,\n",
    "\t\t\"mean_reversion_rate\": 2.0,\n",
    "\t\t\"wiener_correlation\": -0.5,\n",
    "\t}\n",
    ")"
   ]
  },
  {
   "cell_type": "code",
   "execution_count": 7,
   "metadata": {},
   "outputs": [],
   "source": [
    "class U:\n",
    "\tdef __init__(\n",
    "\t\tself,\n",
    "\t\tticker: str,\n",
    "\t) -> None:\n",
    "\t\tself.ticker = ticker\n",
    "\n",
    "\tdef price(\n",
    "\t\tself,\n",
    "\t\ttime: datetime,\n",
    "\t) -> float:\n",
    "\t\t# Pull price\n",
    "\t\treturn 100"
   ]
  },
  {
   "cell_type": "code",
   "execution_count": 14,
   "metadata": {},
   "outputs": [
    {
     "name": "stdout",
     "output_type": "stream",
     "text": [
      "27.60384373813035 15.06102546557726\n",
      "1.0\n"
     ]
    }
   ],
   "source": [
    "print(\n",
    "\tmodel.option_price(\n",
    "\t\tvolatility=0,\n",
    "\t\ttime=datetime(2024, 1, 1),\n",
    "\t\tunderlying=U(\"TEST\"),\n",
    "\t\trisk_free_rate=0.05,\n",
    "\t\toption_parameters={\n",
    "\t\t\t\"type\": \"C\",\n",
    "\t\t\t\"strike\": 100,\n",
    "\t\t\t\"expiry\": datetime(2025, 1, 1),\n",
    "\t\t},\n",
    "\t),\n",
    "\tmodel.option_price(\n",
    "\t\tvolatility=0,\n",
    "\t\ttime=datetime(2024, 1, 1),\n",
    "\t\tunderlying=U(\"TEST\"),\n",
    "\t\trisk_free_rate=0.05,\n",
    "\t\toption_parameters={\n",
    "\t\t\t\"type\": \"P\",\n",
    "\t\t\t\"strike\": 100,\n",
    "\t\t\t\"expiry\": datetime(2025, 1, 1),\n",
    "\t\t},\n",
    "\t),\n",
    ")\n",
    "print(time_to_expiry(datetime(2024, 1, 1), datetime(2024, 12, 31)))"
   ]
  },
  {
   "cell_type": "code",
   "execution_count": 20,
   "metadata": {},
   "outputs": [
    {
     "data": {
      "text/plain": [
       "datetime.timedelta(days=60)"
      ]
     },
     "execution_count": 20,
     "metadata": {},
     "output_type": "execute_result"
    }
   ],
   "source": [
    "datetime(2025, 3, 1) - datetime(2024, 1, 1)"
   ]
  }
 ],
 "metadata": {
  "kernelspec": {
   "display_name": ".venv",
   "language": "python",
   "name": "python3"
  },
  "language_info": {
   "codemirror_mode": {
    "name": "ipython",
    "version": 3
   },
   "file_extension": ".py",
   "mimetype": "text/x-python",
   "name": "python",
   "nbconvert_exporter": "python",
   "pygments_lexer": "ipython3",
   "version": "3.12.4"
  }
 },
 "nbformat": 4,
 "nbformat_minor": 2
}
