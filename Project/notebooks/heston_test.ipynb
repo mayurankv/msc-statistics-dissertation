{
 "cells": [
  {
   "cell_type": "code",
   "execution_count": 1,
   "metadata": {},
   "outputs": [
    {
     "name": "stderr",
     "output_type": "stream",
     "text": [
      "\u001b[32m2024-07-31 04:47:42.210\u001b[0m | \u001b[1mINFO    \u001b[0m | \u001b[36mstochastic_volatility_models.config\u001b[0m:\u001b[36minitialise\u001b[0m:\u001b[36m30\u001b[0m - \u001b[1mLoaded module `stochastic_volatility_models` from project directory path `/Users/mayurankv/Documents/Mayuran/Programming/Projects/Academic/Imperial College London/MSc Statistics/Dissertation/Project/modules`\u001b[0m\n"
     ]
    },
    {
     "ename": "ModuleNotFoundError",
     "evalue": "No module named 'tqdm'",
     "output_type": "error",
     "traceback": [
      "\u001b[0;31m---------------------------------------------------------------------------\u001b[0m",
      "\u001b[0;31mModuleNotFoundError\u001b[0m                       Traceback (most recent call last)",
      "Cell \u001b[0;32mIn[1], line 6\u001b[0m\n\u001b[1;32m      4\u001b[0m \u001b[38;5;28;01mfrom\u001b[39;00m \u001b[38;5;21;01mstochastic_volatility_models\u001b[39;00m\u001b[38;5;21;01m.\u001b[39;00m\u001b[38;5;21;01msrc\u001b[39;00m\u001b[38;5;21;01m.\u001b[39;00m\u001b[38;5;21;01mcore\u001b[39;00m\u001b[38;5;21;01m.\u001b[39;00m\u001b[38;5;21;01mvolatility_surface\u001b[39;00m \u001b[38;5;28;01mimport\u001b[39;00m VolatilitySurface\n\u001b[1;32m      5\u001b[0m \u001b[38;5;28;01mfrom\u001b[39;00m \u001b[38;5;21;01mstochastic_volatility_models\u001b[39;00m\u001b[38;5;21;01m.\u001b[39;00m\u001b[38;5;21;01msrc\u001b[39;00m\u001b[38;5;21;01m.\u001b[39;00m\u001b[38;5;21;01mcore\u001b[39;00m\u001b[38;5;21;01m.\u001b[39;00m\u001b[38;5;21;01mpricing_models\u001b[39;00m \u001b[38;5;28;01mimport\u001b[39;00m PricingModel\n\u001b[0;32m----> 6\u001b[0m \u001b[38;5;28;01mfrom\u001b[39;00m \u001b[38;5;21;01mstochastic_volatility_models\u001b[39;00m\u001b[38;5;21;01m.\u001b[39;00m\u001b[38;5;21;01msrc\u001b[39;00m\u001b[38;5;21;01m.\u001b[39;00m\u001b[38;5;21;01mmodels\u001b[39;00m\u001b[38;5;21;01m.\u001b[39;00m\u001b[38;5;21;01mheston\u001b[39;00m \u001b[38;5;28;01mimport\u001b[39;00m HestonModel\n",
      "File \u001b[0;32m~/Documents/Mayuran/Programming/Projects/Academic/Imperial College London/MSc Statistics/Dissertation/Project/modules/stochastic_volatility_models/stochastic_volatility_models/src/models/heston.py:7\u001b[0m\n\u001b[1;32m      5\u001b[0m \u001b[38;5;28;01mfrom\u001b[39;00m \u001b[38;5;21;01mnumba\u001b[39;00m \u001b[38;5;28;01mimport\u001b[39;00m jit, njit\n\u001b[1;32m      6\u001b[0m \u001b[38;5;28;01mfrom\u001b[39;00m \u001b[38;5;21;01mloguru\u001b[39;00m \u001b[38;5;28;01mimport\u001b[39;00m logger\n\u001b[0;32m----> 7\u001b[0m \u001b[38;5;28;01mfrom\u001b[39;00m \u001b[38;5;21;01mtqdm\u001b[39;00m \u001b[38;5;28;01mimport\u001b[39;00m tqdm\n\u001b[1;32m      9\u001b[0m \u001b[38;5;28;01mif\u001b[39;00m TYPE_CHECKING:\n\u001b[1;32m     10\u001b[0m \t\u001b[38;5;28;01mfrom\u001b[39;00m \u001b[38;5;21;01mstochastic_volatility_models\u001b[39;00m\u001b[38;5;21;01m.\u001b[39;00m\u001b[38;5;21;01msrc\u001b[39;00m\u001b[38;5;21;01m.\u001b[39;00m\u001b[38;5;21;01mcore\u001b[39;00m\u001b[38;5;21;01m.\u001b[39;00m\u001b[38;5;21;01munderlying\u001b[39;00m \u001b[38;5;28;01mimport\u001b[39;00m Underlying\n",
      "\u001b[0;31mModuleNotFoundError\u001b[0m: No module named 'tqdm'"
     ]
    }
   ],
   "source": [
    "import numpy as np\n",
    "\n",
    "from stochastic_volatility_models.src.core.underlying import Underlying\n",
    "from stochastic_volatility_models.src.core.volatility_surface import VolatilitySurface\n",
    "from stochastic_volatility_models.src.core.pricing_models import PricingModel\n",
    "from stochastic_volatility_models.src.models.heston import HestonModel"
   ]
  },
  {
   "cell_type": "code",
   "execution_count": null,
   "metadata": {},
   "outputs": [],
   "source": [
    "ticker = \"SPX\"\n",
    "spx = Underlying(ticker)\n",
    "vix = Underlying(\"VIX\")\n",
    "pricing_model = PricingModel()\n",
    "time = np.datetime64(\"2022-03-03\")"
   ]
  },
  {
   "cell_type": "code",
   "execution_count": null,
   "metadata": {},
   "outputs": [],
   "source": [
    "expiries = np.array(\n",
    "\t[\"2022-03-04\", \"2022-03-09\", \"2022-03-11\", \"2022-03-18\", \"2022-03-23\", \"2022-03-25\", \"2022-03-30\", \"2022-03-31\", \"2022-04-01\", \"2022-04-08\", \"2022-04-14\", \"2022-04-22\", \"2022-04-29\", \"2022-05-20\", \"2022-05-31\", \"2022-06-17\", \"2022-06-30\", \"2022-07-15\", \"2022-07-29\", \"2022-08-31\"], dtype=np.datetime64\n",
    ")\n",
    "\n",
    "strikes = np.array(\n",
    "\t[\n",
    "\t\t2200,\n",
    "\t\t2400,\n",
    "\t\t2600,\n",
    "\t\t2800,\n",
    "\t\t3000,\n",
    "\t\t3200,\n",
    "\t\t3400,\n",
    "\t\t3500,\n",
    "\t\t3600,\n",
    "\t\t3700,\n",
    "\t\t3800,\n",
    "\t\t3850,\n",
    "\t\t3900,\n",
    "\t\t3950,\n",
    "\t\t3975,\n",
    "\t\t4000,\n",
    "\t\t4025,\n",
    "\t\t4040,\n",
    "\t\t4050,\n",
    "\t\t4060,\n",
    "\t\t4070,\n",
    "\t\t4075,\n",
    "\t\t4080,\n",
    "\t\t4090,\n",
    "\t\t4100,\n",
    "\t\t4110,\n",
    "\t\t4120,\n",
    "\t\t4125,\n",
    "\t\t4130,\n",
    "\t\t4140,\n",
    "\t\t4150,\n",
    "\t\t4160,\n",
    "\t\t4170,\n",
    "\t\t4175,\n",
    "\t\t4180,\n",
    "\t\t4190,\n",
    "\t\t4200,\n",
    "\t\t4210,\n",
    "\t\t4220,\n",
    "\t\t4225,\n",
    "\t\t4230,\n",
    "\t\t4240,\n",
    "\t\t4250,\n",
    "\t\t4260,\n",
    "\t\t4270,\n",
    "\t\t4275,\n",
    "\t\t4280,\n",
    "\t\t4290,\n",
    "\t\t4300,\n",
    "\t\t4310,\n",
    "\t\t4320,\n",
    "\t\t4325,\n",
    "\t\t4330,\n",
    "\t\t4340,\n",
    "\t\t4350,\n",
    "\t\t4360,\n",
    "\t\t4370,\n",
    "\t\t4375,\n",
    "\t\t4380,\n",
    "\t\t4390,\n",
    "\t\t4400,\n",
    "\t\t4410,\n",
    "\t\t4420,\n",
    "\t\t4425,\n",
    "\t\t4430,\n",
    "\t\t4440,\n",
    "\t\t4450,\n",
    "\t\t4460,\n",
    "\t\t4470,\n",
    "\t\t4475,\n",
    "\t\t4480,\n",
    "\t\t4490,\n",
    "\t\t4500,\n",
    "\t\t4510,\n",
    "\t\t4525,\n",
    "\t\t4550,\n",
    "\t\t4600,\n",
    "\t\t4650,\n",
    "\t\t4700,\n",
    "\t\t4800,\n",
    "\t\t5000,\n",
    "\t\t5200,\n",
    "\t\t5400,\n",
    "\t]\n",
    ")\n",
    "spx_vs = VolatilitySurface(\n",
    "\tunderlying=spx,\n",
    "\texpiries=expiries,\n",
    "\tstrikes=strikes,\n",
    "\tmonthly=False,\n",
    ")"
   ]
  },
  {
   "cell_type": "code",
   "execution_count": null,
   "metadata": {},
   "outputs": [],
   "source": [
    "expiries = np.array([\"2022-03-09\", \"2022-03-23\", \"2022-03-30\", \"2022-04-06\"], dtype=np.datetime64)\n",
    "\n",
    "strikes = np.array([10, 11, 12, 13, 14, 15, 16, 17, 18, 19, 20, 21, 22, 23, 24, 25, 26, 27, 28, 29, 30, 32.5, 35, 37.5, 40, 42.5, 45, 47.5, 50, 55, 60, 65, 70, 75, 80, 85, 90, 95, 100])\n",
    "vix_vs = VolatilitySurface(\n",
    "\tunderlying=vix,\n",
    "\texpiries=expiries,\n",
    "\tstrikes=strikes,\n",
    "\tmonthly=False,\n",
    ")"
   ]
  },
  {
   "cell_type": "code",
   "execution_count": null,
   "metadata": {},
   "outputs": [],
   "source": [
    "model = HestonModel(\n",
    "\tparameters={\n",
    "\t\t\"initial_variance\": 0.05,\n",
    "\t\t\"long_term_variance\": 0.05,\n",
    "\t\t\"volatility_of_volatility\": 0.3,\n",
    "\t\t\"mean_reversion_rate\": 2.0,\n",
    "\t\t\"wiener_correlation\": -0.5,\n",
    "\t}\n",
    ")"
   ]
  },
  {
   "cell_type": "code",
   "execution_count": 6,
   "metadata": {},
   "outputs": [
    {
     "name": "stderr",
     "output_type": "stream",
     "text": [
      "\u001b[32m2024-07-31 04:36:23.870\u001b[0m | \u001b[34m\u001b[1mDEBUG   \u001b[0m | \u001b[36mstochastic_volatility_models.src.models.heston\u001b[0m:\u001b[36mprice\u001b[0m:\u001b[36m213\u001b[0m - \u001b[34m\u001b[1mExtracting parameters for Heston model pricing\u001b[0m\n",
      "\u001b[32m2024-07-31 04:36:23.873\u001b[0m | \u001b[34m\u001b[1mDEBUG   \u001b[0m | \u001b[36mstochastic_volatility_models.src.models.heston\u001b[0m:\u001b[36mprice\u001b[0m:\u001b[36m219\u001b[0m - \u001b[34m\u001b[1mExtracting risk free rates\u001b[0m\n",
      "\u001b[32m2024-07-31 04:36:24.079\u001b[0m | \u001b[34m\u001b[1mDEBUG   \u001b[0m | \u001b[36mstochastic_volatility_models.src.models.heston\u001b[0m:\u001b[36mprice\u001b[0m:\u001b[36m224\u001b[0m - \u001b[34m\u001b[1mExtracting dividend yields\u001b[0m\n",
      "\u001b[32m2024-07-31 04:36:53.068\u001b[0m | \u001b[34m\u001b[1mDEBUG   \u001b[0m | \u001b[36mstochastic_volatility_models.src.models.heston\u001b[0m:\u001b[36mprice\u001b[0m:\u001b[36m232\u001b[0m - \u001b[34m\u001b[1mCalculating integrals in Heston model\u001b[0m\n",
      "\u001b[32m2024-07-31 04:36:55.237\u001b[0m | \u001b[34m\u001b[1mDEBUG   \u001b[0m | \u001b[36mstochastic_volatility_models.src.models.heston\u001b[0m:\u001b[36mprice\u001b[0m:\u001b[36m260\u001b[0m - \u001b[34m\u001b[1mCalculating final price in Heston model\u001b[0m\n"
     ]
    },
    {
     "data": {
      "text/plain": [
       "array([360.62306513])"
      ]
     },
     "execution_count": 6,
     "metadata": {},
     "output_type": "execute_result"
    }
   ],
   "source": [
    "model.price(\n",
    "\tunderlying=spx,\n",
    "\ttime=time,\n",
    "\ttypes=np.array([\"C\"]),\n",
    "\tstrikes=np.array([4000]),\n",
    "\texpiries=np.array([\"2022-03-23\"], dtype=np.datetime64),\n",
    "\tmonthly=False,\n",
    ")"
   ]
  },
  {
   "cell_type": "code",
   "execution_count": 8,
   "metadata": {},
   "outputs": [
    {
     "name": "stderr",
     "output_type": "stream",
     "text": [
      "\u001b[32m2024-07-31 04:46:07.704\u001b[0m | \u001b[34m\u001b[1mDEBUG   \u001b[0m | \u001b[36mstochastic_volatility_models.src.models.heston\u001b[0m:\u001b[36mprice\u001b[0m:\u001b[36m213\u001b[0m - \u001b[34m\u001b[1mExtracting parameters for Heston model pricing\u001b[0m\n",
      "\u001b[32m2024-07-31 04:46:07.704\u001b[0m | \u001b[34m\u001b[1mDEBUG   \u001b[0m | \u001b[36mstochastic_volatility_models.src.models.heston\u001b[0m:\u001b[36mprice\u001b[0m:\u001b[36m219\u001b[0m - \u001b[34m\u001b[1mExtracting risk free rates\u001b[0m\n",
      "\u001b[32m2024-07-31 04:46:07.710\u001b[0m | \u001b[34m\u001b[1mDEBUG   \u001b[0m | \u001b[36mstochastic_volatility_models.src.models.heston\u001b[0m:\u001b[36mprice\u001b[0m:\u001b[36m224\u001b[0m - \u001b[34m\u001b[1mExtracting dividend yields\u001b[0m\n",
      "\u001b[32m2024-07-31 04:46:08.499\u001b[0m | \u001b[34m\u001b[1mDEBUG   \u001b[0m | \u001b[36mstochastic_volatility_models.src.models.heston\u001b[0m:\u001b[36mprice\u001b[0m:\u001b[36m232\u001b[0m - \u001b[34m\u001b[1mCalculating integrals in Heston model\u001b[0m\n",
      "Exception ignored on calling ctypes callback function: <function ExecutionEngine._raw_object_cache_notify at 0x16406c400>\n",
      "Traceback (most recent call last):\n",
      "  File \"/Users/mayurankv/Documents/Mayuran/Programming/Projects/Academic/Imperial College London/MSc Statistics/Dissertation/.venv/lib/python3.12/site-packages/llvmlite/binding/executionengine.py\", line 188, in _raw_object_cache_notify\n",
      "    module = self._find_module_ptr(module_ptr)\n",
      "             ^^^^^^^^^^^^^^^^^^^^^^^^^^^^^^^^^\n",
      "  File \"/Users/mayurankv/Documents/Mayuran/Programming/Projects/Academic/Imperial College London/MSc Statistics/Dissertation/.venv/lib/python3.12/site-packages/llvmlite/binding/executionengine.py\", line 151, in _find_module_ptr\n",
      "    if cast(module._ptr, c_void_p).value == ptr:\n",
      "       ^^^^^^^^^^^^^^^^^^^^^^^^^^^\n",
      "  File \"/opt/homebrew/Cellar/python@3.12/3.12.4/Frameworks/Python.framework/Versions/3.12/lib/python3.12/ctypes/__init__.py\", line 518, in cast\n",
      "    return _cast(obj, obj, typ)\n",
      "           ^^^^^^^^^^^^^^^^^^^^\n",
      "KeyboardInterrupt: \n"
     ]
    }
   ],
   "source": [
    "spx_vs.model_price(time, model)"
   ]
  },
  {
   "cell_type": "code",
   "execution_count": null,
   "metadata": {},
   "outputs": [
    {
     "name": "stderr",
     "output_type": "stream",
     "text": [
      "/Users/mayurankv/Documents/Mayuran/Programming/Projects/Academic/Imperial College London/MSc Statistics/Dissertation/.venv/lib/python3.12/site-packages/py_vollib_vectorized/implied_volatility.py:75: UserWarning: Found Below Intrinsic contracts at index [0, 2, 4, 6, 8, 10, 12, 14, 16, 18, 20, 22, 24, 26, 40, 42, 44, 46, 48, 50, 52, 54, 56, 58, 60, 62, 64, 80, 82, 84, 86, 88, 90, 92, 94, 96, 98, 100, 102, 104, 120, 122, 124, 126, 128, 130, 132, 134, 136, 138, 140, 160, 162, 164, 166, 168, 170, 172, 174, 176, 178, 180, 200, 202, 204, 206, 208, 240, 242, 244, 246, 280, 282, 284, 286, 320, 322, 324, 360, 362, 400, 402, 440, 480, 520, 560, 600, 640, 680, 720, 760, 800, 840, 880, 920, 960, 1000, 1040, 1080, 1120, 1160, 1200, 1240, 1280, 1320, 1360, 1400, 2681, 2721, 2761, 2801, 2841, 2881, 2921, 2961, 3001, 3003, 3005, 3041, 3043, 3081, 3083, 3085, 3087, 3121, 3123, 3125, 3127, 3129, 3131, 3161, 3163, 3165, 3167, 3169, 3171, 3173, 3175, 3177, 3179, 3181, 3201, 3203, 3205, 3207, 3209, 3211, 3213, 3215, 3217, 3219, 3221, 3223, 3225, 3227, 3241, 3243, 3245, 3247, 3249, 3251, 3253, 3255, 3257, 3259, 3261, 3263, 3265, 3267, 3269, 3271, 3273, 3275, 3281, 3283, 3285, 3287, 3289, 3291, 3293, 3295, 3297, 3299, 3301, 3303, 3305, 3307, 3309, 3311, 3313, 3315, 3317, 3319]\n",
      "  below_intrinsic, above_max_price = _check_below_and_above_intrinsic(K, F, flag, undiscounted_option_price, on_error)\n",
      "/Users/mayurankv/Documents/Mayuran/Programming/Projects/Academic/Imperial College London/MSc Statistics/Dissertation/.venv/lib/python3.12/site-packages/py_vollib_vectorized/implied_volatility.py:75: UserWarning: Found Below Intrinsic contracts at index [2841, 2881, 3001, 3041, 3043, 3081, 3083, 3085, 3121, 3123, 3125, 3161, 3163, 3165, 3167, 3171, 3201, 3203, 3205, 3207, 3209, 3211, 3213, 3215, 3217, 3221, 3241, 3243, 3245, 3247, 3249, 3251, 3253, 3255, 3257, 3259, 3263, 3265, 3281, 3283, 3285, 3287, 3289, 3291, 3293, 3295, 3297, 3299, 3301, 3303, 3305, 3307]\n",
      "  below_intrinsic, above_max_price = _check_below_and_above_intrinsic(K, F, flag, undiscounted_option_price, on_error)\n"
     ]
    },
    {
     "ename": "TypingError",
     "evalue": "Failed in nopython mode pipeline (step: convert make_function into JIT functions)\nCannot capture the non-constant value associated with variable 'option_parameters' in a function that may escape.\n\nFile \"../modules/stochastic_volatility_models/stochastic_volatility_models/src/models/heston.py\", line 87:\n\tdef price(\n     <source elided>\n\t\tintegral, _ = quad(\n\t\t\tfunc=lambda x: np.real(\n   ^ \n\nThis error may have been caused by the following argument(s):\n- argument 0: Cannot determine Numba type of <class 'stochastic_volatility_models.src.models.heston.HestonModel'>\n- argument 1: Cannot determine Numba type of <class 'stochastic_volatility_models.src.core.underlying.Underlying'>\n- argument 3: Cannot determine Numba type of <class 'dict'>\n",
     "output_type": "error",
     "traceback": [
      "\u001b[0;31m---------------------------------------------------------------------------\u001b[0m",
      "\u001b[0;31mTypingError\u001b[0m                               Traceback (most recent call last)",
      "Cell \u001b[0;32mIn[9], line 1\u001b[0m\n\u001b[0;32m----> 1\u001b[0m \u001b[43mmodel\u001b[49m\u001b[38;5;241;43m.\u001b[39;49m\u001b[43mfit\u001b[49m\u001b[43m(\u001b[49m\n\u001b[1;32m      2\u001b[0m \u001b[43m\t\u001b[49m\u001b[43mindex_volatility_surface\u001b[49m\u001b[38;5;241;43m=\u001b[39;49m\u001b[43mspx_vs\u001b[49m\u001b[43m,\u001b[49m\n\u001b[1;32m      3\u001b[0m \u001b[43m\t\u001b[49m\u001b[43mvolatility_index_volatility_surface\u001b[49m\u001b[38;5;241;43m=\u001b[39;49m\u001b[43mvix_vs\u001b[49m\u001b[43m,\u001b[49m\n\u001b[1;32m      4\u001b[0m \u001b[43m\t\u001b[49m\u001b[43mtime\u001b[49m\u001b[38;5;241;43m=\u001b[39;49m\u001b[43mtime\u001b[49m\u001b[43m,\u001b[49m\n\u001b[1;32m      5\u001b[0m \u001b[43m\t\u001b[49m\u001b[43mpricing_model\u001b[49m\u001b[38;5;241;43m=\u001b[39;49m\u001b[43mPricingModel\u001b[49m\u001b[43m(\u001b[49m\u001b[43m)\u001b[49m\u001b[43m,\u001b[49m\n\u001b[1;32m      6\u001b[0m \u001b[43m)\u001b[49m\n",
      "File \u001b[0;32m~/Documents/Mayuran/Programming/Projects/Academic/Imperial College London/MSc Statistics/Dissertation/Project/modules/stochastic_volatility_models/stochastic_volatility_models/src/core/model.py:84\u001b[0m, in \u001b[0;36mStochasticVolatilityModel.fit\u001b[0;34m(self, index_volatility_surface, volatility_index_volatility_surface, time, pricing_model, weights)\u001b[0m\n\u001b[1;32m     76\u001b[0m \u001b[38;5;28;01mdef\u001b[39;00m \u001b[38;5;21mfit\u001b[39m(\n\u001b[1;32m     77\u001b[0m \t\u001b[38;5;28mself\u001b[39m,\n\u001b[1;32m     78\u001b[0m \tindex_volatility_surface: VolatilitySurface,\n\u001b[0;32m   (...)\u001b[0m\n\u001b[1;32m     82\u001b[0m \tweights: CostFunctionWeights \u001b[38;5;241m=\u001b[39m DEFAULT_COST_FUNCTION_WEIGHTS,\n\u001b[1;32m     83\u001b[0m ) \u001b[38;5;241m-\u001b[39m\u001b[38;5;241m>\u001b[39m \u001b[38;5;28mdict\u001b[39m:\n\u001b[0;32m---> 84\u001b[0m \tresults \u001b[38;5;241m=\u001b[39m \u001b[43mminimise\u001b[49m\u001b[43m(\u001b[49m\n\u001b[1;32m     85\u001b[0m \u001b[43m\t\t\u001b[49m\u001b[43mfun\u001b[49m\u001b[38;5;241;43m=\u001b[39;49m\u001b[43mminimise_cost_function\u001b[49m\u001b[43m,\u001b[49m\n\u001b[1;32m     86\u001b[0m \u001b[43m\t\t\u001b[49m\u001b[43mx0\u001b[49m\u001b[38;5;241;43m=\u001b[39;49m\u001b[43mnp\u001b[49m\u001b[38;5;241;43m.\u001b[39;49m\u001b[43marray\u001b[49m\u001b[43m(\u001b[49m\u001b[38;5;28;43mlist\u001b[39;49m\u001b[43m(\u001b[49m\u001b[38;5;28;43mself\u001b[39;49m\u001b[38;5;241;43m.\u001b[39;49m\u001b[43mparameters\u001b[49m\u001b[38;5;241;43m.\u001b[39;49m\u001b[43mvalues\u001b[49m\u001b[43m(\u001b[49m\u001b[43m)\u001b[49m\u001b[43m)\u001b[49m\u001b[43m)\u001b[49m\u001b[43m,\u001b[49m\n\u001b[1;32m     87\u001b[0m \u001b[43m\t\t\u001b[49m\u001b[43margs\u001b[49m\u001b[38;5;241;43m=\u001b[39;49m\u001b[43m(\u001b[49m\u001b[43mindex_volatility_surface\u001b[49m\u001b[43m,\u001b[49m\u001b[43m \u001b[49m\u001b[43mvolatility_index_volatility_surface\u001b[49m\u001b[43m,\u001b[49m\u001b[43m \u001b[49m\u001b[43mtime\u001b[49m\u001b[43m,\u001b[49m\u001b[43m \u001b[49m\u001b[38;5;28;43mself\u001b[39;49m\u001b[43m,\u001b[49m\u001b[43m \u001b[49m\u001b[43mpricing_model\u001b[49m\u001b[43m,\u001b[49m\u001b[43m \u001b[49m\u001b[43mweights\u001b[49m\u001b[43m)\u001b[49m\u001b[43m,\u001b[49m\n\u001b[1;32m     88\u001b[0m \u001b[43m\t\u001b[49m\u001b[43m)\u001b[49m\n\u001b[1;32m     89\u001b[0m \t\u001b[38;5;28mself\u001b[39m\u001b[38;5;241m.\u001b[39mparameters: Mapping \u001b[38;5;241m=\u001b[39m {parameter_key: parameter \u001b[38;5;28;01mfor\u001b[39;00m parameter_key, parameter \u001b[38;5;129;01min\u001b[39;00m \u001b[38;5;28mzip\u001b[39m(\u001b[38;5;28mself\u001b[39m\u001b[38;5;241m.\u001b[39mparameters\u001b[38;5;241m.\u001b[39mkeys(), results[\u001b[38;5;124m\"\u001b[39m\u001b[38;5;124mx\u001b[39m\u001b[38;5;124m\"\u001b[39m])}\n\u001b[1;32m     91\u001b[0m \t\u001b[38;5;28;01mreturn\u001b[39;00m \u001b[38;5;28mself\u001b[39m\u001b[38;5;241m.\u001b[39mparameters\n",
      "File \u001b[0;32m~/Documents/Mayuran/Programming/Projects/Academic/Imperial College London/MSc Statistics/Dissertation/.venv/lib/python3.12/site-packages/scipy/optimize/_minimize.py:708\u001b[0m, in \u001b[0;36mminimize\u001b[0;34m(fun, x0, args, method, jac, hess, hessp, bounds, constraints, tol, callback, options)\u001b[0m\n\u001b[1;32m    706\u001b[0m     res \u001b[38;5;241m=\u001b[39m _minimize_cg(fun, x0, args, jac, callback, \u001b[38;5;241m*\u001b[39m\u001b[38;5;241m*\u001b[39moptions)\n\u001b[1;32m    707\u001b[0m \u001b[38;5;28;01melif\u001b[39;00m meth \u001b[38;5;241m==\u001b[39m \u001b[38;5;124m'\u001b[39m\u001b[38;5;124mbfgs\u001b[39m\u001b[38;5;124m'\u001b[39m:\n\u001b[0;32m--> 708\u001b[0m     res \u001b[38;5;241m=\u001b[39m \u001b[43m_minimize_bfgs\u001b[49m\u001b[43m(\u001b[49m\u001b[43mfun\u001b[49m\u001b[43m,\u001b[49m\u001b[43m \u001b[49m\u001b[43mx0\u001b[49m\u001b[43m,\u001b[49m\u001b[43m \u001b[49m\u001b[43margs\u001b[49m\u001b[43m,\u001b[49m\u001b[43m \u001b[49m\u001b[43mjac\u001b[49m\u001b[43m,\u001b[49m\u001b[43m \u001b[49m\u001b[43mcallback\u001b[49m\u001b[43m,\u001b[49m\u001b[43m \u001b[49m\u001b[38;5;241;43m*\u001b[39;49m\u001b[38;5;241;43m*\u001b[39;49m\u001b[43moptions\u001b[49m\u001b[43m)\u001b[49m\n\u001b[1;32m    709\u001b[0m \u001b[38;5;28;01melif\u001b[39;00m meth \u001b[38;5;241m==\u001b[39m \u001b[38;5;124m'\u001b[39m\u001b[38;5;124mnewton-cg\u001b[39m\u001b[38;5;124m'\u001b[39m:\n\u001b[1;32m    710\u001b[0m     res \u001b[38;5;241m=\u001b[39m _minimize_newtoncg(fun, x0, args, jac, hess, hessp, callback,\n\u001b[1;32m    711\u001b[0m                              \u001b[38;5;241m*\u001b[39m\u001b[38;5;241m*\u001b[39moptions)\n",
      "File \u001b[0;32m~/Documents/Mayuran/Programming/Projects/Academic/Imperial College London/MSc Statistics/Dissertation/.venv/lib/python3.12/site-packages/scipy/optimize/_optimize.py:1477\u001b[0m, in \u001b[0;36m_minimize_bfgs\u001b[0;34m(fun, x0, args, jac, callback, gtol, norm, eps, maxiter, disp, return_all, finite_diff_rel_step, xrtol, c1, c2, hess_inv0, **unknown_options)\u001b[0m\n\u001b[1;32m   1474\u001b[0m \u001b[38;5;28;01mif\u001b[39;00m maxiter \u001b[38;5;129;01mis\u001b[39;00m \u001b[38;5;28;01mNone\u001b[39;00m:\n\u001b[1;32m   1475\u001b[0m     maxiter \u001b[38;5;241m=\u001b[39m \u001b[38;5;28mlen\u001b[39m(x0) \u001b[38;5;241m*\u001b[39m \u001b[38;5;241m200\u001b[39m\n\u001b[0;32m-> 1477\u001b[0m sf \u001b[38;5;241m=\u001b[39m \u001b[43m_prepare_scalar_function\u001b[49m\u001b[43m(\u001b[49m\u001b[43mfun\u001b[49m\u001b[43m,\u001b[49m\u001b[43m \u001b[49m\u001b[43mx0\u001b[49m\u001b[43m,\u001b[49m\u001b[43m \u001b[49m\u001b[43mjac\u001b[49m\u001b[43m,\u001b[49m\u001b[43m \u001b[49m\u001b[43margs\u001b[49m\u001b[38;5;241;43m=\u001b[39;49m\u001b[43margs\u001b[49m\u001b[43m,\u001b[49m\u001b[43m \u001b[49m\u001b[43mepsilon\u001b[49m\u001b[38;5;241;43m=\u001b[39;49m\u001b[43meps\u001b[49m\u001b[43m,\u001b[49m\n\u001b[1;32m   1478\u001b[0m \u001b[43m                              \u001b[49m\u001b[43mfinite_diff_rel_step\u001b[49m\u001b[38;5;241;43m=\u001b[39;49m\u001b[43mfinite_diff_rel_step\u001b[49m\u001b[43m)\u001b[49m\n\u001b[1;32m   1480\u001b[0m f \u001b[38;5;241m=\u001b[39m sf\u001b[38;5;241m.\u001b[39mfun\n\u001b[1;32m   1481\u001b[0m myfprime \u001b[38;5;241m=\u001b[39m sf\u001b[38;5;241m.\u001b[39mgrad\n",
      "File \u001b[0;32m~/Documents/Mayuran/Programming/Projects/Academic/Imperial College London/MSc Statistics/Dissertation/.venv/lib/python3.12/site-packages/scipy/optimize/_optimize.py:402\u001b[0m, in \u001b[0;36m_prepare_scalar_function\u001b[0;34m(fun, x0, jac, args, bounds, epsilon, finite_diff_rel_step, hess)\u001b[0m\n\u001b[1;32m    398\u001b[0m     bounds \u001b[38;5;241m=\u001b[39m (\u001b[38;5;241m-\u001b[39mnp\u001b[38;5;241m.\u001b[39minf, np\u001b[38;5;241m.\u001b[39minf)\n\u001b[1;32m    400\u001b[0m \u001b[38;5;66;03m# ScalarFunction caches. Reuse of fun(x) during grad\u001b[39;00m\n\u001b[1;32m    401\u001b[0m \u001b[38;5;66;03m# calculation reduces overall function evaluations.\u001b[39;00m\n\u001b[0;32m--> 402\u001b[0m sf \u001b[38;5;241m=\u001b[39m \u001b[43mScalarFunction\u001b[49m\u001b[43m(\u001b[49m\u001b[43mfun\u001b[49m\u001b[43m,\u001b[49m\u001b[43m \u001b[49m\u001b[43mx0\u001b[49m\u001b[43m,\u001b[49m\u001b[43m \u001b[49m\u001b[43margs\u001b[49m\u001b[43m,\u001b[49m\u001b[43m \u001b[49m\u001b[43mgrad\u001b[49m\u001b[43m,\u001b[49m\u001b[43m \u001b[49m\u001b[43mhess\u001b[49m\u001b[43m,\u001b[49m\n\u001b[1;32m    403\u001b[0m \u001b[43m                    \u001b[49m\u001b[43mfinite_diff_rel_step\u001b[49m\u001b[43m,\u001b[49m\u001b[43m \u001b[49m\u001b[43mbounds\u001b[49m\u001b[43m,\u001b[49m\u001b[43m \u001b[49m\u001b[43mepsilon\u001b[49m\u001b[38;5;241;43m=\u001b[39;49m\u001b[43mepsilon\u001b[49m\u001b[43m)\u001b[49m\n\u001b[1;32m    405\u001b[0m \u001b[38;5;28;01mreturn\u001b[39;00m sf\n",
      "File \u001b[0;32m~/Documents/Mayuran/Programming/Projects/Academic/Imperial College London/MSc Statistics/Dissertation/.venv/lib/python3.12/site-packages/scipy/optimize/_differentiable_functions.py:166\u001b[0m, in \u001b[0;36mScalarFunction.__init__\u001b[0;34m(self, fun, x0, args, grad, hess, finite_diff_rel_step, finite_diff_bounds, epsilon)\u001b[0m\n\u001b[1;32m    163\u001b[0m     \u001b[38;5;28mself\u001b[39m\u001b[38;5;241m.\u001b[39mf \u001b[38;5;241m=\u001b[39m fun_wrapped(\u001b[38;5;28mself\u001b[39m\u001b[38;5;241m.\u001b[39mx)\n\u001b[1;32m    165\u001b[0m \u001b[38;5;28mself\u001b[39m\u001b[38;5;241m.\u001b[39m_update_fun_impl \u001b[38;5;241m=\u001b[39m update_fun\n\u001b[0;32m--> 166\u001b[0m \u001b[38;5;28;43mself\u001b[39;49m\u001b[38;5;241;43m.\u001b[39;49m\u001b[43m_update_fun\u001b[49m\u001b[43m(\u001b[49m\u001b[43m)\u001b[49m\n\u001b[1;32m    168\u001b[0m \u001b[38;5;66;03m# Gradient evaluation\u001b[39;00m\n\u001b[1;32m    169\u001b[0m \u001b[38;5;28;01mif\u001b[39;00m \u001b[38;5;28mcallable\u001b[39m(grad):\n",
      "File \u001b[0;32m~/Documents/Mayuran/Programming/Projects/Academic/Imperial College London/MSc Statistics/Dissertation/.venv/lib/python3.12/site-packages/scipy/optimize/_differentiable_functions.py:262\u001b[0m, in \u001b[0;36mScalarFunction._update_fun\u001b[0;34m(self)\u001b[0m\n\u001b[1;32m    260\u001b[0m \u001b[38;5;28;01mdef\u001b[39;00m \u001b[38;5;21m_update_fun\u001b[39m(\u001b[38;5;28mself\u001b[39m):\n\u001b[1;32m    261\u001b[0m     \u001b[38;5;28;01mif\u001b[39;00m \u001b[38;5;129;01mnot\u001b[39;00m \u001b[38;5;28mself\u001b[39m\u001b[38;5;241m.\u001b[39mf_updated:\n\u001b[0;32m--> 262\u001b[0m         \u001b[38;5;28;43mself\u001b[39;49m\u001b[38;5;241;43m.\u001b[39;49m\u001b[43m_update_fun_impl\u001b[49m\u001b[43m(\u001b[49m\u001b[43m)\u001b[49m\n\u001b[1;32m    263\u001b[0m         \u001b[38;5;28mself\u001b[39m\u001b[38;5;241m.\u001b[39mf_updated \u001b[38;5;241m=\u001b[39m \u001b[38;5;28;01mTrue\u001b[39;00m\n",
      "File \u001b[0;32m~/Documents/Mayuran/Programming/Projects/Academic/Imperial College London/MSc Statistics/Dissertation/.venv/lib/python3.12/site-packages/scipy/optimize/_differentiable_functions.py:163\u001b[0m, in \u001b[0;36mScalarFunction.__init__.<locals>.update_fun\u001b[0;34m()\u001b[0m\n\u001b[1;32m    162\u001b[0m \u001b[38;5;28;01mdef\u001b[39;00m \u001b[38;5;21mupdate_fun\u001b[39m():\n\u001b[0;32m--> 163\u001b[0m     \u001b[38;5;28mself\u001b[39m\u001b[38;5;241m.\u001b[39mf \u001b[38;5;241m=\u001b[39m \u001b[43mfun_wrapped\u001b[49m\u001b[43m(\u001b[49m\u001b[38;5;28;43mself\u001b[39;49m\u001b[38;5;241;43m.\u001b[39;49m\u001b[43mx\u001b[49m\u001b[43m)\u001b[49m\n",
      "File \u001b[0;32m~/Documents/Mayuran/Programming/Projects/Academic/Imperial College London/MSc Statistics/Dissertation/.venv/lib/python3.12/site-packages/scipy/optimize/_differentiable_functions.py:145\u001b[0m, in \u001b[0;36mScalarFunction.__init__.<locals>.fun_wrapped\u001b[0;34m(x)\u001b[0m\n\u001b[1;32m    141\u001b[0m \u001b[38;5;28mself\u001b[39m\u001b[38;5;241m.\u001b[39mnfev \u001b[38;5;241m+\u001b[39m\u001b[38;5;241m=\u001b[39m \u001b[38;5;241m1\u001b[39m\n\u001b[1;32m    142\u001b[0m \u001b[38;5;66;03m# Send a copy because the user may overwrite it.\u001b[39;00m\n\u001b[1;32m    143\u001b[0m \u001b[38;5;66;03m# Overwriting results in undefined behaviour because\u001b[39;00m\n\u001b[1;32m    144\u001b[0m \u001b[38;5;66;03m# fun(self.x) will change self.x, with the two no longer linked.\u001b[39;00m\n\u001b[0;32m--> 145\u001b[0m fx \u001b[38;5;241m=\u001b[39m \u001b[43mfun\u001b[49m\u001b[43m(\u001b[49m\u001b[43mnp\u001b[49m\u001b[38;5;241;43m.\u001b[39;49m\u001b[43mcopy\u001b[49m\u001b[43m(\u001b[49m\u001b[43mx\u001b[49m\u001b[43m)\u001b[49m\u001b[43m,\u001b[49m\u001b[43m \u001b[49m\u001b[38;5;241;43m*\u001b[39;49m\u001b[43margs\u001b[49m\u001b[43m)\u001b[49m\n\u001b[1;32m    146\u001b[0m \u001b[38;5;66;03m# Make sure the function returns a true scalar\u001b[39;00m\n\u001b[1;32m    147\u001b[0m \u001b[38;5;28;01mif\u001b[39;00m \u001b[38;5;129;01mnot\u001b[39;00m np\u001b[38;5;241m.\u001b[39misscalar(fx):\n",
      "File \u001b[0;32m~/Documents/Mayuran/Programming/Projects/Academic/Imperial College London/MSc Statistics/Dissertation/Project/modules/stochastic_volatility_models/stochastic_volatility_models/src/core/calibration.py:80\u001b[0m, in \u001b[0;36mminimise_cost_function\u001b[0;34m(parameters, index_volatility_surface, volatility_index_volatility_surface, time, model, pricing_model, weights)\u001b[0m\n\u001b[1;32m     69\u001b[0m \u001b[38;5;28;01mdef\u001b[39;00m \u001b[38;5;21mminimise_cost_function\u001b[39m(\n\u001b[1;32m     70\u001b[0m \tparameters: NDArray[np\u001b[38;5;241m.\u001b[39mfloat64],\n\u001b[1;32m     71\u001b[0m \tindex_volatility_surface: VolatilitySurface,\n\u001b[0;32m   (...)\u001b[0m\n\u001b[1;32m     76\u001b[0m \tweights: CostFunctionWeights,\n\u001b[1;32m     77\u001b[0m ):\n\u001b[1;32m     78\u001b[0m \tmodel\u001b[38;5;241m.\u001b[39mparameters \u001b[38;5;241m=\u001b[39m {parameter_key: parameter \u001b[38;5;28;01mfor\u001b[39;00m parameter_key, parameter \u001b[38;5;129;01min\u001b[39;00m \u001b[38;5;28mzip\u001b[39m(model\u001b[38;5;241m.\u001b[39mparameters\u001b[38;5;241m.\u001b[39mkeys(), parameters)}\n\u001b[0;32m---> 80\u001b[0m \tcost \u001b[38;5;241m=\u001b[39m \u001b[43mcost_function\u001b[49m\u001b[43m(\u001b[49m\n\u001b[1;32m     81\u001b[0m \u001b[43m\t\t\u001b[49m\u001b[43mindex_volatility_surface\u001b[49m\u001b[38;5;241;43m=\u001b[39;49m\u001b[43mindex_volatility_surface\u001b[49m\u001b[43m,\u001b[49m\n\u001b[1;32m     82\u001b[0m \u001b[43m\t\t\u001b[49m\u001b[43mvolatility_index_volatility_surface\u001b[49m\u001b[38;5;241;43m=\u001b[39;49m\u001b[43mvolatility_index_volatility_surface\u001b[49m\u001b[43m,\u001b[49m\n\u001b[1;32m     83\u001b[0m \u001b[43m\t\t\u001b[49m\u001b[43mtime\u001b[49m\u001b[38;5;241;43m=\u001b[39;49m\u001b[43mtime\u001b[49m\u001b[43m,\u001b[49m\n\u001b[1;32m     84\u001b[0m \u001b[43m\t\t\u001b[49m\u001b[43mmodel\u001b[49m\u001b[38;5;241;43m=\u001b[39;49m\u001b[43mmodel\u001b[49m\u001b[43m,\u001b[49m\n\u001b[1;32m     85\u001b[0m \u001b[43m\t\t\u001b[49m\u001b[43mpricing_model\u001b[49m\u001b[38;5;241;43m=\u001b[39;49m\u001b[43mpricing_model\u001b[49m\u001b[43m,\u001b[49m\n\u001b[1;32m     86\u001b[0m \u001b[43m\t\t\u001b[49m\u001b[43mweights\u001b[49m\u001b[38;5;241;43m=\u001b[39;49m\u001b[43mweights\u001b[49m\u001b[43m,\u001b[49m\n\u001b[1;32m     87\u001b[0m \u001b[43m\t\u001b[49m\u001b[43m)\u001b[49m\n\u001b[1;32m     89\u001b[0m \t\u001b[38;5;28;01mreturn\u001b[39;00m cost\n",
      "File \u001b[0;32m~/Documents/Mayuran/Programming/Projects/Academic/Imperial College London/MSc Statistics/Dissertation/Project/modules/stochastic_volatility_models/stochastic_volatility_models/src/core/calibration.py:34\u001b[0m, in \u001b[0;36mcost_function\u001b[0;34m(index_volatility_surface, volatility_index_volatility_surface, time, model, pricing_model, weights)\u001b[0m\n\u001b[1;32m     24\u001b[0m \u001b[38;5;28;01mdef\u001b[39;00m \u001b[38;5;21mcost_function\u001b[39m(\n\u001b[1;32m     25\u001b[0m \tindex_volatility_surface: VolatilitySurface,\n\u001b[1;32m     26\u001b[0m \tvolatility_index_volatility_surface: VolatilitySurface,\n\u001b[0;32m   (...)\u001b[0m\n\u001b[1;32m     30\u001b[0m \tweights: CostFunctionWeights \u001b[38;5;241m=\u001b[39m DEFAULT_COST_FUNCTION_WEIGHTS,\n\u001b[1;32m     31\u001b[0m ) \u001b[38;5;241m-\u001b[39m\u001b[38;5;241m>\u001b[39m \u001b[38;5;28mfloat\u001b[39m:\n\u001b[1;32m     32\u001b[0m \tcost \u001b[38;5;241m=\u001b[39m np\u001b[38;5;241m.\u001b[39msqrt(\n\u001b[1;32m     33\u001b[0m \t\t(\n\u001b[0;32m---> 34\u001b[0m \t\t\t\u001b[43msurface_evaluation\u001b[49m\u001b[43m(\u001b[49m\n\u001b[1;32m     35\u001b[0m \u001b[43m\t\t\t\t\u001b[49m\u001b[43mvolatility_surface\u001b[49m\u001b[38;5;241;43m=\u001b[39;49m\u001b[43mindex_volatility_surface\u001b[49m\u001b[43m,\u001b[49m\n\u001b[1;32m     36\u001b[0m \u001b[43m\t\t\t\t\u001b[49m\u001b[43mtime\u001b[49m\u001b[38;5;241;43m=\u001b[39;49m\u001b[43mtime\u001b[49m\u001b[43m,\u001b[49m\n\u001b[1;32m     37\u001b[0m \u001b[43m\t\t\t\t\u001b[49m\u001b[43mmodel\u001b[49m\u001b[38;5;241;43m=\u001b[39;49m\u001b[43mmodel\u001b[49m\u001b[43m,\u001b[49m\n\u001b[1;32m     38\u001b[0m \u001b[43m\t\t\t\t\u001b[49m\u001b[43mpricing_model\u001b[49m\u001b[38;5;241;43m=\u001b[39;49m\u001b[43mpricing_model\u001b[49m\u001b[43m,\u001b[49m\n\u001b[1;32m     39\u001b[0m \u001b[43m\t\t\t\u001b[49m\u001b[43m)\u001b[49m\n\u001b[1;32m     40\u001b[0m \t\t\t\u001b[38;5;241m+\u001b[39m weights[\u001b[38;5;124m\"\u001b[39m\u001b[38;5;124mvolatility_index\u001b[39m\u001b[38;5;124m\"\u001b[39m]\n\u001b[1;32m     41\u001b[0m \t\t\t\u001b[38;5;241m*\u001b[39m surface_evaluation(\n\u001b[1;32m     42\u001b[0m \t\t\t\tvolatility_surface\u001b[38;5;241m=\u001b[39mvolatility_index_volatility_surface,\n\u001b[1;32m     43\u001b[0m \t\t\t\ttime\u001b[38;5;241m=\u001b[39mtime,\n\u001b[1;32m     44\u001b[0m \t\t\t\tmodel\u001b[38;5;241m=\u001b[39mmodel,\n\u001b[1;32m     45\u001b[0m \t\t\t\tpricing_model\u001b[38;5;241m=\u001b[39mpricing_model,\n\u001b[1;32m     46\u001b[0m \t\t\t)\n\u001b[1;32m     47\u001b[0m \t\t\t\u001b[38;5;241m+\u001b[39m weights[\u001b[38;5;124m\"\u001b[39m\u001b[38;5;124mskew\u001b[39m\u001b[38;5;124m\"\u001b[39m]\n\u001b[1;32m     48\u001b[0m \t\t\t\u001b[38;5;241m*\u001b[39m surface_atm_skew(\n\u001b[1;32m     49\u001b[0m \t\t\t\tvolatility_surface\u001b[38;5;241m=\u001b[39mindex_volatility_surface,\n\u001b[1;32m     50\u001b[0m \t\t\t\ttime\u001b[38;5;241m=\u001b[39mtime,\n\u001b[1;32m     51\u001b[0m \t\t\t\tmodel\u001b[38;5;241m=\u001b[39mmodel,\n\u001b[1;32m     52\u001b[0m \t\t\t\tpricing_model\u001b[38;5;241m=\u001b[39mpricing_model,\n\u001b[1;32m     53\u001b[0m \t\t\t)\n\u001b[1;32m     54\u001b[0m \t\t\t\u001b[38;5;241m+\u001b[39m weights[\u001b[38;5;124m\"\u001b[39m\u001b[38;5;124mskew\u001b[39m\u001b[38;5;124m\"\u001b[39m]\n\u001b[1;32m     55\u001b[0m \t\t\t\u001b[38;5;241m*\u001b[39m weights[\u001b[38;5;124m\"\u001b[39m\u001b[38;5;124mvolatility_index\u001b[39m\u001b[38;5;124m\"\u001b[39m]\n\u001b[1;32m     56\u001b[0m \t\t\t\u001b[38;5;241m*\u001b[39m surface_atm_skew(\n\u001b[1;32m     57\u001b[0m \t\t\t\tvolatility_surface\u001b[38;5;241m=\u001b[39mvolatility_index_volatility_surface,\n\u001b[1;32m     58\u001b[0m \t\t\t\ttime\u001b[38;5;241m=\u001b[39mtime,\n\u001b[1;32m     59\u001b[0m \t\t\t\tmodel\u001b[38;5;241m=\u001b[39mmodel,\n\u001b[1;32m     60\u001b[0m \t\t\t\tpricing_model\u001b[38;5;241m=\u001b[39mpricing_model,\n\u001b[1;32m     61\u001b[0m \t\t\t)\n\u001b[1;32m     62\u001b[0m \t\t)\n\u001b[1;32m     63\u001b[0m \t\t\u001b[38;5;241m/\u001b[39m (\u001b[38;5;241m1\u001b[39m \u001b[38;5;241m+\u001b[39m weights[\u001b[38;5;124m\"\u001b[39m\u001b[38;5;124mvolatility_index\u001b[39m\u001b[38;5;124m\"\u001b[39m])\n\u001b[1;32m     64\u001b[0m \t)\n\u001b[1;32m     66\u001b[0m \t\u001b[38;5;28;01mreturn\u001b[39;00m cost\n",
      "File \u001b[0;32m~/Documents/Mayuran/Programming/Projects/Academic/Imperial College London/MSc Statistics/Dissertation/Project/modules/stochastic_volatility_models/stochastic_volatility_models/src/core/evaluation_functions.py:32\u001b[0m, in \u001b[0;36msurface_evaluation\u001b[0;34m(volatility_surface, time, model, pricing_model, prices, metric)\u001b[0m\n\u001b[1;32m     22\u001b[0m \t\u001b[38;5;28;01mraise\u001b[39;00m \u001b[38;5;167;01mValueError\u001b[39;00m(\u001b[38;5;124m\"\u001b[39m\u001b[38;5;124mIf evaluating volatilities, a pricing model must be provided\u001b[39m\u001b[38;5;124m\"\u001b[39m)\n\u001b[1;32m     23\u001b[0m kwargs \u001b[38;5;241m=\u001b[39m {} \u001b[38;5;28;01mif\u001b[39;00m prices \u001b[38;5;28;01melse\u001b[39;00m {\u001b[38;5;124m\"\u001b[39m\u001b[38;5;124mpricing_model\u001b[39m\u001b[38;5;124m\"\u001b[39m: pricing_model}\n\u001b[1;32m     24\u001b[0m loss \u001b[38;5;241m=\u001b[39m METRICS[metric](\n\u001b[1;32m     25\u001b[0m \tvolatility_surface\u001b[38;5;241m.\u001b[39msurface_quantities(\n\u001b[1;32m     26\u001b[0m \t\ttime\u001b[38;5;241m=\u001b[39mtime,\n\u001b[1;32m     27\u001b[0m \t\tquantity_method\u001b[38;5;241m=\u001b[39m\u001b[38;5;124m\"\u001b[39m\u001b[38;5;124mempirical_price\u001b[39m\u001b[38;5;124m\"\u001b[39m \u001b[38;5;28;01mif\u001b[39;00m prices \u001b[38;5;28;01melse\u001b[39;00m \u001b[38;5;124m\"\u001b[39m\u001b[38;5;124mempirical_pricing_implied_volatility\u001b[39m\u001b[38;5;124m\"\u001b[39m,\n\u001b[1;32m     28\u001b[0m \t\tprice_types\u001b[38;5;241m=\u001b[39m[\u001b[38;5;124m\"\u001b[39m\u001b[38;5;124mMid\u001b[39m\u001b[38;5;124m\"\u001b[39m],\n\u001b[1;32m     29\u001b[0m \t\tout_the_money\u001b[38;5;241m=\u001b[39m\u001b[38;5;28;01mTrue\u001b[39;00m,\n\u001b[1;32m     30\u001b[0m \t\t\u001b[38;5;241m*\u001b[39m\u001b[38;5;241m*\u001b[39mkwargs,\n\u001b[1;32m     31\u001b[0m \t)[\u001b[38;5;241m0\u001b[39m]\u001b[38;5;241m.\u001b[39mvalues,\n\u001b[0;32m---> 32\u001b[0m \t\u001b[43mvolatility_surface\u001b[49m\u001b[38;5;241;43m.\u001b[39;49m\u001b[43msurface_quantities\u001b[49m\u001b[43m(\u001b[49m\n\u001b[1;32m     33\u001b[0m \u001b[43m\t\t\u001b[49m\u001b[43mtime\u001b[49m\u001b[38;5;241;43m=\u001b[39;49m\u001b[43mtime\u001b[49m\u001b[43m,\u001b[49m\n\u001b[1;32m     34\u001b[0m \u001b[43m\t\t\u001b[49m\u001b[43mquantity_method\u001b[49m\u001b[38;5;241;43m=\u001b[39;49m\u001b[38;5;124;43m\"\u001b[39;49m\u001b[38;5;124;43mmodel_price\u001b[39;49m\u001b[38;5;124;43m\"\u001b[39;49m\u001b[43m \u001b[49m\u001b[38;5;28;43;01mif\u001b[39;49;00m\u001b[43m \u001b[49m\u001b[43mprices\u001b[49m\u001b[43m \u001b[49m\u001b[38;5;28;43;01melse\u001b[39;49;00m\u001b[43m \u001b[49m\u001b[38;5;124;43m\"\u001b[39;49m\u001b[38;5;124;43mmodel_pricing_implied_volatility\u001b[39;49m\u001b[38;5;124;43m\"\u001b[39;49m\u001b[43m,\u001b[49m\n\u001b[1;32m     35\u001b[0m \u001b[43m\t\t\u001b[49m\u001b[43mprice_types\u001b[49m\u001b[38;5;241;43m=\u001b[39;49m\u001b[43m[\u001b[49m\u001b[38;5;124;43m\"\u001b[39;49m\u001b[38;5;124;43mMid\u001b[39;49m\u001b[38;5;124;43m\"\u001b[39;49m\u001b[43m]\u001b[49m\u001b[43m,\u001b[49m\n\u001b[1;32m     36\u001b[0m \u001b[43m\t\t\u001b[49m\u001b[43mout_the_money\u001b[49m\u001b[38;5;241;43m=\u001b[39;49m\u001b[38;5;28;43;01mTrue\u001b[39;49;00m\u001b[43m,\u001b[49m\n\u001b[1;32m     37\u001b[0m \u001b[43m\t\t\u001b[49m\u001b[43mmodel\u001b[49m\u001b[38;5;241;43m=\u001b[39;49m\u001b[43mmodel\u001b[49m\u001b[43m,\u001b[49m\n\u001b[1;32m     38\u001b[0m \u001b[43m\t\t\u001b[49m\u001b[38;5;241;43m*\u001b[39;49m\u001b[38;5;241;43m*\u001b[39;49m\u001b[43mkwargs\u001b[49m\u001b[43m,\u001b[49m\n\u001b[1;32m     39\u001b[0m \u001b[43m\t\u001b[49m\u001b[43m)\u001b[49m[\u001b[38;5;241m0\u001b[39m]\u001b[38;5;241m.\u001b[39mvalues,\n\u001b[1;32m     40\u001b[0m )\n\u001b[1;32m     42\u001b[0m \u001b[38;5;28;01mreturn\u001b[39;00m loss\n",
      "File \u001b[0;32m~/Documents/Mayuran/Programming/Projects/Academic/Imperial College London/MSc Statistics/Dissertation/Project/modules/stochastic_volatility_models/stochastic_volatility_models/src/core/volatility_surface.py:139\u001b[0m, in \u001b[0;36mVolatilitySurface.surface_quantities\u001b[0;34m(self, time, quantity_method, price_types, out_the_money, *args, **kwargs)\u001b[0m\n\u001b[1;32m    126\u001b[0m \u001b[38;5;28;01mdef\u001b[39;00m \u001b[38;5;21msurface_quantities\u001b[39m(\n\u001b[1;32m    127\u001b[0m \t\u001b[38;5;28mself\u001b[39m,\n\u001b[1;32m    128\u001b[0m \ttime: np\u001b[38;5;241m.\u001b[39mdatetime64,\n\u001b[0;32m   (...)\u001b[0m\n\u001b[1;32m    133\u001b[0m \t\u001b[38;5;241m*\u001b[39m\u001b[38;5;241m*\u001b[39mkwargs,\n\u001b[1;32m    134\u001b[0m ) \u001b[38;5;241m-\u001b[39m\u001b[38;5;241m>\u001b[39m \u001b[38;5;28mlist\u001b[39m[DataFrame]:\n\u001b[1;32m    135\u001b[0m \tsurface_symbols \u001b[38;5;241m=\u001b[39m \u001b[38;5;28mself\u001b[39m\u001b[38;5;241m.\u001b[39msurface_symbols(\n\u001b[1;32m    136\u001b[0m \t\ttime\u001b[38;5;241m=\u001b[39mtime,\n\u001b[1;32m    137\u001b[0m \t\tout_the_money\u001b[38;5;241m=\u001b[39mout_the_money,\n\u001b[1;32m    138\u001b[0m \t)\n\u001b[0;32m--> 139\u001b[0m \tquantities: DataFrame \u001b[38;5;241m=\u001b[39m \u001b[38;5;28;43mgetattr\u001b[39;49m\u001b[43m(\u001b[49m\u001b[38;5;28;43mself\u001b[39;49m\u001b[43m,\u001b[49m\u001b[43m \u001b[49m\u001b[43mquantity_method\u001b[49m\u001b[43m)\u001b[49m\u001b[43m(\u001b[49m\u001b[43mtime\u001b[49m\u001b[38;5;241;43m=\u001b[39;49m\u001b[43mtime\u001b[49m\u001b[43m,\u001b[49m\u001b[43m \u001b[49m\u001b[38;5;241;43m*\u001b[39;49m\u001b[43margs\u001b[49m\u001b[43m,\u001b[49m\u001b[43m \u001b[49m\u001b[38;5;241;43m*\u001b[39;49m\u001b[38;5;241;43m*\u001b[39;49m\u001b[43mkwargs\u001b[49m\u001b[43m)\u001b[49m\n\u001b[1;32m    140\u001b[0m \tsurfaces \u001b[38;5;241m=\u001b[39m [surface_symbols[\u001b[38;5;124m\"\u001b[39m\u001b[38;5;124mSymbol\u001b[39m\u001b[38;5;124m\"\u001b[39m]\u001b[38;5;241m.\u001b[39mmap(quantities[price_type])\u001b[38;5;241m.\u001b[39mto_frame() \u001b[38;5;28;01mfor\u001b[39;00m price_type \u001b[38;5;129;01min\u001b[39;00m price_types]\n\u001b[1;32m    142\u001b[0m \t\u001b[38;5;28;01mreturn\u001b[39;00m surfaces\n",
      "File \u001b[0;32m~/Documents/Mayuran/Programming/Projects/Academic/Imperial College London/MSc Statistics/Dissertation/Project/modules/stochastic_volatility_models/stochastic_volatility_models/src/core/volatility_surface.py:118\u001b[0m, in \u001b[0;36mVolatilitySurface.model_pricing_implied_volatility\u001b[0;34m(self, model, pricing_model, time)\u001b[0m\n\u001b[1;32m    111\u001b[0m \u001b[38;5;28;01mdef\u001b[39;00m \u001b[38;5;21mmodel_pricing_implied_volatility\u001b[39m(\n\u001b[1;32m    112\u001b[0m \t\u001b[38;5;28mself\u001b[39m,\n\u001b[1;32m    113\u001b[0m \tmodel: StochasticVolatilityModel,\n\u001b[1;32m    114\u001b[0m \tpricing_model: PricingModel,\n\u001b[1;32m    115\u001b[0m \ttime: np\u001b[38;5;241m.\u001b[39mdatetime64,\n\u001b[1;32m    116\u001b[0m ) \u001b[38;5;241m-\u001b[39m\u001b[38;5;241m>\u001b[39m DataFrame:\n\u001b[1;32m    117\u001b[0m \tmodel_pricing_implied_volatilities \u001b[38;5;241m=\u001b[39m pricing_model\u001b[38;5;241m.\u001b[39mprice_implied_volatility(\n\u001b[0;32m--> 118\u001b[0m \t\tprices\u001b[38;5;241m=\u001b[39m\u001b[38;5;28;43mself\u001b[39;49m\u001b[38;5;241;43m.\u001b[39;49m\u001b[43mmodel_price\u001b[49m\u001b[43m(\u001b[49m\u001b[43mmodel\u001b[49m\u001b[38;5;241;43m=\u001b[39;49m\u001b[43mmodel\u001b[49m\u001b[43m,\u001b[49m\u001b[43m \u001b[49m\u001b[43mtime\u001b[49m\u001b[38;5;241;43m=\u001b[39;49m\u001b[43mtime\u001b[49m\u001b[43m)\u001b[49m,\n\u001b[1;32m    119\u001b[0m \t\ttime\u001b[38;5;241m=\u001b[39mtime,\n\u001b[1;32m    120\u001b[0m \t\tunderlying\u001b[38;5;241m=\u001b[39m\u001b[38;5;28mself\u001b[39m\u001b[38;5;241m.\u001b[39munderlying,\n\u001b[1;32m    121\u001b[0m \t\tmonthly\u001b[38;5;241m=\u001b[39m\u001b[38;5;28mself\u001b[39m\u001b[38;5;241m.\u001b[39mmonthly,\n\u001b[1;32m    122\u001b[0m \t)\n\u001b[1;32m    124\u001b[0m \t\u001b[38;5;28;01mreturn\u001b[39;00m model_pricing_implied_volatilities\n",
      "File \u001b[0;32m~/Documents/Mayuran/Programming/Projects/Academic/Imperial College London/MSc Statistics/Dissertation/Project/modules/stochastic_volatility_models/stochastic_volatility_models/src/core/volatility_surface.py:103\u001b[0m, in \u001b[0;36mVolatilitySurface.model_price\u001b[0;34m(self, time, model)\u001b[0m\n\u001b[1;32m     98\u001b[0m \u001b[38;5;28;01mdef\u001b[39;00m \u001b[38;5;21mmodel_price\u001b[39m(\n\u001b[1;32m     99\u001b[0m \t\u001b[38;5;28mself\u001b[39m,\n\u001b[1;32m    100\u001b[0m \ttime: np\u001b[38;5;241m.\u001b[39mdatetime64,\n\u001b[1;32m    101\u001b[0m \tmodel: StochasticVolatilityModel,\n\u001b[1;32m    102\u001b[0m ) \u001b[38;5;241m-\u001b[39m\u001b[38;5;241m>\u001b[39m DataFrame:\n\u001b[0;32m--> 103\u001b[0m \tmodel_prices \u001b[38;5;241m=\u001b[39m \u001b[43mmodel\u001b[49m\u001b[38;5;241;43m.\u001b[39;49m\u001b[43mprice_surface\u001b[49m\u001b[43m(\u001b[49m\n\u001b[1;32m    104\u001b[0m \u001b[43m\t\t\u001b[49m\u001b[43mtime\u001b[49m\u001b[38;5;241;43m=\u001b[39;49m\u001b[43mtime\u001b[49m\u001b[43m,\u001b[49m\n\u001b[1;32m    105\u001b[0m \u001b[43m\t\t\u001b[49m\u001b[43munderlying\u001b[49m\u001b[38;5;241;43m=\u001b[39;49m\u001b[38;5;28;43mself\u001b[39;49m\u001b[38;5;241;43m.\u001b[39;49m\u001b[43munderlying\u001b[49m\u001b[43m,\u001b[49m\n\u001b[1;32m    106\u001b[0m \u001b[43m\t\t\u001b[49m\u001b[43msymbols\u001b[49m\u001b[38;5;241;43m=\u001b[39;49m\u001b[38;5;28;43mself\u001b[39;49m\u001b[38;5;241;43m.\u001b[39;49m\u001b[43moptions\u001b[49m\u001b[38;5;241;43m.\u001b[39;49m\u001b[43mvalues\u001b[49m\u001b[38;5;241;43m.\u001b[39;49m\u001b[43mravel\u001b[49m\u001b[43m(\u001b[49m\u001b[43m)\u001b[49m\u001b[43m,\u001b[49m\n\u001b[1;32m    107\u001b[0m \u001b[43m\t\u001b[49m\u001b[43m)\u001b[49m\n\u001b[1;32m    109\u001b[0m \t\u001b[38;5;28;01mreturn\u001b[39;00m model_prices\n",
      "File \u001b[0;32m~/Documents/Mayuran/Programming/Projects/Academic/Imperial College London/MSc Statistics/Dissertation/Project/modules/stochastic_volatility_models/stochastic_volatility_models/src/core/model.py:63\u001b[0m, in \u001b[0;36mStochasticVolatilityModel.price_surface\u001b[0;34m(self, underlying, time, symbols)\u001b[0m\n\u001b[1;32m     55\u001b[0m \u001b[38;5;28;01mdef\u001b[39;00m \u001b[38;5;21mprice_surface\u001b[39m(\n\u001b[1;32m     56\u001b[0m \t\u001b[38;5;28mself\u001b[39m,\n\u001b[1;32m     57\u001b[0m \tunderlying: Underlying,\n\u001b[1;32m     58\u001b[0m \ttime: np\u001b[38;5;241m.\u001b[39mdatetime64,\n\u001b[1;32m     59\u001b[0m \tsymbols: NDArray[\u001b[38;5;28mstr\u001b[39m],  \u001b[38;5;66;03m# type: ignore\u001b[39;00m\n\u001b[1;32m     60\u001b[0m ) \u001b[38;5;241m-\u001b[39m\u001b[38;5;241m>\u001b[39m DataFrame:\n\u001b[1;32m     61\u001b[0m \tprices \u001b[38;5;241m=\u001b[39m DataFrame(data\u001b[38;5;241m=\u001b[39m\u001b[38;5;28;01mNone\u001b[39;00m, index\u001b[38;5;241m=\u001b[39msymbols, columns\u001b[38;5;241m=\u001b[39m[\u001b[38;5;124m\"\u001b[39m\u001b[38;5;124mMid\u001b[39m\u001b[38;5;124m\"\u001b[39m])\n\u001b[1;32m     62\u001b[0m \tprices[\u001b[38;5;124m\"\u001b[39m\u001b[38;5;124mMid\u001b[39m\u001b[38;5;124m\"\u001b[39m] \u001b[38;5;241m=\u001b[39m [\n\u001b[0;32m---> 63\u001b[0m \t\t\u001b[38;5;28;43mself\u001b[39;49m\u001b[38;5;241;43m.\u001b[39;49m\u001b[43mprice\u001b[49m\u001b[43m(\u001b[49m\n\u001b[1;32m     64\u001b[0m \u001b[43m\t\t\t\u001b[49m\u001b[43munderlying\u001b[49m\u001b[38;5;241;43m=\u001b[39;49m\u001b[43munderlying\u001b[49m\u001b[43m,\u001b[49m\n\u001b[1;32m     65\u001b[0m \u001b[43m\t\t\t\u001b[49m\u001b[43mtime\u001b[49m\u001b[38;5;241;43m=\u001b[39;49m\u001b[43mtime\u001b[49m\u001b[43m,\u001b[49m\n\u001b[1;32m     66\u001b[0m \u001b[43m\t\t\t\u001b[49m\u001b[43moption_parameters\u001b[49m\u001b[38;5;241;43m=\u001b[39;49m\u001b[43mget_option_parameters\u001b[49m\u001b[43m(\u001b[49m\n\u001b[1;32m     67\u001b[0m \u001b[43m\t\t\t\t\u001b[49m\u001b[43mticker\u001b[49m\u001b[38;5;241;43m=\u001b[39;49m\u001b[43munderlying\u001b[49m\u001b[38;5;241;43m.\u001b[39;49m\u001b[43mticker\u001b[49m\u001b[43m,\u001b[49m\n\u001b[1;32m     68\u001b[0m \u001b[43m\t\t\t\t\u001b[49m\u001b[43msymbol\u001b[49m\u001b[38;5;241;43m=\u001b[39;49m\u001b[43msymbol\u001b[49m\u001b[43m,\u001b[49m\n\u001b[1;32m     69\u001b[0m \u001b[43m\t\t\t\u001b[49m\u001b[43m)\u001b[49m\u001b[43m,\u001b[49m\n\u001b[1;32m     70\u001b[0m \u001b[43m\t\t\u001b[49m\u001b[43m)\u001b[49m\n\u001b[1;32m     71\u001b[0m \t\t\u001b[38;5;28;01mfor\u001b[39;00m symbol \u001b[38;5;129;01min\u001b[39;00m prices\u001b[38;5;241m.\u001b[39mindex\n\u001b[1;32m     72\u001b[0m \t]\n\u001b[1;32m     74\u001b[0m \t\u001b[38;5;28;01mreturn\u001b[39;00m prices\n",
      "File \u001b[0;32m~/Documents/Mayuran/Programming/Projects/Academic/Imperial College London/MSc Statistics/Dissertation/.venv/lib/python3.12/site-packages/numba/core/dispatcher.py:423\u001b[0m, in \u001b[0;36m_DispatcherBase._compile_for_args\u001b[0;34m(self, *args, **kws)\u001b[0m\n\u001b[1;32m    419\u001b[0m         msg \u001b[38;5;241m=\u001b[39m (\u001b[38;5;124mf\u001b[39m\u001b[38;5;124m\"\u001b[39m\u001b[38;5;132;01m{\u001b[39;00m\u001b[38;5;28mstr\u001b[39m(e)\u001b[38;5;241m.\u001b[39mrstrip()\u001b[38;5;132;01m}\u001b[39;00m\u001b[38;5;124m \u001b[39m\u001b[38;5;130;01m\\n\u001b[39;00m\u001b[38;5;130;01m\\n\u001b[39;00m\u001b[38;5;124mThis error may have been caused \u001b[39m\u001b[38;5;124m\"\u001b[39m\n\u001b[1;32m    420\u001b[0m                \u001b[38;5;124mf\u001b[39m\u001b[38;5;124m\"\u001b[39m\u001b[38;5;124mby the following argument(s):\u001b[39m\u001b[38;5;130;01m\\n\u001b[39;00m\u001b[38;5;132;01m{\u001b[39;00margs_str\u001b[38;5;132;01m}\u001b[39;00m\u001b[38;5;130;01m\\n\u001b[39;00m\u001b[38;5;124m\"\u001b[39m)\n\u001b[1;32m    421\u001b[0m         e\u001b[38;5;241m.\u001b[39mpatch_message(msg)\n\u001b[0;32m--> 423\u001b[0m     \u001b[43merror_rewrite\u001b[49m\u001b[43m(\u001b[49m\u001b[43me\u001b[49m\u001b[43m,\u001b[49m\u001b[43m \u001b[49m\u001b[38;5;124;43m'\u001b[39;49m\u001b[38;5;124;43mtyping\u001b[39;49m\u001b[38;5;124;43m'\u001b[39;49m\u001b[43m)\u001b[49m\n\u001b[1;32m    424\u001b[0m \u001b[38;5;28;01mexcept\u001b[39;00m errors\u001b[38;5;241m.\u001b[39mUnsupportedError \u001b[38;5;28;01mas\u001b[39;00m e:\n\u001b[1;32m    425\u001b[0m     \u001b[38;5;66;03m# Something unsupported is present in the user code, add help info\u001b[39;00m\n\u001b[1;32m    426\u001b[0m     error_rewrite(e, \u001b[38;5;124m'\u001b[39m\u001b[38;5;124munsupported_error\u001b[39m\u001b[38;5;124m'\u001b[39m)\n",
      "File \u001b[0;32m~/Documents/Mayuran/Programming/Projects/Academic/Imperial College London/MSc Statistics/Dissertation/.venv/lib/python3.12/site-packages/numba/core/dispatcher.py:364\u001b[0m, in \u001b[0;36m_DispatcherBase._compile_for_args.<locals>.error_rewrite\u001b[0;34m(e, issue_type)\u001b[0m\n\u001b[1;32m    362\u001b[0m     \u001b[38;5;28;01mraise\u001b[39;00m e\n\u001b[1;32m    363\u001b[0m \u001b[38;5;28;01melse\u001b[39;00m:\n\u001b[0;32m--> 364\u001b[0m     \u001b[38;5;28;01mraise\u001b[39;00m e\u001b[38;5;241m.\u001b[39mwith_traceback(\u001b[38;5;28;01mNone\u001b[39;00m)\n",
      "\u001b[0;31mTypingError\u001b[0m: Failed in nopython mode pipeline (step: convert make_function into JIT functions)\nCannot capture the non-constant value associated with variable 'option_parameters' in a function that may escape.\n\nFile \"../modules/stochastic_volatility_models/stochastic_volatility_models/src/models/heston.py\", line 87:\n\tdef price(\n     <source elided>\n\t\tintegral, _ = quad(\n\t\t\tfunc=lambda x: np.real(\n   ^ \n\nThis error may have been caused by the following argument(s):\n- argument 0: Cannot determine Numba type of <class 'stochastic_volatility_models.src.models.heston.HestonModel'>\n- argument 1: Cannot determine Numba type of <class 'stochastic_volatility_models.src.core.underlying.Underlying'>\n- argument 3: Cannot determine Numba type of <class 'dict'>\n"
     ]
    }
   ],
   "source": [
    "model.fit(\n",
    "\tindex_volatility_surface=spx_vs,\n",
    "\tvolatility_index_volatility_surface=vix_vs,\n",
    "\ttime=time,\n",
    "\tpricing_model=PricingModel(),\n",
    ")"
   ]
  }
 ],
 "metadata": {
  "kernelspec": {
   "display_name": ".venv",
   "language": "python",
   "name": "python3"
  },
  "language_info": {
   "codemirror_mode": {
    "name": "ipython",
    "version": 3
   },
   "file_extension": ".py",
   "mimetype": "text/x-python",
   "name": "python",
   "nbconvert_exporter": "python",
   "pygments_lexer": "ipython3",
   "version": "3.12.4"
  }
 },
 "nbformat": 4,
 "nbformat_minor": 2
}
