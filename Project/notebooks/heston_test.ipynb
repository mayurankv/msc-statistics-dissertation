{
 "cells": [
  {
   "cell_type": "code",
   "execution_count": 33,
   "metadata": {},
   "outputs": [],
   "source": [
    "from datetime import datetime"
   ]
  },
  {
   "cell_type": "code",
   "execution_count": 31,
   "metadata": {},
   "outputs": [],
   "source": [
    "from stochastic_volatility_models.src.models.heston import HestonModel\n",
    "from assets.src.core.underlying import _Underlying\n",
    "from assets.src.utils.expiry import time_to_expiry"
   ]
  },
  {
   "cell_type": "code",
   "execution_count": 2,
   "metadata": {},
   "outputs": [],
   "source": [
    "model = HestonModel(\n",
    "\tparameters={\n",
    "\t\t\"initial_variance\": 0.05,\n",
    "\t\t\"long_term_volatility\": 0.05,\n",
    "\t\t\"volatility_of_volatility\": 0.3,\n",
    "\t\t\"mean_reversion_rate\": 2.0,\n",
    "\t\t\"wiener_correlation\": -0.5,\n",
    "\t}\n",
    ")"
   ]
  },
  {
   "cell_type": "code",
   "execution_count": 27,
   "metadata": {},
   "outputs": [],
   "source": [
    "class U(_Underlying):\n",
    "\tdef price(\n",
    "\t\tself,\n",
    "\t\ttime: datetime,\n",
    "\t) -> float:\n",
    "\t\t# Pull price\n",
    "\t\treturn 100"
   ]
  },
  {
   "cell_type": "code",
   "execution_count": 30,
   "metadata": {},
   "outputs": [
    {
     "name": "stdout",
     "output_type": "stream",
     "text": [
      "27.62612362518923 15.058290049917872\n",
      "1.0\n"
     ]
    }
   ],
   "source": [
    "print(\n",
    "\tmodel.option_price(\n",
    "\t\tvolatility=None,\n",
    "\t\ttime=datetime(2024, 1, 1),\n",
    "\t\tunderlying=U(\"TEST\"),\n",
    "\t\trisk_free_rate=0.05,\n",
    "\t\toption_parameters={\n",
    "\t\t\t\"type\": \"C\",\n",
    "\t\t\t\"strike\": 100,\n",
    "\t\t\t\"expiry\": datetime(2024, 12, 31),\n",
    "\t\t},\n",
    "\t),\n",
    "\tmodel.option_price(\n",
    "\t\tvolatility=None,\n",
    "\t\ttime=datetime(2024, 1, 1),\n",
    "\t\tunderlying=U(\"TEST\"),\n",
    "\t\trisk_free_rate=0.05,\n",
    "\t\toption_parameters={\n",
    "\t\t\t\"type\": \"P\",\n",
    "\t\t\t\"strike\": 100,\n",
    "\t\t\t\"expiry\": datetime(2024, 12, 31),\n",
    "\t\t},\n",
    "\t),\n",
    ")\n",
    "print(\n",
    "\ttime_to_expiry(\n",
    "\t\ttime=datetime(2024, 1, 1),\n",
    "\t\toption_expiry=datetime(2024, 12, 31),\n",
    "\t)\n",
    ")"
   ]
  },
  {
   "cell_type": "code",
   "execution_count": 21,
   "metadata": {},
   "outputs": [
    {
     "data": {
      "text/plain": [
       "datetime.timedelta(days=425)"
      ]
     },
     "execution_count": 21,
     "metadata": {},
     "output_type": "execute_result"
    }
   ],
   "source": [
    "datetime(2025, 3, 1) - datetime(2024, 1, 1)"
   ]
  }
 ],
 "metadata": {
  "kernelspec": {
   "display_name": ".venv",
   "language": "python",
   "name": "python3"
  },
  "language_info": {
   "codemirror_mode": {
    "name": "ipython",
    "version": 3
   },
   "file_extension": ".py",
   "mimetype": "text/x-python",
   "name": "python",
   "nbconvert_exporter": "python",
   "pygments_lexer": "ipython3",
   "version": "3.12.4"
  }
 },
 "nbformat": 4,
 "nbformat_minor": 2
}
