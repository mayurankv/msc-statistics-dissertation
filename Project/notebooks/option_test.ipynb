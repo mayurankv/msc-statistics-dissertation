{
 "cells": [
  {
   "cell_type": "code",
   "execution_count": 1,
   "metadata": {},
   "outputs": [
    {
     "name": "stderr",
     "output_type": "stream",
     "text": [
      "\u001b[32m2024-07-26 12:49:07.401\u001b[0m | \u001b[1mINFO    \u001b[0m | \u001b[36mstochastic_volatility_models.config\u001b[0m:\u001b[36minitialise\u001b[0m:\u001b[36m30\u001b[0m - \u001b[1mLoaded module `stochastic_volatility_models` from project directory path `/Users/mayurankv/Documents/Mayuran/Programming/Projects/Academic/Imperial College London/MSc Statistics/Dissertation/Project/modules`\u001b[0m\n"
     ]
    }
   ],
   "source": [
    "import numpy as np\n",
    "from stochastic_volatility_models.src.core.underlying import Underlying\n",
    "from stochastic_volatility_models.src.core.options import VolatilitySurface\n",
    "from stochastic_volatility_models.src.core.pricing_models import PricingModel"
   ]
  },
  {
   "cell_type": "code",
   "execution_count": 2,
   "metadata": {},
   "outputs": [],
   "source": [
    "spx = Underlying(\"SPX\")\n",
    "spx_vs = VolatilitySurface(\n",
    "\tunderlying=spx,\n",
    "\texpiries=np.array([np.datetime64(\"2023-03-22\")]),\n",
    "\tstrikes=np.array([3800, 4000, 4600]),\n",
    "\tmonthly=False,\n",
    ")\n",
    "time = np.datetime64(\"2023-03-08\")"
   ]
  },
  {
   "cell_type": "code",
   "execution_count": 3,
   "metadata": {},
   "outputs": [
    {
     "data": {
      "text/html": [
       "<div>\n",
       "<style scoped>\n",
       "    .dataframe tbody tr th:only-of-type {\n",
       "        vertical-align: middle;\n",
       "    }\n",
       "\n",
       "    .dataframe tbody tr th {\n",
       "        vertical-align: top;\n",
       "    }\n",
       "\n",
       "    .dataframe thead th {\n",
       "        text-align: right;\n",
       "    }\n",
       "</style>\n",
       "<table border=\"1\" class=\"dataframe\">\n",
       "  <thead>\n",
       "    <tr style=\"text-align: right;\">\n",
       "      <th></th>\n",
       "      <th>Bid</th>\n",
       "      <th>Ask</th>\n",
       "      <th>Mid</th>\n",
       "    </tr>\n",
       "  </thead>\n",
       "  <tbody>\n",
       "    <tr>\n",
       "      <th>SPXW 230322C3800000</th>\n",
       "      <td>204.3</td>\n",
       "      <td>208.3</td>\n",
       "      <td>206.30</td>\n",
       "    </tr>\n",
       "    <tr>\n",
       "      <th>SPXW 230322P3800000</th>\n",
       "      <td>11.5</td>\n",
       "      <td>11.7</td>\n",
       "      <td>11.60</td>\n",
       "    </tr>\n",
       "    <tr>\n",
       "      <th>SPXW 230322C4000000</th>\n",
       "      <td>58.9</td>\n",
       "      <td>59.3</td>\n",
       "      <td>59.10</td>\n",
       "    </tr>\n",
       "    <tr>\n",
       "      <th>SPXW 230322P4000000</th>\n",
       "      <td>63.5</td>\n",
       "      <td>64.2</td>\n",
       "      <td>63.85</td>\n",
       "    </tr>\n",
       "    <tr>\n",
       "      <th>SPXW 230322C4600000</th>\n",
       "      <td>0.0</td>\n",
       "      <td>0.1</td>\n",
       "      <td>0.05</td>\n",
       "    </tr>\n",
       "    <tr>\n",
       "      <th>SPXW 230322P4600000</th>\n",
       "      <td>601.5</td>\n",
       "      <td>606.3</td>\n",
       "      <td>603.90</td>\n",
       "    </tr>\n",
       "  </tbody>\n",
       "</table>\n",
       "</div>"
      ],
      "text/plain": [
       "                       Bid    Ask     Mid\n",
       "SPXW 230322C3800000  204.3  208.3  206.30\n",
       "SPXW 230322P3800000   11.5   11.7   11.60\n",
       "SPXW 230322C4000000   58.9   59.3   59.10\n",
       "SPXW 230322P4000000   63.5   64.2   63.85\n",
       "SPXW 230322C4600000    0.0    0.1    0.05\n",
       "SPXW 230322P4600000  601.5  606.3  603.90"
      ]
     },
     "metadata": {},
     "output_type": "display_data"
    }
   ],
   "source": [
    "display(\n",
    "\tspx_vs.empirical_price(\n",
    "\t\ttime=time,\n",
    "\t)\n",
    ")"
   ]
  },
  {
   "cell_type": "code",
   "execution_count": 4,
   "metadata": {},
   "outputs": [
    {
     "name": "stdout",
     "output_type": "stream",
     "text": [
      "2016-10-05\n"
     ]
    },
    {
     "name": "stderr",
     "output_type": "stream",
     "text": [
      "/Users/mayurankv/Documents/Mayuran/Programming/Projects/Academic/Imperial College London/MSc Statistics/Dissertation/.venv/lib/python3.12/site-packages/py_vollib_vectorized/implied_volatility.py:75: UserWarning: Found Below Intrinsic contracts at index [0, 2, 4]\n",
      "  below_intrinsic, above_max_price = _check_below_and_above_intrinsic(K, F, flag, undiscounted_option_price, on_error)\n"
     ]
    },
    {
     "data": {
      "text/html": [
       "<div>\n",
       "<style scoped>\n",
       "    .dataframe tbody tr th:only-of-type {\n",
       "        vertical-align: middle;\n",
       "    }\n",
       "\n",
       "    .dataframe tbody tr th {\n",
       "        vertical-align: top;\n",
       "    }\n",
       "\n",
       "    .dataframe thead th {\n",
       "        text-align: right;\n",
       "    }\n",
       "</style>\n",
       "<table border=\"1\" class=\"dataframe\">\n",
       "  <thead>\n",
       "    <tr style=\"text-align: right;\">\n",
       "      <th></th>\n",
       "      <th>Bid</th>\n",
       "      <th>Ask</th>\n",
       "      <th>Mid</th>\n",
       "    </tr>\n",
       "  </thead>\n",
       "  <tbody>\n",
       "    <tr>\n",
       "      <th>SPXW 230322C3800000</th>\n",
       "      <td>NaN</td>\n",
       "      <td>NaN</td>\n",
       "      <td>NaN</td>\n",
       "    </tr>\n",
       "    <tr>\n",
       "      <th>SPXW 230322P3800000</th>\n",
       "      <td>0.671808</td>\n",
       "      <td>0.674283</td>\n",
       "      <td>0.673048</td>\n",
       "    </tr>\n",
       "    <tr>\n",
       "      <th>SPXW 230322C4000000</th>\n",
       "      <td>NaN</td>\n",
       "      <td>NaN</td>\n",
       "      <td>NaN</td>\n",
       "    </tr>\n",
       "    <tr>\n",
       "      <th>SPXW 230322P4000000</th>\n",
       "      <td>0.884165</td>\n",
       "      <td>0.887827</td>\n",
       "      <td>0.885998</td>\n",
       "    </tr>\n",
       "    <tr>\n",
       "      <th>SPXW 230322C4600000</th>\n",
       "      <td>NaN</td>\n",
       "      <td>NaN</td>\n",
       "      <td>NaN</td>\n",
       "    </tr>\n",
       "    <tr>\n",
       "      <th>SPXW 230322P4600000</th>\n",
       "      <td>2.065095</td>\n",
       "      <td>2.080952</td>\n",
       "      <td>2.073023</td>\n",
       "    </tr>\n",
       "  </tbody>\n",
       "</table>\n",
       "</div>"
      ],
      "text/plain": [
       "                          Bid       Ask       Mid\n",
       "SPXW 230322C3800000       NaN       NaN       NaN\n",
       "SPXW 230322P3800000  0.671808  0.674283  0.673048\n",
       "SPXW 230322C4000000       NaN       NaN       NaN\n",
       "SPXW 230322P4000000  0.884165  0.887827  0.885998\n",
       "SPXW 230322C4600000       NaN       NaN       NaN\n",
       "SPXW 230322P4600000  2.065095  2.080952  2.073023"
      ]
     },
     "metadata": {},
     "output_type": "display_data"
    }
   ],
   "source": [
    "display(\n",
    "\tspx_vs.empirical_pricing_implied_volatility(\n",
    "\t\tpricing_model=PricingModel(model=\"Black-Scholes\"),\n",
    "\t\ttime=time,\n",
    "\t)\n",
    ")"
   ]
  },
  {
   "cell_type": "code",
   "execution_count": null,
   "metadata": {},
   "outputs": [],
   "source": []
  }
 ],
 "metadata": {
  "kernelspec": {
   "display_name": ".venv",
   "language": "python",
   "name": "python3"
  },
  "language_info": {
   "codemirror_mode": {
    "name": "ipython",
    "version": 3
   },
   "file_extension": ".py",
   "mimetype": "text/x-python",
   "name": "python",
   "nbconvert_exporter": "python",
   "pygments_lexer": "ipython3",
   "version": "3.12.4"
  }
 },
 "nbformat": 4,
 "nbformat_minor": 2
}
