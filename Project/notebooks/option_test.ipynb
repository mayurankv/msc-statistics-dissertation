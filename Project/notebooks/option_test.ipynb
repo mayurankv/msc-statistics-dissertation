{
 "cells": [
  {
   "cell_type": "code",
   "execution_count": 1,
   "metadata": {},
   "outputs": [
    {
     "name": "stderr",
     "output_type": "stream",
     "text": [
      "\u001b[32m2024-07-27 23:46:52.686\u001b[0m | \u001b[1mINFO    \u001b[0m | \u001b[36mstochastic_volatility_models.config\u001b[0m:\u001b[36minitialise\u001b[0m:\u001b[36m30\u001b[0m - \u001b[1mLoaded module `stochastic_volatility_models` from project directory path `/Users/mayurankv/Documents/Mayuran/Programming/Projects/Academic/Imperial College London/MSc Statistics/Dissertation/Project/modules`\u001b[0m\n"
     ]
    }
   ],
   "source": [
    "import numpy as np\n",
    "from stochastic_volatility_models.src.core.underlying import Underlying\n",
    "from stochastic_volatility_models.src.core.volatility_surface import VolatilitySurface\n",
    "from stochastic_volatility_models.src.core.pricing_models import PricingModel\n",
    "from stochastic_volatility_models.src.utils.options.moneyness import moneyness\n",
    "from stochastic_volatility_models.src.data.strikes import get_strikes_of_expiries"
   ]
  },
  {
   "cell_type": "code",
   "execution_count": 3,
   "metadata": {},
   "outputs": [],
   "source": [
    "spx = Underlying(\"SPX\")\n",
    "expiries = np.array([np.datetime64(\"2022-03-23\"), np.datetime64(\"2022-03-30\"), np.datetime64(\"2022-04-06\")])\n",
    "strikes = np.array([3400, 3500, 3600, 3700, 3800, 3900, 4000, 4100, 4200, 4255, 4260, 4265, 4270, 4275, 4280, 4285, 4290, 4300, 4400, 4500, 4600, 4800, 5000])\n",
    "spx_vs = VolatilitySurface(\n",
    "\tunderlying=spx,\n",
    "\texpiries=expiries,\n",
    "\tstrikes=strikes,\n",
    "\tmonthly=False,\n",
    ")\n",
    "time = np.datetime64(\"2022-03-09\")"
   ]
  },
  {
   "cell_type": "code",
   "execution_count": 5,
   "metadata": {},
   "outputs": [
    {
     "data": {
      "text/plain": [
       "4270.93206"
      ]
     },
     "execution_count": 5,
     "metadata": {},
     "output_type": "execute_result"
    }
   ],
   "source": [
    "spx.future_price(time)"
   ]
  },
  {
   "cell_type": "code",
   "execution_count": 4,
   "metadata": {},
   "outputs": [
    {
     "data": {
      "text/plain": [
       "(2000.0,\n",
       " 2200.0,\n",
       " 2400.0,\n",
       " 2600.0,\n",
       " 2800.0,\n",
       " 3000.0,\n",
       " 3200.0,\n",
       " 3400.0,\n",
       " 3500.0,\n",
       " 3600.0,\n",
       " 3700.0,\n",
       " 3750.0,\n",
       " 3800.0,\n",
       " 3850.0,\n",
       " 3875.0,\n",
       " 3900.0,\n",
       " 3925.0,\n",
       " 3930.0,\n",
       " 3940.0,\n",
       " 3950.0,\n",
       " 3960.0,\n",
       " 3970.0,\n",
       " 3975.0,\n",
       " 3980.0,\n",
       " 3990.0,\n",
       " 4000.0,\n",
       " 4005.0,\n",
       " 4010.0,\n",
       " 4015.0,\n",
       " 4020.0,\n",
       " 4025.0,\n",
       " 4030.0,\n",
       " 4035.0,\n",
       " 4040.0,\n",
       " 4045.0,\n",
       " 4050.0,\n",
       " 4055.0,\n",
       " 4060.0,\n",
       " 4065.0,\n",
       " 4070.0,\n",
       " 4075.0,\n",
       " 4080.0,\n",
       " 4085.0,\n",
       " 4090.0,\n",
       " 4095.0,\n",
       " 4100.0,\n",
       " 4105.0,\n",
       " 4110.0,\n",
       " 4115.0,\n",
       " 4120.0,\n",
       " 4125.0,\n",
       " 4130.0,\n",
       " 4135.0,\n",
       " 4140.0,\n",
       " 4145.0,\n",
       " 4150.0,\n",
       " 4155.0,\n",
       " 4160.0,\n",
       " 4165.0,\n",
       " 4170.0,\n",
       " 4175.0,\n",
       " 4180.0,\n",
       " 4185.0,\n",
       " 4190.0,\n",
       " 4195.0,\n",
       " 4200.0,\n",
       " 4205.0,\n",
       " 4210.0,\n",
       " 4215.0,\n",
       " 4220.0,\n",
       " 4225.0,\n",
       " 4230.0,\n",
       " 4235.0,\n",
       " 4240.0,\n",
       " 4245.0,\n",
       " 4250.0,\n",
       " 4255.0,\n",
       " 4260.0,\n",
       " 4265.0,\n",
       " 4270.0,\n",
       " 4275.0,\n",
       " 4280.0,\n",
       " 4285.0,\n",
       " 4290.0,\n",
       " 4295.0,\n",
       " 4300.0,\n",
       " 4305.0,\n",
       " 4310.0,\n",
       " 4315.0,\n",
       " 4320.0,\n",
       " 4325.0,\n",
       " 4330.0,\n",
       " 4335.0,\n",
       " 4340.0,\n",
       " 4345.0,\n",
       " 4350.0,\n",
       " 4355.0,\n",
       " 4360.0,\n",
       " 4365.0,\n",
       " 4370.0,\n",
       " 4375.0,\n",
       " 4380.0,\n",
       " 4385.0,\n",
       " 4390.0,\n",
       " 4395.0,\n",
       " 4400.0,\n",
       " 4405.0,\n",
       " 4410.0,\n",
       " 4415.0,\n",
       " 4420.0,\n",
       " 4425.0,\n",
       " 4430.0,\n",
       " 4435.0,\n",
       " 4440.0,\n",
       " 4445.0,\n",
       " 4450.0,\n",
       " 4455.0,\n",
       " 4460.0,\n",
       " 4465.0,\n",
       " 4470.0,\n",
       " 4475.0,\n",
       " 4480.0,\n",
       " 4485.0,\n",
       " 4490.0,\n",
       " 4495.0,\n",
       " 4500.0,\n",
       " 4505.0,\n",
       " 4510.0,\n",
       " 4515.0,\n",
       " 4520.0,\n",
       " 4525.0,\n",
       " 4530.0,\n",
       " 4535.0,\n",
       " 4540.0,\n",
       " 4545.0,\n",
       " 4550.0,\n",
       " 4560.0,\n",
       " 4565.0,\n",
       " 4570.0,\n",
       " 4575.0,\n",
       " 4580.0,\n",
       " 4585.0,\n",
       " 4590.0,\n",
       " 4595.0,\n",
       " 4600.0,\n",
       " 4610.0,\n",
       " 4620.0,\n",
       " 4625.0,\n",
       " 4630.0,\n",
       " 4640.0,\n",
       " 4650.0,\n",
       " 4675.0,\n",
       " 4700.0,\n",
       " 4750.0,\n",
       " 4800.0,\n",
       " 4850.0,\n",
       " 4900.0,\n",
       " 4950.0,\n",
       " 5000.0,\n",
       " 5200.0,\n",
       " 5400.0)"
      ]
     },
     "execution_count": 4,
     "metadata": {},
     "output_type": "execute_result"
    }
   ],
   "source": [
    "get_strikes_of_expiries(ticker=\"SPX\", expiries=expiries, monthly=False)"
   ]
  },
  {
   "cell_type": "code",
   "execution_count": 3,
   "metadata": {},
   "outputs": [
    {
     "data": {
      "text/html": [
       "<div>\n",
       "<style scoped>\n",
       "    .dataframe tbody tr th:only-of-type {\n",
       "        vertical-align: middle;\n",
       "    }\n",
       "\n",
       "    .dataframe tbody tr th {\n",
       "        vertical-align: top;\n",
       "    }\n",
       "\n",
       "    .dataframe thead th {\n",
       "        text-align: right;\n",
       "    }\n",
       "</style>\n",
       "<table border=\"1\" class=\"dataframe\">\n",
       "  <thead>\n",
       "    <tr style=\"text-align: right;\">\n",
       "      <th></th>\n",
       "      <th>Bid</th>\n",
       "      <th>Ask</th>\n",
       "      <th>Mid</th>\n",
       "    </tr>\n",
       "  </thead>\n",
       "  <tbody>\n",
       "  </tbody>\n",
       "</table>\n",
       "</div>"
      ],
      "text/plain": [
       "Empty DataFrame\n",
       "Columns: [Bid, Ask, Mid]\n",
       "Index: []"
      ]
     },
     "metadata": {},
     "output_type": "display_data"
    }
   ],
   "source": [
    "prices = spx_vs.empirical_price(time=time)\n",
    "display(prices.loc[prices[\"Ask\"].isna()])"
   ]
  },
  {
   "cell_type": "code",
   "execution_count": 4,
   "metadata": {},
   "outputs": [
    {
     "ename": "TypeError",
     "evalue": "VolatilitySurface.empirical_pricing_implied_volatility() missing 1 required positional argument: 'pricing_model'",
     "output_type": "error",
     "traceback": [
      "\u001b[0;31m---------------------------------------------------------------------------\u001b[0m",
      "\u001b[0;31mTypeError\u001b[0m                                 Traceback (most recent call last)",
      "Cell \u001b[0;32mIn[4], line 4\u001b[0m\n\u001b[1;32m      1\u001b[0m \u001b[38;5;28;01mfrom\u001b[39;00m \u001b[38;5;21;01mstochastic_volatility_models\u001b[39;00m\u001b[38;5;21;01m.\u001b[39;00m\u001b[38;5;21;01mvisualisations\u001b[39;00m\u001b[38;5;21;01m.\u001b[39;00m\u001b[38;5;21;01mvolatility_surface\u001b[39;00m \u001b[38;5;28;01mimport\u001b[39;00m plot_volatility_surface\n\u001b[1;32m      3\u001b[0m pricing_model \u001b[38;5;241m=\u001b[39m PricingModel(model\u001b[38;5;241m=\u001b[39m\u001b[38;5;124m\"\u001b[39m\u001b[38;5;124mBlack-Scholes\u001b[39m\u001b[38;5;124m\"\u001b[39m)\n\u001b[0;32m----> 4\u001b[0m fig \u001b[38;5;241m=\u001b[39m \u001b[43mplot_volatility_surface\u001b[49m\u001b[43m(\u001b[49m\u001b[43mtime\u001b[49m\u001b[38;5;241;43m=\u001b[39;49m\u001b[43mtime\u001b[49m\u001b[43m,\u001b[49m\u001b[43m \u001b[49m\u001b[43mvolatility_surface\u001b[49m\u001b[38;5;241;43m=\u001b[39;49m\u001b[43mspx_vs\u001b[49m\u001b[43m,\u001b[49m\u001b[43m \u001b[49m\u001b[43mquantity_method\u001b[49m\u001b[38;5;241;43m=\u001b[39;49m\u001b[38;5;124;43m\"\u001b[39;49m\u001b[38;5;124;43mempirical_pricing_implied_volatility\u001b[39;49m\u001b[38;5;124;43m\"\u001b[39;49m\u001b[43m)\u001b[49m\n\u001b[1;32m      5\u001b[0m fig\u001b[38;5;241m.\u001b[39mshow()\n",
      "File \u001b[0;32m~/Documents/Mayuran/Programming/Projects/Academic/Imperial College London/MSc Statistics/Dissertation/Project/modules/stochastic_volatility_models/stochastic_volatility_models/visualisations/volatility_surface.py:45\u001b[0m, in \u001b[0;36mplot_volatility_surface\u001b[0;34m(time, volatility_surface, quantity_method, plot_parameters, *args, **kwargs)\u001b[0m\n\u001b[1;32m     36\u001b[0m price_types: \u001b[38;5;28mlist\u001b[39m[PriceTypes] \u001b[38;5;241m=\u001b[39m [\u001b[38;5;124m\"\u001b[39m\u001b[38;5;124mBid\u001b[39m\u001b[38;5;124m\"\u001b[39m, \u001b[38;5;124m\"\u001b[39m\u001b[38;5;124mAsk\u001b[39m\u001b[38;5;124m\"\u001b[39m] \u001b[38;5;28;01mif\u001b[39;00m \u001b[38;5;129;01mnot\u001b[39;00m plot_parameters[\u001b[38;5;124m\"\u001b[39m\u001b[38;5;124mmid_price\u001b[39m\u001b[38;5;124m\"\u001b[39m] \u001b[38;5;28;01melse\u001b[39;00m [\u001b[38;5;124m\"\u001b[39m\u001b[38;5;124mMid\u001b[39m\u001b[38;5;124m\"\u001b[39m]\n\u001b[1;32m     37\u001b[0m moneyness_title \u001b[38;5;241m=\u001b[39m \u001b[38;5;124mf\u001b[39m\u001b[38;5;124m\"\u001b[39m\u001b[38;5;132;01m{\u001b[39;00m\u001b[38;5;124m'\u001b[39m\u001b[38;5;124mlog-\u001b[39m\u001b[38;5;124m'\u001b[39m\u001b[38;5;250m \u001b[39m\u001b[38;5;28;01mif\u001b[39;00m\u001b[38;5;250m \u001b[39mplot_parameters[\u001b[38;5;124m\"\u001b[39m\u001b[38;5;124mlog_moneyness\u001b[39m\u001b[38;5;124m\"\u001b[39m]\u001b[38;5;250m \u001b[39m\u001b[38;5;28;01melse\u001b[39;00m\u001b[38;5;250m \u001b[39m\u001b[38;5;124m'\u001b[39m\u001b[38;5;124m'\u001b[39m\u001b[38;5;132;01m}\u001b[39;00m\u001b[38;5;124mMoneyness\u001b[39m\u001b[38;5;124m\"\u001b[39m\n\u001b[1;32m     38\u001b[0m fig \u001b[38;5;241m=\u001b[39m go\u001b[38;5;241m.\u001b[39mFigure(\n\u001b[1;32m     39\u001b[0m \tdata\u001b[38;5;241m=\u001b[39m[\n\u001b[1;32m     40\u001b[0m \t\tgo\u001b[38;5;241m.\u001b[39mSurface(\n\u001b[1;32m     41\u001b[0m \t\t\tx\u001b[38;5;241m=\u001b[39mx,\n\u001b[1;32m     42\u001b[0m \t\t\ty\u001b[38;5;241m=\u001b[39my,\n\u001b[1;32m     43\u001b[0m \t\t\tz\u001b[38;5;241m=\u001b[39msurface_quantities\u001b[38;5;241m.\u001b[39munstack(\u001b[38;5;241m0\u001b[39m)\u001b[38;5;241m.\u001b[39mto_numpy()\u001b[38;5;241m.\u001b[39mtranspose(),  \u001b[38;5;66;03m# TODO (@mayurankv): Label\u001b[39;00m\n\u001b[1;32m     44\u001b[0m \t\t)\n\u001b[0;32m---> 45\u001b[0m \t\t\u001b[38;5;28;01mfor\u001b[39;00m surface_quantities \u001b[38;5;129;01min\u001b[39;00m \u001b[43mvolatility_surface\u001b[49m\u001b[38;5;241;43m.\u001b[39;49m\u001b[43msurface_quantities\u001b[49m\u001b[43m(\u001b[49m\u001b[43mtime\u001b[49m\u001b[38;5;241;43m=\u001b[39;49m\u001b[43mtime\u001b[49m\u001b[43m,\u001b[49m\u001b[43m \u001b[49m\u001b[43mquantity_method\u001b[49m\u001b[38;5;241;43m=\u001b[39;49m\u001b[43mquantity_method\u001b[49m\u001b[43m,\u001b[49m\u001b[43m \u001b[49m\u001b[43mprice_types\u001b[49m\u001b[38;5;241;43m=\u001b[39;49m\u001b[43mprice_types\u001b[49m\u001b[43m,\u001b[49m\u001b[43m \u001b[49m\u001b[38;5;241;43m*\u001b[39;49m\u001b[43margs\u001b[49m\u001b[43m,\u001b[49m\u001b[43m \u001b[49m\u001b[38;5;241;43m*\u001b[39;49m\u001b[38;5;241;43m*\u001b[39;49m\u001b[43mkwargs\u001b[49m\u001b[43m)\u001b[49m\n\u001b[1;32m     46\u001b[0m \t],\n\u001b[1;32m     47\u001b[0m \tlayout\u001b[38;5;241m=\u001b[39m\u001b[38;5;28mdict\u001b[39m(\n\u001b[1;32m     48\u001b[0m \t\ttitle\u001b[38;5;241m=\u001b[39m\u001b[38;5;124m\"\u001b[39m\u001b[38;5;124mVolatility Surface\u001b[39m\u001b[38;5;124m\"\u001b[39m,  \u001b[38;5;66;03m# TODO (@mayurankv): Opacity and layout\u001b[39;00m\n\u001b[1;32m     49\u001b[0m \t\tscene\u001b[38;5;241m=\u001b[39m\u001b[38;5;28mdict\u001b[39m(\n\u001b[1;32m     50\u001b[0m \t\t\taspectmode\u001b[38;5;241m=\u001b[39m\u001b[38;5;124m\"\u001b[39m\u001b[38;5;124mcube\u001b[39m\u001b[38;5;124m\"\u001b[39m,\n\u001b[1;32m     51\u001b[0m \t\t\txaxis\u001b[38;5;241m=\u001b[39m\u001b[38;5;28mdict\u001b[39m(title\u001b[38;5;241m=\u001b[39m\u001b[38;5;124m\"\u001b[39m\u001b[38;5;124mExpiries\u001b[39m\u001b[38;5;124m\"\u001b[39m \u001b[38;5;28;01mif\u001b[39;00m \u001b[38;5;129;01mnot\u001b[39;00m plot_parameters[\u001b[38;5;124m\"\u001b[39m\u001b[38;5;124mtime_to_expiry\u001b[39m\u001b[38;5;124m\"\u001b[39m] \u001b[38;5;28;01melse\u001b[39;00m \u001b[38;5;124m\"\u001b[39m\u001b[38;5;124mTime to Expiry (Yr)\u001b[39m\u001b[38;5;124m\"\u001b[39m),\n\u001b[1;32m     52\u001b[0m \t\t\tyaxis\u001b[38;5;241m=\u001b[39m\u001b[38;5;28mdict\u001b[39m(title\u001b[38;5;241m=\u001b[39m\u001b[38;5;124m\"\u001b[39m\u001b[38;5;124mStrikes\u001b[39m\u001b[38;5;124m\"\u001b[39m \u001b[38;5;28;01mif\u001b[39;00m \u001b[38;5;129;01mnot\u001b[39;00m plot_parameters[\u001b[38;5;124m\"\u001b[39m\u001b[38;5;124mmoneyness\u001b[39m\u001b[38;5;124m\"\u001b[39m] \u001b[38;5;28;01melse\u001b[39;00m moneyness_title),\n\u001b[1;32m     53\u001b[0m \t\t\tzaxis\u001b[38;5;241m=\u001b[39m\u001b[38;5;28mdict\u001b[39m(title\u001b[38;5;241m=\u001b[39mquantity_method\u001b[38;5;241m.\u001b[39msplit(sep\u001b[38;5;241m=\u001b[39m\u001b[38;5;124m\"\u001b[39m\u001b[38;5;124m_\u001b[39m\u001b[38;5;124m\"\u001b[39m)[\u001b[38;5;241m-\u001b[39m\u001b[38;5;241m1\u001b[39m]\u001b[38;5;241m.\u001b[39mtitle()),\n\u001b[1;32m     54\u001b[0m \t\t),\n\u001b[1;32m     55\u001b[0m \t),\n\u001b[1;32m     56\u001b[0m )\u001b[38;5;241m.\u001b[39mupdate_traces(\n\u001b[1;32m     57\u001b[0m \tcontours_z\u001b[38;5;241m=\u001b[39m\u001b[38;5;28mdict\u001b[39m(\n\u001b[1;32m     58\u001b[0m \t\tshow\u001b[38;5;241m=\u001b[39m\u001b[38;5;28;01mTrue\u001b[39;00m,\n\u001b[1;32m     59\u001b[0m \t\tusecolormap\u001b[38;5;241m=\u001b[39m\u001b[38;5;28;01mTrue\u001b[39;00m,\n\u001b[1;32m     60\u001b[0m \t\thighlightcolor\u001b[38;5;241m=\u001b[39m\u001b[38;5;124m\"\u001b[39m\u001b[38;5;124mlimegreen\u001b[39m\u001b[38;5;124m\"\u001b[39m,\n\u001b[1;32m     61\u001b[0m \t\tproject_z\u001b[38;5;241m=\u001b[39m\u001b[38;5;28;01mTrue\u001b[39;00m,\n\u001b[1;32m     62\u001b[0m \t),\n\u001b[1;32m     63\u001b[0m )\n\u001b[1;32m     64\u001b[0m \u001b[38;5;28;01mreturn\u001b[39;00m fig\n",
      "File \u001b[0;32m~/Documents/Mayuran/Programming/Projects/Academic/Imperial College London/MSc Statistics/Dissertation/Project/modules/stochastic_volatility_models/stochastic_volatility_models/src/core/volatility_surface.py:137\u001b[0m, in \u001b[0;36mVolatilitySurface.surface_quantities\u001b[0;34m(self, time, quantity_method, price_types, out_the_money, *args, **kwargs)\u001b[0m\n\u001b[1;32m    124\u001b[0m \u001b[38;5;28;01mdef\u001b[39;00m \u001b[38;5;21msurface_quantities\u001b[39m(\n\u001b[1;32m    125\u001b[0m \t\u001b[38;5;28mself\u001b[39m,\n\u001b[1;32m    126\u001b[0m \ttime: np\u001b[38;5;241m.\u001b[39mdatetime64,\n\u001b[0;32m   (...)\u001b[0m\n\u001b[1;32m    131\u001b[0m \t\u001b[38;5;241m*\u001b[39m\u001b[38;5;241m*\u001b[39mkwargs,\n\u001b[1;32m    132\u001b[0m ) \u001b[38;5;241m-\u001b[39m\u001b[38;5;241m>\u001b[39m \u001b[38;5;28mlist\u001b[39m[DataFrame]:\n\u001b[1;32m    133\u001b[0m \tsurface_symbols \u001b[38;5;241m=\u001b[39m \u001b[38;5;28mself\u001b[39m\u001b[38;5;241m.\u001b[39msurface_symbols(\n\u001b[1;32m    134\u001b[0m \t\ttime\u001b[38;5;241m=\u001b[39mtime,\n\u001b[1;32m    135\u001b[0m \t\tout_the_money\u001b[38;5;241m=\u001b[39mout_the_money,\n\u001b[1;32m    136\u001b[0m \t)\n\u001b[0;32m--> 137\u001b[0m \tquantities: DataFrame \u001b[38;5;241m=\u001b[39m \u001b[38;5;28;43mgetattr\u001b[39;49m\u001b[43m(\u001b[49m\u001b[38;5;28;43mself\u001b[39;49m\u001b[43m,\u001b[49m\u001b[43m \u001b[49m\u001b[43mquantity_method\u001b[49m\u001b[43m)\u001b[49m\u001b[43m(\u001b[49m\u001b[43mtime\u001b[49m\u001b[38;5;241;43m=\u001b[39;49m\u001b[43mtime\u001b[49m\u001b[43m,\u001b[49m\u001b[43m \u001b[49m\u001b[38;5;241;43m*\u001b[39;49m\u001b[43margs\u001b[49m\u001b[43m,\u001b[49m\u001b[43m \u001b[49m\u001b[38;5;241;43m*\u001b[39;49m\u001b[38;5;241;43m*\u001b[39;49m\u001b[43mkwargs\u001b[49m\u001b[43m)\u001b[49m\n\u001b[1;32m    138\u001b[0m \tsurfaces \u001b[38;5;241m=\u001b[39m [surface_symbols[\u001b[38;5;124m\"\u001b[39m\u001b[38;5;124mSymbol\u001b[39m\u001b[38;5;124m\"\u001b[39m]\u001b[38;5;241m.\u001b[39mmap(quantities[price_type])\u001b[38;5;241m.\u001b[39mto_frame() \u001b[38;5;28;01mfor\u001b[39;00m price_type \u001b[38;5;129;01min\u001b[39;00m price_types]\n\u001b[1;32m    140\u001b[0m \t\u001b[38;5;28;01mreturn\u001b[39;00m surfaces\n",
      "\u001b[0;31mTypeError\u001b[0m: VolatilitySurface.empirical_pricing_implied_volatility() missing 1 required positional argument: 'pricing_model'"
     ]
    }
   ],
   "source": [
    "from stochastic_volatility_models.visualisations.volatility_surface import plot_volatility_surface\n",
    "\n",
    "pricing_model = PricingModel(model=\"Black-Scholes\")\n",
    "fig = plot_volatility_surface(time=time, volatility_surface=spx_vs, quantity_method=\"empirical_pricing_implied_volatility\")\n",
    "fig.show()"
   ]
  },
  {
   "cell_type": "code",
   "execution_count": 5,
   "metadata": {},
   "outputs": [
    {
     "name": "stderr",
     "output_type": "stream",
     "text": [
      "/Users/mayurankv/Documents/Mayuran/Programming/Projects/Academic/Imperial College London/MSc Statistics/Dissertation/.venv/lib/python3.12/site-packages/py_vollib_vectorized/implied_volatility.py:75: UserWarning:\n",
      "\n",
      "Found Below Intrinsic contracts at index [0, 1, 2, 3, 4, 30, 31, 32, 33, 60, 61]\n",
      "\n",
      "/Users/mayurankv/Documents/Mayuran/Programming/Projects/Academic/Imperial College London/MSc Statistics/Dissertation/.venv/lib/python3.12/site-packages/py_vollib_vectorized/implied_volatility.py:75: UserWarning:\n",
      "\n",
      "Found Below Intrinsic contracts at index [0, 1, 2, 30]\n",
      "\n",
      "/Users/mayurankv/Documents/Mayuran/Programming/Projects/Academic/Imperial College London/MSc Statistics/Dissertation/.venv/lib/python3.12/site-packages/py_vollib_vectorized/implied_volatility.py:75: UserWarning:\n",
      "\n",
      "Found Below Intrinsic contracts at index [0, 1, 2, 3, 30, 31, 32, 60]\n",
      "\n"
     ]
    },
    {
     "data": {
      "text/plain": [
       "(3, 15)"
      ]
     },
     "execution_count": 5,
     "metadata": {},
     "output_type": "execute_result"
    }
   ],
   "source": [
    "spx_vs.surface_quantities(time=time, quantity_method=\"empirical_pricing_implied_volatility\", price_types=[\"Mid\"], pricing_model=pricing_model)[0].unstack(0).shape"
   ]
  },
  {
   "cell_type": "code",
   "execution_count": 6,
   "metadata": {},
   "outputs": [
    {
     "name": "stderr",
     "output_type": "stream",
     "text": [
      "/Users/mayurankv/Documents/Mayuran/Programming/Projects/Academic/Imperial College London/MSc Statistics/Dissertation/.venv/lib/python3.12/site-packages/py_vollib_vectorized/implied_volatility.py:75: UserWarning:\n",
      "\n",
      "Found Below Intrinsic contracts at index [0, 1, 2, 3, 4, 30, 31, 32, 33, 60, 61]\n",
      "\n",
      "/Users/mayurankv/Documents/Mayuran/Programming/Projects/Academic/Imperial College London/MSc Statistics/Dissertation/.venv/lib/python3.12/site-packages/py_vollib_vectorized/implied_volatility.py:75: UserWarning:\n",
      "\n",
      "Found Below Intrinsic contracts at index [0, 1, 2, 30]\n",
      "\n",
      "/Users/mayurankv/Documents/Mayuran/Programming/Projects/Academic/Imperial College London/MSc Statistics/Dissertation/.venv/lib/python3.12/site-packages/py_vollib_vectorized/implied_volatility.py:75: UserWarning:\n",
      "\n",
      "Found Below Intrinsic contracts at index [0, 1, 2, 3, 30, 31, 32, 60]\n",
      "\n"
     ]
    },
    {
     "data": {
      "text/html": [
       "<div>\n",
       "<style scoped>\n",
       "    .dataframe tbody tr th:only-of-type {\n",
       "        vertical-align: middle;\n",
       "    }\n",
       "\n",
       "    .dataframe tbody tr th {\n",
       "        vertical-align: top;\n",
       "    }\n",
       "\n",
       "    .dataframe thead th {\n",
       "        text-align: right;\n",
       "    }\n",
       "</style>\n",
       "<table border=\"1\" class=\"dataframe\">\n",
       "  <thead>\n",
       "    <tr style=\"text-align: right;\">\n",
       "      <th></th>\n",
       "      <th>Bid</th>\n",
       "      <th>Ask</th>\n",
       "      <th>Mid</th>\n",
       "    </tr>\n",
       "  </thead>\n",
       "  <tbody>\n",
       "    <tr>\n",
       "      <th>SPXW 220323C3400000</th>\n",
       "      <td>0.000000</td>\n",
       "      <td>0.000000</td>\n",
       "      <td>0.000000</td>\n",
       "    </tr>\n",
       "    <tr>\n",
       "      <th>SPXW 220323C3500000</th>\n",
       "      <td>0.000000</td>\n",
       "      <td>0.000000</td>\n",
       "      <td>0.000000</td>\n",
       "    </tr>\n",
       "    <tr>\n",
       "      <th>SPXW 220323C3600000</th>\n",
       "      <td>0.000000</td>\n",
       "      <td>0.000000</td>\n",
       "      <td>0.000000</td>\n",
       "    </tr>\n",
       "    <tr>\n",
       "      <th>SPXW 220323C3700000</th>\n",
       "      <td>0.000000</td>\n",
       "      <td>0.340859</td>\n",
       "      <td>0.000000</td>\n",
       "    </tr>\n",
       "    <tr>\n",
       "      <th>SPXW 220323C3800000</th>\n",
       "      <td>0.000000</td>\n",
       "      <td>0.358003</td>\n",
       "      <td>0.303786</td>\n",
       "    </tr>\n",
       "    <tr>\n",
       "      <th>...</th>\n",
       "      <td>...</td>\n",
       "      <td>...</td>\n",
       "      <td>...</td>\n",
       "    </tr>\n",
       "    <tr>\n",
       "      <th>SPXW 220406P4400000</th>\n",
       "      <td>0.252324</td>\n",
       "      <td>0.261562</td>\n",
       "      <td>0.256949</td>\n",
       "    </tr>\n",
       "    <tr>\n",
       "      <th>SPXW 220406P4500000</th>\n",
       "      <td>0.234450</td>\n",
       "      <td>0.248415</td>\n",
       "      <td>0.241489</td>\n",
       "    </tr>\n",
       "    <tr>\n",
       "      <th>SPXW 220406P4600000</th>\n",
       "      <td>0.226289</td>\n",
       "      <td>0.249752</td>\n",
       "      <td>0.238367</td>\n",
       "    </tr>\n",
       "    <tr>\n",
       "      <th>SPXW 220406P4800000</th>\n",
       "      <td>0.256076</td>\n",
       "      <td>0.298324</td>\n",
       "      <td>0.278983</td>\n",
       "    </tr>\n",
       "    <tr>\n",
       "      <th>SPXW 220406P5000000</th>\n",
       "      <td>0.315221</td>\n",
       "      <td>0.371971</td>\n",
       "      <td>0.346680</td>\n",
       "    </tr>\n",
       "  </tbody>\n",
       "</table>\n",
       "<p>90 rows × 3 columns</p>\n",
       "</div>"
      ],
      "text/plain": [
       "                          Bid       Ask       Mid\n",
       "SPXW 220323C3400000  0.000000  0.000000  0.000000\n",
       "SPXW 220323C3500000  0.000000  0.000000  0.000000\n",
       "SPXW 220323C3600000  0.000000  0.000000  0.000000\n",
       "SPXW 220323C3700000  0.000000  0.340859  0.000000\n",
       "SPXW 220323C3800000  0.000000  0.358003  0.303786\n",
       "...                       ...       ...       ...\n",
       "SPXW 220406P4400000  0.252324  0.261562  0.256949\n",
       "SPXW 220406P4500000  0.234450  0.248415  0.241489\n",
       "SPXW 220406P4600000  0.226289  0.249752  0.238367\n",
       "SPXW 220406P4800000  0.256076  0.298324  0.278983\n",
       "SPXW 220406P5000000  0.315221  0.371971  0.346680\n",
       "\n",
       "[90 rows x 3 columns]"
      ]
     },
     "execution_count": 6,
     "metadata": {},
     "output_type": "execute_result"
    }
   ],
   "source": [
    "spx_vs.empirical_pricing_implied_volatility(time=time, pricing_model=pricing_model)"
   ]
  },
  {
   "cell_type": "code",
   "execution_count": 7,
   "metadata": {},
   "outputs": [
    {
     "data": {
      "text/plain": [
       "array([ 0.22805665,  0.19906912,  0.17089824,  0.14349926,  0.11683102,\n",
       "        0.09085553,  0.06553772,  0.04084511,  0.01674756, -0.00678294,\n",
       "       -0.02977246, -0.05224531, -0.07422422, -0.11678383, -0.15760583])"
      ]
     },
     "execution_count": 7,
     "metadata": {},
     "output_type": "execute_result"
    }
   ],
   "source": [
    "spx.future_price(time)\n",
    "moneyness(spx, spx_vs.strikes, time, log=True)"
   ]
  },
  {
   "cell_type": "code",
   "execution_count": 8,
   "metadata": {},
   "outputs": [
    {
     "name": "stderr",
     "output_type": "stream",
     "text": [
      "/Users/mayurankv/Documents/Mayuran/Programming/Projects/Academic/Imperial College London/MSc Statistics/Dissertation/.venv/lib/python3.12/site-packages/py_vollib_vectorized/implied_volatility.py:75: UserWarning:\n",
      "\n",
      "Found Below Intrinsic contracts at index [0, 27, 28, 29, 58, 59, 88, 89]\n",
      "\n"
     ]
    },
    {
     "data": {
      "text/html": [
       "<div>\n",
       "<style scoped>\n",
       "    .dataframe tbody tr th:only-of-type {\n",
       "        vertical-align: middle;\n",
       "    }\n",
       "\n",
       "    .dataframe tbody tr th {\n",
       "        vertical-align: top;\n",
       "    }\n",
       "\n",
       "    .dataframe thead th {\n",
       "        text-align: right;\n",
       "    }\n",
       "</style>\n",
       "<table border=\"1\" class=\"dataframe\">\n",
       "  <thead>\n",
       "    <tr style=\"text-align: right;\">\n",
       "      <th></th>\n",
       "      <th>Bid</th>\n",
       "      <th>Ask</th>\n",
       "      <th>Mid</th>\n",
       "    </tr>\n",
       "  </thead>\n",
       "  <tbody>\n",
       "    <tr>\n",
       "      <th>SPXW 220323C3400000</th>\n",
       "      <td>0.000000</td>\n",
       "      <td>0.612234</td>\n",
       "      <td>0.537993</td>\n",
       "    </tr>\n",
       "    <tr>\n",
       "      <th>SPXW 220323C3500000</th>\n",
       "      <td>0.361467</td>\n",
       "      <td>0.557928</td>\n",
       "      <td>0.500292</td>\n",
       "    </tr>\n",
       "    <tr>\n",
       "      <th>SPXW 220323C3600000</th>\n",
       "      <td>0.396471</td>\n",
       "      <td>0.511657</td>\n",
       "      <td>0.466751</td>\n",
       "    </tr>\n",
       "    <tr>\n",
       "      <th>SPXW 220323C3700000</th>\n",
       "      <td>0.392272</td>\n",
       "      <td>0.466846</td>\n",
       "      <td>0.434175</td>\n",
       "    </tr>\n",
       "    <tr>\n",
       "      <th>SPXW 220323C3800000</th>\n",
       "      <td>0.369555</td>\n",
       "      <td>0.431383</td>\n",
       "      <td>0.403092</td>\n",
       "    </tr>\n",
       "    <tr>\n",
       "      <th>...</th>\n",
       "      <td>...</td>\n",
       "      <td>...</td>\n",
       "      <td>...</td>\n",
       "    </tr>\n",
       "    <tr>\n",
       "      <th>SPXW 220406P4400000</th>\n",
       "      <td>0.239654</td>\n",
       "      <td>0.249093</td>\n",
       "      <td>0.244382</td>\n",
       "    </tr>\n",
       "    <tr>\n",
       "      <th>SPXW 220406P4500000</th>\n",
       "      <td>0.215028</td>\n",
       "      <td>0.230123</td>\n",
       "      <td>0.222668</td>\n",
       "    </tr>\n",
       "    <tr>\n",
       "      <th>SPXW 220406P4600000</th>\n",
       "      <td>0.191645</td>\n",
       "      <td>0.221560</td>\n",
       "      <td>0.207510</td>\n",
       "    </tr>\n",
       "    <tr>\n",
       "      <th>SPXW 220406P4800000</th>\n",
       "      <td>0.000000</td>\n",
       "      <td>0.246686</td>\n",
       "      <td>0.208303</td>\n",
       "    </tr>\n",
       "    <tr>\n",
       "      <th>SPXW 220406P5000000</th>\n",
       "      <td>0.000000</td>\n",
       "      <td>0.309255</td>\n",
       "      <td>0.251169</td>\n",
       "    </tr>\n",
       "  </tbody>\n",
       "</table>\n",
       "<p>90 rows × 3 columns</p>\n",
       "</div>"
      ],
      "text/plain": [
       "                          Bid       Ask       Mid\n",
       "SPXW 220323C3400000  0.000000  0.612234  0.537993\n",
       "SPXW 220323C3500000  0.361467  0.557928  0.500292\n",
       "SPXW 220323C3600000  0.396471  0.511657  0.466751\n",
       "SPXW 220323C3700000  0.392272  0.466846  0.434175\n",
       "SPXW 220323C3800000  0.369555  0.431383  0.403092\n",
       "...                       ...       ...       ...\n",
       "SPXW 220406P4400000  0.239654  0.249093  0.244382\n",
       "SPXW 220406P4500000  0.215028  0.230123  0.222668\n",
       "SPXW 220406P4600000  0.191645  0.221560  0.207510\n",
       "SPXW 220406P4800000  0.000000  0.246686  0.208303\n",
       "SPXW 220406P5000000  0.000000  0.309255  0.251169\n",
       "\n",
       "[90 rows x 3 columns]"
      ]
     },
     "metadata": {},
     "output_type": "display_data"
    }
   ],
   "source": [
    "b_iv = spx_vs.empirical_pricing_implied_volatility(\n",
    "\tpricing_model=PricingModel(model=\"Black-76\"),\n",
    "\ttime=time,\n",
    ")\n",
    "display(b_iv)"
   ]
  }
 ],
 "metadata": {
  "kernelspec": {
   "display_name": ".venv",
   "language": "python",
   "name": "python3"
  },
  "language_info": {
   "codemirror_mode": {
    "name": "ipython",
    "version": 3
   },
   "file_extension": ".py",
   "mimetype": "text/x-python",
   "name": "python",
   "nbconvert_exporter": "python",
   "pygments_lexer": "ipython3",
   "version": "3.12.4"
  }
 },
 "nbformat": 4,
 "nbformat_minor": 2
}
