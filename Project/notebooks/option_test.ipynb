{
 "cells": [
  {
   "cell_type": "code",
   "execution_count": 36,
   "metadata": {},
   "outputs": [],
   "source": [
    "import pandas as pd"
   ]
  },
  {
   "cell_type": "code",
   "execution_count": 2,
   "metadata": {},
   "outputs": [
    {
     "name": "stderr",
     "output_type": "stream",
     "text": [
      "\u001b[32m2024-07-25 01:34:24.357\u001b[0m | \u001b[1mINFO    \u001b[0m | \u001b[36mstochastic_volatility_models.config\u001b[0m:\u001b[36minitialise\u001b[0m:\u001b[36m30\u001b[0m - \u001b[1mLoaded module `stochastic_volatility_models` from project directory path `/Users/mayurankv/Documents/Mayuran/Programming/Projects/Academic/Imperial College London/MSc Statistics/Dissertation/Project/modules`\u001b[0m\n"
     ]
    }
   ],
   "source": []
  },
  {
   "cell_type": "code",
   "execution_count": 49,
   "metadata": {},
   "outputs": [
    {
     "data": {
      "text/plain": [
       "'2024-01-01'"
      ]
     },
     "execution_count": 49,
     "metadata": {},
     "output_type": "execute_result"
    }
   ],
   "source": [
    "root = \"SPX\"\n",
    "ticker = \"SPX\"\n",
    "root[len(ticker) :]\n",
    "suffix = \"20240101C10000\"\n",
    "suffix[:8]\n",
    "suffix[8:9]\n",
    "(f\"{suffix[:4]}-{suffix[4:6]}-{suffix[6:8]}\")"
   ]
  },
  {
   "cell_type": "code",
   "execution_count": 4,
   "metadata": {},
   "outputs": [],
   "source": [
    "YEAR = 2023\n",
    "TICKER = \"SPX\""
   ]
  },
  {
   "cell_type": "code",
   "execution_count": 23,
   "metadata": {},
   "outputs": [
    {
     "name": "stderr",
     "output_type": "stream",
     "text": [
      "/var/folders/5x/hwwm8kmn4z77258t79_46vfm0000gn/T/ipykernel_69978/4126904779.py:2: DtypeWarning: Columns (18) have mixed types. Specify dtype option on import or set low_memory=False.\n",
      "  option_prices = pd.read_csv(path, index_col=[0,1,2,3,4])\n"
     ]
    }
   ],
   "source": [
    "path = \"../modules/stochastic_volatility_models/stochastic_volatility_models/data/options/spx.csv\"\n",
    "option_prices = pd.read_csv(path, index_col=[0, 1, 2, 3, 4])"
   ]
  },
  {
   "cell_type": "code",
   "execution_count": 26,
   "metadata": {},
   "outputs": [
    {
     "data": {
      "text/plain": [
       "True"
      ]
     },
     "execution_count": 26,
     "metadata": {},
     "output_type": "execute_result"
    }
   ],
   "source": [
    "option_prices.index.is_unique"
   ]
  },
  {
   "cell_type": "code",
   "execution_count": 67,
   "metadata": {},
   "outputs": [
    {
     "data": {
      "text/plain": [
       "array(['a', 'b', 'c'], dtype='<U1')"
      ]
     },
     "execution_count": 67,
     "metadata": {},
     "output_type": "execute_result"
    }
   ],
   "source": [
    "import numpy as np\n",
    "\n",
    "\n",
    "np.char.lower(np.array([\"A\", \"B\", \"C\"]))"
   ]
  },
  {
   "cell_type": "code",
   "execution_count": 65,
   "metadata": {},
   "outputs": [
    {
     "name": "stdout",
     "output_type": "stream",
     "text": [
      "                  value_1   value_2\n",
      "Level_A Level_B                    \n",
      "A1      B1       f(A1,B1)  g(A1,B1)\n",
      "        B2       f(A1,B2)  g(A1,B2)\n",
      "A2      B1       f(A2,B1)  g(A2,B1)\n",
      "        B2       f(A2,B2)  g(A2,B2)\n",
      "A3      B1       f(A3,B1)  g(A3,B1)\n",
      "        B2       f(A3,B2)  g(A3,B2)\n",
      "(['A1', 'A2', 'A4'], 'B1')\n"
     ]
    },
    {
     "data": {
      "text/plain": [
       "array(['f(A1,B1)', 'g(A1,B1)', 'f(A1,B2)', 'g(A1,B2)', 'f(A2,B1)',\n",
       "       'g(A2,B1)', 'f(A2,B2)', 'g(A2,B2)', 'f(A3,B1)', 'g(A3,B1)',\n",
       "       'f(A3,B2)', 'g(A3,B2)'], dtype=object)"
      ]
     },
     "execution_count": 65,
     "metadata": {},
     "output_type": "execute_result"
    }
   ],
   "source": [
    "import pandas as pd\n",
    "\n",
    "# Define the MultiIndex levels\n",
    "A = [\"A1\", \"A2\", \"A3\"]\n",
    "B = [\"B1\", \"B2\"]\n",
    "\n",
    "# Create the MultiIndex\n",
    "index = pd.MultiIndex.from_product([A, B], names=[\"Level_A\", \"Level_B\"])\n",
    "\n",
    "\n",
    "# Define the functions f(A, B) and g(A, B)\n",
    "def f(a, b):\n",
    "\treturn f\"f({a},{b})\"\n",
    "\n",
    "\n",
    "def g(a, b):\n",
    "\treturn f\"g({a},{b})\"\n",
    "\n",
    "\n",
    "# Create a DataFrame using the MultiIndex\n",
    "df = pd.DataFrame(index=index)\n",
    "\n",
    "# Apply the functions to each index combination to set value_1 and value_2\n",
    "df[[\"value_1\", \"value_2\"]] = [[f(a, b), g(a, b)] for a, b in index]\n",
    "# df[\"value_2\"] = [g(a, b) for a, b in index]\n",
    "\n",
    "print(df)\n",
    "\n",
    "print(pd.IndexSlice[[\"A1\", \"A2\", \"A4\"], \"B1\"])\n",
    "# df.loc[pd.IndexSlice[[\"A1\", \"A2\", \"A4\"], \"B1\"], [\"value_1\", \"value_2\"]]\n",
    "df.values.ravel()"
   ]
  },
  {
   "cell_type": "code",
   "execution_count": 31,
   "metadata": {},
   "outputs": [
    {
     "name": "stdout",
     "output_type": "stream",
     "text": [
      "                               cp_flag      exdate  strike_price  \\\n",
      "symbol              date                                           \n",
      "SPXW 210104C1000000 2021-01-04       C  2021-01-04     1000000.0   \n",
      "SPXW 210104C1100000 2021-01-04       C  2021-01-04     1100000.0   \n",
      "SPXW 210104C1200000 2021-01-04       C  2021-01-04     1200000.0   \n",
      "SPXW 210104C1300000 2021-01-04       C  2021-01-04     1300000.0   \n",
      "SPXW 210104C1400000 2021-01-04       C  2021-01-04     1400000.0   \n",
      "\n",
      "                                am_settlement   last_date  best_bid  \\\n",
      "symbol              date                                              \n",
      "SPXW 210104C1000000 2021-01-04            0.0         NaN    2690.4   \n",
      "SPXW 210104C1100000 2021-01-04            0.0  2020-12-22    2590.4   \n",
      "SPXW 210104C1200000 2021-01-04            0.0         NaN    2490.4   \n",
      "SPXW 210104C1300000 2021-01-04            0.0         NaN    2390.9   \n",
      "SPXW 210104C1400000 2021-01-04            0.0         NaN    2290.4   \n",
      "\n",
      "                                best_offer  volume  open_interest  \\\n",
      "symbol              date                                            \n",
      "SPXW 210104C1000000 2021-01-04      2714.3     0.0            0.0   \n",
      "SPXW 210104C1100000 2021-01-04      2614.3     0.0            1.0   \n",
      "SPXW 210104C1200000 2021-01-04      2514.3     0.0            0.0   \n",
      "SPXW 210104C1300000 2021-01-04      2414.8     0.0            0.0   \n",
      "SPXW 210104C1400000 2021-01-04      2314.3     0.0            0.0   \n",
      "\n",
      "                                impl_volatility  delta  gamma  vega  theta  \\\n",
      "symbol              date                                                     \n",
      "SPXW 210104C1000000 2021-01-04              NaN    NaN    NaN   NaN    NaN   \n",
      "SPXW 210104C1100000 2021-01-04              NaN    NaN    NaN   NaN    NaN   \n",
      "SPXW 210104C1200000 2021-01-04              NaN    NaN    NaN   NaN    NaN   \n",
      "SPXW 210104C1300000 2021-01-04              NaN    NaN    NaN   NaN    NaN   \n",
      "SPXW 210104C1400000 2021-01-04              NaN    NaN    NaN   NaN    NaN   \n",
      "\n",
      "                                   optionid  forward_price expiry_indicator  \\\n",
      "symbol              date                                                      \n",
      "SPXW 210104C1000000 2021-01-04  137341733.0            NaN                w   \n",
      "SPXW 210104C1100000 2021-01-04  137341734.0            NaN                w   \n",
      "SPXW 210104C1200000 2021-01-04  137341735.0            NaN                w   \n",
      "SPXW 210104C1300000 2021-01-04  137341736.0            NaN                w   \n",
      "SPXW 210104C1400000 2021-01-04  137341737.0            NaN                w   \n",
      "\n",
      "                                root  suffix  \n",
      "symbol              date                      \n",
      "SPXW 210104C1000000 2021-01-04   NaN     NaN  \n",
      "SPXW 210104C1100000 2021-01-04   NaN     NaN  \n",
      "SPXW 210104C1200000 2021-01-04   NaN     NaN  \n",
      "SPXW 210104C1300000 2021-01-04   NaN     NaN  \n",
      "SPXW 210104C1400000 2021-01-04   NaN     NaN  \n",
      "True\n"
     ]
    }
   ],
   "source": [
    "df = option_prices.reset_index().set_index(keys=[\"symbol\", \"date\"])\n",
    "print(df.head())\n",
    "print(df.index.is_unique)"
   ]
  },
  {
   "cell_type": "code",
   "execution_count": 25,
   "metadata": {},
   "outputs": [
    {
     "data": {
      "text/html": [
       "<div>\n",
       "<style scoped>\n",
       "    .dataframe tbody tr th:only-of-type {\n",
       "        vertical-align: middle;\n",
       "    }\n",
       "\n",
       "    .dataframe tbody tr th {\n",
       "        vertical-align: top;\n",
       "    }\n",
       "\n",
       "    .dataframe thead th {\n",
       "        text-align: right;\n",
       "    }\n",
       "</style>\n",
       "<table border=\"1\" class=\"dataframe\">\n",
       "  <thead>\n",
       "    <tr style=\"text-align: right;\">\n",
       "      <th></th>\n",
       "      <th></th>\n",
       "      <th></th>\n",
       "      <th></th>\n",
       "      <th>symbol</th>\n",
       "      <th>last_date</th>\n",
       "      <th>best_bid</th>\n",
       "      <th>best_offer</th>\n",
       "      <th>volume</th>\n",
       "      <th>open_interest</th>\n",
       "      <th>impl_volatility</th>\n",
       "      <th>delta</th>\n",
       "      <th>gamma</th>\n",
       "      <th>vega</th>\n",
       "      <th>theta</th>\n",
       "      <th>optionid</th>\n",
       "      <th>forward_price</th>\n",
       "      <th>expiry_indicator</th>\n",
       "      <th>root</th>\n",
       "      <th>suffix</th>\n",
       "    </tr>\n",
       "    <tr>\n",
       "      <th>cp_flag</th>\n",
       "      <th>exdate</th>\n",
       "      <th>strike_price</th>\n",
       "      <th>date</th>\n",
       "      <th></th>\n",
       "      <th></th>\n",
       "      <th></th>\n",
       "      <th></th>\n",
       "      <th></th>\n",
       "      <th></th>\n",
       "      <th></th>\n",
       "      <th></th>\n",
       "      <th></th>\n",
       "      <th></th>\n",
       "      <th></th>\n",
       "      <th></th>\n",
       "      <th></th>\n",
       "      <th></th>\n",
       "      <th></th>\n",
       "      <th></th>\n",
       "    </tr>\n",
       "  </thead>\n",
       "  <tbody>\n",
       "    <tr>\n",
       "      <th rowspan=\"5\" valign=\"top\">C</th>\n",
       "      <th rowspan=\"5\" valign=\"top\">2021-01-15</th>\n",
       "      <th rowspan=\"5\" valign=\"top\">100000.0</th>\n",
       "      <th>2021-01-04</th>\n",
       "      <td>SPX 210115C100000</td>\n",
       "      <td>2021-01-04</td>\n",
       "      <td>3597.0</td>\n",
       "      <td>3601.9</td>\n",
       "      <td>1.0</td>\n",
       "      <td>963.0</td>\n",
       "      <td>NaN</td>\n",
       "      <td>NaN</td>\n",
       "      <td>NaN</td>\n",
       "      <td>NaN</td>\n",
       "      <td>NaN</td>\n",
       "      <td>135019486.0</td>\n",
       "      <td>NaN</td>\n",
       "      <td>NaN</td>\n",
       "      <td>NaN</td>\n",
       "      <td>NaN</td>\n",
       "    </tr>\n",
       "    <tr>\n",
       "      <th>2021-01-05</th>\n",
       "      <td>SPX 210115C100000</td>\n",
       "      <td>2021-01-04</td>\n",
       "      <td>3622.4</td>\n",
       "      <td>3627.1</td>\n",
       "      <td>0.0</td>\n",
       "      <td>962.0</td>\n",
       "      <td>NaN</td>\n",
       "      <td>NaN</td>\n",
       "      <td>NaN</td>\n",
       "      <td>NaN</td>\n",
       "      <td>NaN</td>\n",
       "      <td>135019486.0</td>\n",
       "      <td>NaN</td>\n",
       "      <td>NaN</td>\n",
       "      <td>NaN</td>\n",
       "      <td>NaN</td>\n",
       "    </tr>\n",
       "    <tr>\n",
       "      <th>2021-01-06</th>\n",
       "      <td>SPX 210115C100000</td>\n",
       "      <td>2021-01-06</td>\n",
       "      <td>3643.2</td>\n",
       "      <td>3653.1</td>\n",
       "      <td>3.0</td>\n",
       "      <td>962.0</td>\n",
       "      <td>6.389938</td>\n",
       "      <td>0.999992</td>\n",
       "      <td>0.0</td>\n",
       "      <td>0.021046</td>\n",
       "      <td>-3.173369</td>\n",
       "      <td>135019486.0</td>\n",
       "      <td>NaN</td>\n",
       "      <td>NaN</td>\n",
       "      <td>NaN</td>\n",
       "      <td>NaN</td>\n",
       "    </tr>\n",
       "    <tr>\n",
       "      <th>2021-01-07</th>\n",
       "      <td>SPX 210115C100000</td>\n",
       "      <td>2021-01-06</td>\n",
       "      <td>3702.2</td>\n",
       "      <td>3707.8</td>\n",
       "      <td>0.0</td>\n",
       "      <td>962.0</td>\n",
       "      <td>NaN</td>\n",
       "      <td>NaN</td>\n",
       "      <td>NaN</td>\n",
       "      <td>NaN</td>\n",
       "      <td>NaN</td>\n",
       "      <td>135019486.0</td>\n",
       "      <td>NaN</td>\n",
       "      <td>NaN</td>\n",
       "      <td>NaN</td>\n",
       "      <td>NaN</td>\n",
       "    </tr>\n",
       "    <tr>\n",
       "      <th>2021-01-08</th>\n",
       "      <td>SPX 210115C100000</td>\n",
       "      <td>2021-01-06</td>\n",
       "      <td>3722.3</td>\n",
       "      <td>3729.7</td>\n",
       "      <td>0.0</td>\n",
       "      <td>962.0</td>\n",
       "      <td>NaN</td>\n",
       "      <td>NaN</td>\n",
       "      <td>NaN</td>\n",
       "      <td>NaN</td>\n",
       "      <td>NaN</td>\n",
       "      <td>135019486.0</td>\n",
       "      <td>NaN</td>\n",
       "      <td>NaN</td>\n",
       "      <td>NaN</td>\n",
       "      <td>NaN</td>\n",
       "    </tr>\n",
       "  </tbody>\n",
       "</table>\n",
       "</div>"
      ],
      "text/plain": [
       "                                                       symbol   last_date  \\\n",
       "cp_flag exdate     strike_price date                                        \n",
       "C       2021-01-15 100000.0     2021-01-04  SPX 210115C100000  2021-01-04   \n",
       "                                2021-01-05  SPX 210115C100000  2021-01-04   \n",
       "                                2021-01-06  SPX 210115C100000  2021-01-06   \n",
       "                                2021-01-07  SPX 210115C100000  2021-01-06   \n",
       "                                2021-01-08  SPX 210115C100000  2021-01-06   \n",
       "\n",
       "                                            best_bid  best_offer  volume  \\\n",
       "cp_flag exdate     strike_price date                                       \n",
       "C       2021-01-15 100000.0     2021-01-04    3597.0      3601.9     1.0   \n",
       "                                2021-01-05    3622.4      3627.1     0.0   \n",
       "                                2021-01-06    3643.2      3653.1     3.0   \n",
       "                                2021-01-07    3702.2      3707.8     0.0   \n",
       "                                2021-01-08    3722.3      3729.7     0.0   \n",
       "\n",
       "                                            open_interest  impl_volatility  \\\n",
       "cp_flag exdate     strike_price date                                         \n",
       "C       2021-01-15 100000.0     2021-01-04          963.0              NaN   \n",
       "                                2021-01-05          962.0              NaN   \n",
       "                                2021-01-06          962.0         6.389938   \n",
       "                                2021-01-07          962.0              NaN   \n",
       "                                2021-01-08          962.0              NaN   \n",
       "\n",
       "                                               delta  gamma      vega  \\\n",
       "cp_flag exdate     strike_price date                                    \n",
       "C       2021-01-15 100000.0     2021-01-04       NaN    NaN       NaN   \n",
       "                                2021-01-05       NaN    NaN       NaN   \n",
       "                                2021-01-06  0.999992    0.0  0.021046   \n",
       "                                2021-01-07       NaN    NaN       NaN   \n",
       "                                2021-01-08       NaN    NaN       NaN   \n",
       "\n",
       "                                               theta     optionid  \\\n",
       "cp_flag exdate     strike_price date                                \n",
       "C       2021-01-15 100000.0     2021-01-04       NaN  135019486.0   \n",
       "                                2021-01-05       NaN  135019486.0   \n",
       "                                2021-01-06 -3.173369  135019486.0   \n",
       "                                2021-01-07       NaN  135019486.0   \n",
       "                                2021-01-08       NaN  135019486.0   \n",
       "\n",
       "                                            forward_price expiry_indicator  \\\n",
       "cp_flag exdate     strike_price date                                         \n",
       "C       2021-01-15 100000.0     2021-01-04            NaN              NaN   \n",
       "                                2021-01-05            NaN              NaN   \n",
       "                                2021-01-06            NaN              NaN   \n",
       "                                2021-01-07            NaN              NaN   \n",
       "                                2021-01-08            NaN              NaN   \n",
       "\n",
       "                                            root  suffix  \n",
       "cp_flag exdate     strike_price date                      \n",
       "C       2021-01-15 100000.0     2021-01-04   NaN     NaN  \n",
       "                                2021-01-05   NaN     NaN  \n",
       "                                2021-01-06   NaN     NaN  \n",
       "                                2021-01-07   NaN     NaN  \n",
       "                                2021-01-08   NaN     NaN  "
      ]
     },
     "execution_count": 25,
     "metadata": {},
     "output_type": "execute_result"
    }
   ],
   "source": [
    "option_prices.xs(1, level=3).head()"
   ]
  },
  {
   "cell_type": "code",
   "execution_count": 97,
   "metadata": {},
   "outputs": [],
   "source": [
    "filtered_groups = option_prices.xs(1.0, level=3).groupby(level=[0, 1, 2]).first()"
   ]
  },
  {
   "cell_type": "code",
   "execution_count": 102,
   "metadata": {},
   "outputs": [
    {
     "name": "stdout",
     "output_type": "stream",
     "text": [
      "(11724,)\n",
      "(2,)\n",
      "(27,)\n",
      "(466,)\n"
     ]
    }
   ],
   "source": [
    "print(filtered_groups.index.shape)\n",
    "for i in range(3):\n",
    "\tprint(filtered_groups.index.get_level_values(i).unique().shape)"
   ]
  },
  {
   "cell_type": "code",
   "execution_count": 89,
   "metadata": {},
   "outputs": [
    {
     "data": {
      "text/plain": [
       "(994262, 13)"
      ]
     },
     "execution_count": 89,
     "metadata": {},
     "output_type": "execute_result"
    }
   ],
   "source": [
    "option_prices.xs(1.0, level=3).index.get_level_values(3).unique().shape\n",
    "option_prices.xs(1.0, level=3).shape"
   ]
  },
  {
   "cell_type": "code",
   "execution_count": 75,
   "metadata": {},
   "outputs": [
    {
     "data": {
      "text/plain": [
       "(994262, 13)"
      ]
     },
     "execution_count": 75,
     "metadata": {},
     "output_type": "execute_result"
    }
   ],
   "source": [
    "option_prices.xs(1.0, level=3).shape"
   ]
  },
  {
   "cell_type": "code",
   "execution_count": 71,
   "metadata": {},
   "outputs": [
    {
     "data": {
      "text/html": [
       "<div>\n",
       "<style scoped>\n",
       "    .dataframe tbody tr th:only-of-type {\n",
       "        vertical-align: middle;\n",
       "    }\n",
       "\n",
       "    .dataframe tbody tr th {\n",
       "        vertical-align: top;\n",
       "    }\n",
       "\n",
       "    .dataframe thead th {\n",
       "        text-align: right;\n",
       "    }\n",
       "</style>\n",
       "<table border=\"1\" class=\"dataframe\">\n",
       "  <thead>\n",
       "    <tr style=\"text-align: right;\">\n",
       "      <th></th>\n",
       "      <th>date</th>\n",
       "      <th>symbol</th>\n",
       "      <th>exdate</th>\n",
       "      <th>last_date</th>\n",
       "      <th>cp_flag</th>\n",
       "      <th>strike_price</th>\n",
       "      <th>best_bid</th>\n",
       "      <th>best_offer</th>\n",
       "      <th>volume</th>\n",
       "      <th>open_interest</th>\n",
       "      <th>impl_volatility</th>\n",
       "      <th>delta</th>\n",
       "      <th>gamma</th>\n",
       "      <th>vega</th>\n",
       "      <th>theta</th>\n",
       "      <th>optionid</th>\n",
       "      <th>am_settlement</th>\n",
       "      <th>expiry_indicator</th>\n",
       "    </tr>\n",
       "  </thead>\n",
       "  <tbody>\n",
       "    <tr>\n",
       "      <th>89472</th>\n",
       "      <td>2023-01-10</td>\n",
       "      <td>SPX 230120C200000</td>\n",
       "      <td>2023-01-20</td>\n",
       "      <td>2023-01-05</td>\n",
       "      <td>C</td>\n",
       "      <td>200000.0</td>\n",
       "      <td>3715.6</td>\n",
       "      <td>3720.3</td>\n",
       "      <td>0.0</td>\n",
       "      <td>1125.0</td>\n",
       "      <td>NaN</td>\n",
       "      <td>NaN</td>\n",
       "      <td>NaN</td>\n",
       "      <td>NaN</td>\n",
       "      <td>NaN</td>\n",
       "      <td>140692656.0</td>\n",
       "      <td>1.0</td>\n",
       "      <td>NaN</td>\n",
       "    </tr>\n",
       "  </tbody>\n",
       "</table>\n",
       "</div>"
      ],
      "text/plain": [
       "             date             symbol      exdate   last_date cp_flag  \\\n",
       "89472  2023-01-10  SPX 230120C200000  2023-01-20  2023-01-05       C   \n",
       "\n",
       "       strike_price  best_bid  best_offer  volume  open_interest  \\\n",
       "89472      200000.0    3715.6      3720.3     0.0         1125.0   \n",
       "\n",
       "       impl_volatility  delta  gamma  vega  theta     optionid  am_settlement  \\\n",
       "89472              NaN    NaN    NaN   NaN    NaN  140692656.0            1.0   \n",
       "\n",
       "      expiry_indicator  \n",
       "89472              NaN  "
      ]
     },
     "execution_count": 71,
     "metadata": {},
     "output_type": "execute_result"
    }
   ],
   "source": [
    "option_prices[(option_prices[\"exdate\"] == \"2023-01-20\") & (option_prices[\"strike_price\"] == 200000.0) & (option_prices[\"cp_flag\"] == \"C\") & (option_prices[\"date\"] == \"2023-01-10\") & (option_prices[\"am_settlement\"] == 1)]"
   ]
  },
  {
   "cell_type": "code",
   "execution_count": 125,
   "metadata": {},
   "outputs": [
    {
     "data": {
      "text/plain": [
       "False"
      ]
     },
     "execution_count": 125,
     "metadata": {},
     "output_type": "execute_result"
    }
   ],
   "source": [
    "pd.IndexSlice[\"C\", \"2021-01-04\", 1000000, 0, \"2021-01-04\"] in option_prices.index"
   ]
  },
  {
   "cell_type": "code",
   "execution_count": 123,
   "metadata": {},
   "outputs": [
    {
     "data": {
      "text/plain": [
       "2690.4"
      ]
     },
     "execution_count": 123,
     "metadata": {},
     "output_type": "execute_result"
    }
   ],
   "source": [
    "option_prices.loc[pd.IndexSlice[\"C\", \"2021-01-04\", 1000000, 0, \"2021-01-04\"], \"best_bid\"]"
   ]
  },
  {
   "cell_type": "code",
   "execution_count": 26,
   "metadata": {},
   "outputs": [],
   "source": [
    "from datetime import datetime\n",
    "\n",
    "ts = option_prices[\"date\"].apply(lambda date: datetime.strptime(date, \"%Y-%m-%d\"))"
   ]
  },
  {
   "cell_type": "code",
   "execution_count": 27,
   "metadata": {},
   "outputs": [
    {
     "data": {
      "text/plain": [
       "0         2023-01-03\n",
       "1         2023-01-03\n",
       "2         2023-01-03\n",
       "3         2023-01-03\n",
       "4         2023-01-03\n",
       "             ...    \n",
       "3086603   2023-08-31\n",
       "3086604   2023-08-31\n",
       "3086605   2023-08-31\n",
       "3086606   2023-08-31\n",
       "3086607   2023-08-31\n",
       "Name: date, Length: 3086608, dtype: datetime64[ns]"
      ]
     },
     "execution_count": 27,
     "metadata": {},
     "output_type": "execute_result"
    }
   ],
   "source": [
    "ts"
   ]
  }
 ],
 "metadata": {
  "kernelspec": {
   "display_name": ".venv",
   "language": "python",
   "name": "python3"
  },
  "language_info": {
   "codemirror_mode": {
    "name": "ipython",
    "version": 3
   },
   "file_extension": ".py",
   "mimetype": "text/x-python",
   "name": "python",
   "nbconvert_exporter": "python",
   "pygments_lexer": "ipython3",
   "version": "3.12.4"
  }
 },
 "nbformat": 4,
 "nbformat_minor": 2
}
