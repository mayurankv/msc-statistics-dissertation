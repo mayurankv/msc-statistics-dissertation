{
 "cells": [
  {
   "cell_type": "code",
   "execution_count": 7,
   "metadata": {},
   "outputs": [],
   "source": [
    "import wrds\n",
    "import numpy as np\n",
    "from pandas import DataFrame\n",
    "import pandas as pd"
   ]
  },
  {
   "cell_type": "code",
   "execution_count": 2,
   "metadata": {},
   "outputs": [
    {
     "name": "stdout",
     "output_type": "stream",
     "text": [
      "Loading library list...\n",
      "Done\n"
     ]
    }
   ],
   "source": [
    "with wrds.Connection(wrds_username=\"mayurankv\") as db:\n",
    "\tquery = \"\"\"\n",
    "\tSELECT *\n",
    "\tFROM crsp_a_treasuries.bmyield\n",
    "\t\"\"\"\n",
    "\n",
    "\ttest = db.raw_sql(query)"
   ]
  },
  {
   "cell_type": "code",
   "execution_count": 3,
   "metadata": {},
   "outputs": [
    {
     "data": {
      "text/html": [
       "<div>\n",
       "<style scoped>\n",
       "    .dataframe tbody tr th:only-of-type {\n",
       "        vertical-align: middle;\n",
       "    }\n",
       "\n",
       "    .dataframe tbody tr th {\n",
       "        vertical-align: top;\n",
       "    }\n",
       "\n",
       "    .dataframe thead th {\n",
       "        text-align: right;\n",
       "    }\n",
       "</style>\n",
       "<table border=\"1\" class=\"dataframe\">\n",
       "  <thead>\n",
       "    <tr style=\"text-align: right;\">\n",
       "      <th></th>\n",
       "      <th>crspid</th>\n",
       "      <th>qdate</th>\n",
       "      <th>accint</th>\n",
       "      <th>yield</th>\n",
       "      <th>retnua</th>\n",
       "      <th>duratn</th>\n",
       "    </tr>\n",
       "  </thead>\n",
       "  <tbody>\n",
       "    <tr>\n",
       "      <th>0</th>\n",
       "      <td>19610622.800000</td>\n",
       "      <td>1961-06-14</td>\n",
       "      <td>0.000000</td>\n",
       "      <td>0.00005</td>\n",
       "      <td>-99.0000</td>\n",
       "      <td>8.0</td>\n",
       "    </tr>\n",
       "    <tr>\n",
       "      <th>1</th>\n",
       "      <td>19610622.800000</td>\n",
       "      <td>1961-06-15</td>\n",
       "      <td>0.000000</td>\n",
       "      <td>0.00005</td>\n",
       "      <td>0.0001</td>\n",
       "      <td>7.0</td>\n",
       "    </tr>\n",
       "    <tr>\n",
       "      <th>2</th>\n",
       "      <td>19610622.800000</td>\n",
       "      <td>1961-06-16</td>\n",
       "      <td>0.000000</td>\n",
       "      <td>0.00005</td>\n",
       "      <td>0.0000</td>\n",
       "      <td>6.0</td>\n",
       "    </tr>\n",
       "    <tr>\n",
       "      <th>3</th>\n",
       "      <td>19610622.800000</td>\n",
       "      <td>1961-06-19</td>\n",
       "      <td>0.000000</td>\n",
       "      <td>0.00006</td>\n",
       "      <td>0.0001</td>\n",
       "      <td>3.0</td>\n",
       "    </tr>\n",
       "    <tr>\n",
       "      <th>4</th>\n",
       "      <td>19610622.800000</td>\n",
       "      <td>1961-06-20</td>\n",
       "      <td>0.000000</td>\n",
       "      <td>0.00006</td>\n",
       "      <td>0.0001</td>\n",
       "      <td>2.0</td>\n",
       "    </tr>\n",
       "    <tr>\n",
       "      <th>...</th>\n",
       "      <td>...</td>\n",
       "      <td>...</td>\n",
       "      <td>...</td>\n",
       "      <td>...</td>\n",
       "      <td>...</td>\n",
       "      <td>...</td>\n",
       "    </tr>\n",
       "    <tr>\n",
       "      <th>392687</th>\n",
       "      <td>20441115.103000</td>\n",
       "      <td>2014-12-24</td>\n",
       "      <td>0.306630</td>\n",
       "      <td>0.00008</td>\n",
       "      <td>0.0036</td>\n",
       "      <td>7328.6</td>\n",
       "    </tr>\n",
       "    <tr>\n",
       "      <th>392688</th>\n",
       "      <td>20441115.103000</td>\n",
       "      <td>2014-12-26</td>\n",
       "      <td>0.323204</td>\n",
       "      <td>0.00008</td>\n",
       "      <td>0.0033</td>\n",
       "      <td>7333.0</td>\n",
       "    </tr>\n",
       "    <tr>\n",
       "      <th>392689</th>\n",
       "      <td>20441115.103000</td>\n",
       "      <td>2014-12-29</td>\n",
       "      <td>0.348066</td>\n",
       "      <td>0.00008</td>\n",
       "      <td>0.0091</td>\n",
       "      <td>7347.8</td>\n",
       "    </tr>\n",
       "    <tr>\n",
       "      <th>392690</th>\n",
       "      <td>20441115.103000</td>\n",
       "      <td>2014-12-30</td>\n",
       "      <td>0.356354</td>\n",
       "      <td>0.00007</td>\n",
       "      <td>0.0032</td>\n",
       "      <td>7353.1</td>\n",
       "    </tr>\n",
       "    <tr>\n",
       "      <th>392691</th>\n",
       "      <td>20441115.103000</td>\n",
       "      <td>2014-12-31</td>\n",
       "      <td>0.364641</td>\n",
       "      <td>0.00007</td>\n",
       "      <td>0.0011</td>\n",
       "      <td>7354.2</td>\n",
       "    </tr>\n",
       "  </tbody>\n",
       "</table>\n",
       "<p>2392692 rows × 6 columns</p>\n",
       "</div>"
      ],
      "text/plain": [
       "                 crspid       qdate    accint    yield   retnua  duratn\n",
       "0       19610622.800000  1961-06-14  0.000000  0.00005 -99.0000     8.0\n",
       "1       19610622.800000  1961-06-15  0.000000  0.00005   0.0001     7.0\n",
       "2       19610622.800000  1961-06-16  0.000000  0.00005   0.0000     6.0\n",
       "3       19610622.800000  1961-06-19  0.000000  0.00006   0.0001     3.0\n",
       "4       19610622.800000  1961-06-20  0.000000  0.00006   0.0001     2.0\n",
       "...                 ...         ...       ...      ...      ...     ...\n",
       "392687  20441115.103000  2014-12-24  0.306630  0.00008   0.0036  7328.6\n",
       "392688  20441115.103000  2014-12-26  0.323204  0.00008   0.0033  7333.0\n",
       "392689  20441115.103000  2014-12-29  0.348066  0.00008   0.0091  7347.8\n",
       "392690  20441115.103000  2014-12-30  0.356354  0.00007   0.0032  7353.1\n",
       "392691  20441115.103000  2014-12-31  0.364641  0.00007   0.0011  7354.2\n",
       "\n",
       "[2392692 rows x 6 columns]"
      ]
     },
     "execution_count": 3,
     "metadata": {},
     "output_type": "execute_result"
    }
   ],
   "source": [
    "test"
   ]
  },
  {
   "cell_type": "code",
   "execution_count": 5,
   "metadata": {},
   "outputs": [],
   "source": [
    "with wrds.Connection(wrds_username=\"mayurankv\") as db:\n",
    "\tquery = \"\"\"\n",
    "\tSELECT *\n",
    "\tFROM optionm_all.zerocd\n",
    "\tWHERE date >= '2015-01-01'\n",
    "\t\"\"\"\n",
    "\n",
    "\ttest2 = db.raw_sql(query)\n",
    "\n",
    "assert isinstance(test2, DataFrame)\n",
    "test2[\"date\"] = test2[\"date\"].astype(str)\n",
    "test2 = test2.set_index([\"date\", \"days\"])"
   ]
  },
  {
   "cell_type": "code",
   "execution_count": 2,
   "metadata": {},
   "outputs": [
    {
     "data": {
      "text/plain": [
       "80.74164999999999"
      ]
     },
     "execution_count": 2,
     "metadata": {},
     "output_type": "execute_result"
    }
   ],
   "source": [
    "a = np.timedelta64(365, \"D\") / np.timedelta64(1, \"D\") * 0.22121\n",
    "a\n",
    "# a.astype(\"timedelta64[h]\").astype(float) / 24"
   ]
  },
  {
   "cell_type": "code",
   "execution_count": 9,
   "metadata": {},
   "outputs": [],
   "source": [
    "path: str = \"../modules/stochastic_volatility_models/stochastic_volatility_models/data/rates.csv\"\n",
    "test2 = pd.read_csv(\n",
    "\tpath,\n",
    "\tindex_col=[0, 1],\n",
    ")"
   ]
  },
  {
   "cell_type": "code",
   "execution_count": 121,
   "metadata": {},
   "outputs": [],
   "source": [
    "import matplotlib.pyplot as plt\n",
    "from nelson_siegel_svensson.calibrate import calibrate_nss_ols\n",
    "from scipy.interpolate import CubicSpline\n",
    "\n",
    "\n",
    "def plot_fit_curve(date: str, expiries=np.array([])):\n",
    "\tassert isinstance(test2, DataFrame)\n",
    "\tdf = test2.xs(date, level=0)\n",
    "\n",
    "\tcurve, status = calibrate_nss_ols(\n",
    "\t\tt=df.index.values,\n",
    "\t\ty=df[\"rate\"].to_numpy(),\n",
    "\t)\n",
    "\tcs = CubicSpline(\n",
    "\t\tdf.index.values,\n",
    "\t\tdf[\"rate\"].to_numpy(),\n",
    "\t\tbc_type=\"natural\",\n",
    "\t)\n",
    "\trisk_free_interest_rate = cs(expiries * 365)\n",
    "\n",
    "\t# plt.plot(df.index, df[\"rate\"], marker=\"x\", label=f\"{date}\")\n",
    "\tplt.plot(expiries * 365, risk_free_interest_rate, linestyle=\"\", marker=\"o\")\n",
    "\tplt.plot(df.index, df[\"rate\"], marker=\"x\", color=\"grey\")\n",
    "\tt = np.linspace(start=1, stop=df.index.max(), num=10000)\n",
    "\tt2 = np.linspace(start=30, stop=df.index.max(), num=1000)\n",
    "\tplt.plot(t, cs(t), label=f\"{date}\")\n",
    "\tplt.plot(t2, curve(t2), label=\"nss\")\n",
    "\tplt.legend()"
   ]
  },
  {
   "cell_type": "code",
   "execution_count": 125,
   "metadata": {},
   "outputs": [
    {
     "data": {
      "image/png": "[encoded data removed]",
      "text/plain": [
       "<Figure size 640x480 with 1 Axes>"
      ]
     },
     "metadata": {},
     "output_type": "display_data"
    }
   ],
   "source": [
    "plot_fit_curve(\"2020-04-01\", np.array([1, 2, 3, 4, 5, 6, 10, 20, 30]) / 12)"
   ]
  },
  {
   "cell_type": "code",
   "execution_count": 12,
   "metadata": {},
   "outputs": [
    {
     "name": "stderr",
     "output_type": "stream",
     "text": [
      "\u001b[32m2024-07-26 05:14:47.861\u001b[0m | \u001b[1mINFO    \u001b[0m | \u001b[36mstochastic_volatility_models.config\u001b[0m:\u001b[36minitialise\u001b[0m:\u001b[36m30\u001b[0m - \u001b[1mLoaded module `stochastic_volatility_models` from project directory path `/Users/mayurankv/Documents/Mayuran/Programming/Projects/Academic/Imperial College London/MSc Statistics/Dissertation/Project/modules`\u001b[0m\n"
     ]
    },
    {
     "name": "stdout",
     "output_type": "stream",
     "text": [
      "2016-10-05\n"
     ]
    },
    {
     "data": {
      "text/plain": [
       "4.713950296689907"
      ]
     },
     "execution_count": 12,
     "metadata": {},
     "output_type": "execute_result"
    }
   ],
   "source": [
    "from stochastic_volatility_models.src.data.rates import get_risk_free_interest_rate\n",
    "import numpy as np\n",
    "\n",
    "get_risk_free_interest_rate(\n",
    "\ttime=np.datetime64(\"2023-06-01\"),\n",
    "\ttime_to_expiry=1 / 12,\n",
    ")"
   ]
  }
 ],
 "metadata": {
  "kernelspec": {
   "display_name": ".venv",
   "language": "python",
   "name": "python3"
  },
  "language_info": {
   "codemirror_mode": {
    "name": "ipython",
    "version": 3
   },
   "file_extension": ".py",
   "mimetype": "text/x-python",
   "name": "python",
   "nbconvert_exporter": "python",
   "pygments_lexer": "ipython3",
   "version": "3.12.4"
  }
 },
 "nbformat": 4,
 "nbformat_minor": 2
}
