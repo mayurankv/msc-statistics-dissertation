{
 "cells": [
  {
   "cell_type": "code",
   "execution_count": 2,
   "metadata": {},
   "outputs": [],
   "source": [
    "import wrds"
   ]
  },
  {
   "cell_type": "code",
   "execution_count": 18,
   "metadata": {},
   "outputs": [
    {
     "name": "stdout",
     "output_type": "stream",
     "text": [
      "Loading library list...\n"
     ]
    },
    {
     "name": "stdout",
     "output_type": "stream",
     "text": [
      "Done\n",
      "Approximately 80790 rows in crsp.stocknames.\n"
     ]
    }
   ],
   "source": [
    "with wrds.Connection(wrds_username=\"mayurankv\") as db:\n",
    "\tdb.list_libraries().sort()\n",
    "\tdb.describe_table(library=\"crsp\", table=\"stocknames\")"
   ]
  },
  {
   "cell_type": "code",
   "execution_count": 19,
   "metadata": {},
   "outputs": [],
   "source": [
    "query = \"\"\"\n",
    "SELECT date, prc\n",
    "FROM crsp.dsf\n",
    "WHERE cusip = 'SPY'\n",
    "ORDER BY date\n",
    "\"\"\"\n",
    "\n",
    "query = \"\"\"\n",
    "SELECT date, time, open, high, low, close, volume\n",
    "FROM taq.ms_ticks\n",
    "WHERE ticker = 'AAPL' AND date >= '2024-01-01'\n",
    "ORDER BY date, time\n",
    "\"\"\""
   ]
  },
  {
   "cell_type": "code",
   "execution_count": null,
   "metadata": {},
   "outputs": [],
   "source": []
  },
  {
   "cell_type": "code",
   "execution_count": 20,
   "metadata": {},
   "outputs": [
    {
     "ename": "AttributeError",
     "evalue": "'NoneType' object has no attribute 'dispose'",
     "output_type": "error",
     "traceback": [
      "\u001b[0;31m---------------------------------------------------------------------------\u001b[0m",
      "\u001b[0;31mAttributeError\u001b[0m                            Traceback (most recent call last)",
      "Cell \u001b[0;32mIn[20], line 7\u001b[0m\n\u001b[1;32m      1\u001b[0m \u001b[38;5;66;03m# spx_data = db.raw_sql(query)\u001b[39;00m\n\u001b[1;32m      2\u001b[0m \n\u001b[1;32m      3\u001b[0m \u001b[38;5;66;03m# Display the DataFrame\u001b[39;00m\n\u001b[1;32m      4\u001b[0m \u001b[38;5;66;03m# spx_data\u001b[39;00m\n\u001b[1;32m      5\u001b[0m \n\u001b[1;32m      6\u001b[0m \u001b[38;5;66;03m# Close the WRDS connection\u001b[39;00m\n\u001b[0;32m----> 7\u001b[0m \u001b[43mdb\u001b[49m\u001b[38;5;241;43m.\u001b[39;49m\u001b[43mclose\u001b[49m\u001b[43m(\u001b[49m\u001b[43m)\u001b[49m\n",
      "File \u001b[0;32m~/Documents/Mayuran/Programming/Projects/Academic/Imperial College London/MSc Statistics/Dissertation/.venv/lib/python3.12/site-packages/wrds/sql.py:143\u001b[0m, in \u001b[0;36mConnection.close\u001b[0;34m(self)\u001b[0m\n\u001b[1;32m    139\u001b[0m \u001b[38;5;250m\u001b[39m\u001b[38;5;124;03m\"\"\"\u001b[39;00m\n\u001b[1;32m    140\u001b[0m \u001b[38;5;124;03mClose the connection to the database.\u001b[39;00m\n\u001b[1;32m    141\u001b[0m \u001b[38;5;124;03m\"\"\"\u001b[39;00m\n\u001b[1;32m    142\u001b[0m \u001b[38;5;28mself\u001b[39m\u001b[38;5;241m.\u001b[39mconnection\u001b[38;5;241m.\u001b[39mclose()\n\u001b[0;32m--> 143\u001b[0m \u001b[38;5;28;43mself\u001b[39;49m\u001b[38;5;241;43m.\u001b[39;49m\u001b[43mengine\u001b[49m\u001b[38;5;241;43m.\u001b[39;49m\u001b[43mdispose\u001b[49m()\n\u001b[1;32m    144\u001b[0m \u001b[38;5;28mself\u001b[39m\u001b[38;5;241m.\u001b[39mengine \u001b[38;5;241m=\u001b[39m \u001b[38;5;28;01mNone\u001b[39;00m\n",
      "\u001b[0;31mAttributeError\u001b[0m: 'NoneType' object has no attribute 'dispose'"
     ]
    }
   ],
   "source": [
    "# spx_data = db.raw_sql(query)\n",
    "\n",
    "# Display the DataFrame\n",
    "# spx_data\n",
    "\n",
    "# Close the WRDS connection\n",
    "# db.close()\n"
   ]
  },
  {
   "cell_type": "code",
   "execution_count": null,
   "metadata": {},
   "outputs": [
    {
     "name": "stdout",
     "output_type": "stream",
     "text": [
      "   count\n",
      "0    503\n"
     ]
    }
   ],
   "source": [
    "query = \"\"\"\n",
    "SELECT COUNT(*)\n",
    "FROM crsp_a_indexes.dsp500list_v2\n",
    "WHERE NOT (mbrenddt < '2023-12-29')\n",
    "\"\"\"\n",
    "\n",
    "result = db.raw_sql(query)\n",
    "print(result)"
   ]
  },
  {
   "cell_type": "code",
   "execution_count": null,
   "metadata": {},
   "outputs": [
    {
     "name": "stdout",
     "output_type": "stream",
     "text": [
      "Loading library list...\n",
      "Done\n"
     ]
    }
   ],
   "source": [
    "with wrds.Connection(wrds_username=\"mayurankv\") as db:\n",
    "\tquery = \"\"\"\n",
    "\tSELECT\n",
    "\t\tdate,\n",
    "\t\tsecid,\n",
    "\t\tsymbol,\n",
    "\t\texdate,\n",
    "\t\tstrike_price,\n",
    "\t\tcp_flag,\n",
    "\t\tbest_bid,\n",
    "\t\tbest_offer,\n",
    "\t\timpl_volatility,\n",
    "\t\tdelta,\n",
    "\t\tgamma,\n",
    "\t\tvega,\n",
    "\t\ttheta\n",
    "\tFROM\n",
    "\t\toptionm.optionmetrics\n",
    "\tWHERE\n",
    "\t\tsymbol = 'SPX'\n",
    "\t\tAND date BETWEEN '2023-01-01' AND '2023-12-31'\n",
    "\tORDER BY\n",
    "\t\tdate, exdate, strike_price;\n",
    "\t\"\"\"\n",
    "\t# spx_options = db.raw_sql(query)\n",
    "\t# print(spx_options)"
   ]
  },
  {
   "cell_type": "code",
   "execution_count": 3,
   "metadata": {},
   "outputs": [
    {
     "name": "stdout",
     "output_type": "stream",
     "text": [
      "Loading library list...\n",
      "Done\n"
     ]
    },
    {
     "ename": "NameError",
     "evalue": "name 'query' is not defined",
     "output_type": "error",
     "traceback": [
      "\u001b[0;31m---------------------------------------------------------------------------\u001b[0m",
      "\u001b[0;31mNameError\u001b[0m                                 Traceback (most recent call last)",
      "Cell \u001b[0;32mIn[3], line 10\u001b[0m\n\u001b[1;32m      2\u001b[0m squery \u001b[38;5;241m=\u001b[39m \u001b[38;5;124m\"\"\"\u001b[39m\n\u001b[1;32m      3\u001b[0m \u001b[38;5;124mSELECT *\u001b[39m\n\u001b[1;32m      4\u001b[0m \u001b[38;5;124mFROM optionm_all.option_price\u001b[39m\n\u001b[1;32m      5\u001b[0m \u001b[38;5;124mWHERE underlying_id = \u001b[39m\u001b[38;5;124m'\u001b[39m\u001b[38;5;124mSPX\u001b[39m\u001b[38;5;124m'\u001b[39m\n\u001b[1;32m      6\u001b[0m \u001b[38;5;124mAND date BETWEEN \u001b[39m\u001b[38;5;124m'\u001b[39m\u001b[38;5;124m2023-01-01\u001b[39m\u001b[38;5;124m'\u001b[39m\u001b[38;5;124m AND \u001b[39m\u001b[38;5;124m'\u001b[39m\u001b[38;5;124m2023-12-31\u001b[39m\u001b[38;5;124m'\u001b[39m\n\u001b[1;32m      7\u001b[0m \u001b[38;5;124m\u001b[39m\u001b[38;5;124m\"\"\"\u001b[39m\n\u001b[1;32m      9\u001b[0m \u001b[38;5;66;03m# Execute the query and fetch the data\u001b[39;00m\n\u001b[0;32m---> 10\u001b[0m spx_option_prices \u001b[38;5;241m=\u001b[39m db\u001b[38;5;241m.\u001b[39mraw_sql(\u001b[43mquery\u001b[49m)\n\u001b[1;32m     12\u001b[0m \u001b[38;5;66;03m# Display the first few rows of the data\u001b[39;00m\n\u001b[1;32m     13\u001b[0m \u001b[38;5;28mprint\u001b[39m(spx_option_prices\u001b[38;5;241m.\u001b[39mhead())\n",
      "\u001b[0;31mNameError\u001b[0m: name 'query' is not defined"
     ]
    }
   ],
   "source": [
    "with wrds.Connection(wrds_username=\"mayurankv\") as db:\n",
    "\tsquery = \"\"\"\n",
    "\tSELECT *\n",
    "\tFROM optionm_all.option_price\n",
    "\tWHERE underlying_id = 'SPX'\n",
    "\tAND date BETWEEN '2023-01-01' AND '2023-12-31'\n",
    "\t\"\"\"\n",
    "\n",
    "\t# Execute the query and fetch the data\n",
    "\toption_prices = db.raw_sql(squery)\n",
    "\n",
    "\t# Display the first few rows of the data\n",
    "\tprint(option_prices.head())"
   ]
  },
  {
   "cell_type": "code",
   "execution_count": 4,
   "metadata": {},
   "outputs": [
    {
     "name": "stdout",
     "output_type": "stream",
     "text": [
      "Loading library list...\n",
      "Done\n",
      "Index([     0,      1,      2,      3,      4,      5,      6,      7,      8,\n",
      "            9,\n",
      "       ...\n",
      "       393380, 393381, 393382, 393383, 393384, 393385, 393386, 393387, 393388,\n",
      "       393389],\n",
      "      dtype='int64', length=1893390)\n",
      "      secid        date              symbol symbol_flag      exdate  \\\n",
      "0  108105.0  2016-01-04  SPX 160115C1000000           1  2016-01-15   \n",
      "1  108105.0  2016-01-04  SPX 160115C1025000           1  2016-01-15   \n",
      "2  108105.0  2016-01-04  SPX 160115C1050000           1  2016-01-15   \n",
      "3  108105.0  2016-01-04  SPX 160115C1075000           1  2016-01-15   \n",
      "4  108105.0  2016-01-04  SPX 160115C1100000           1  2016-01-15   \n",
      "\n",
      "    last_date cp_flag  strike_price  best_bid  best_offer  ...  theta  \\\n",
      "0  2016-01-04       C     1000000.0    1007.4      1010.8  ...    NaN   \n",
      "1  2015-06-29       C     1025000.0     982.3       985.8  ...    NaN   \n",
      "2  2015-06-29       C     1050000.0     957.3       960.9  ...    NaN   \n",
      "3  2015-06-29       C     1075000.0     932.3       935.9  ...    NaN   \n",
      "4  2015-12-16       C     1100000.0     907.4       911.1  ...    NaN   \n",
      "\n",
      "      optionid  cfadj  am_settlement  contract_size  ss_flag  forward_price  \\\n",
      "0  103574072.0    1.0            1.0          100.0        0           None   \n",
      "1  103574073.0    1.0            1.0          100.0        0           None   \n",
      "2  103574074.0    1.0            1.0          100.0        0           None   \n",
      "3  103574075.0    1.0            1.0          100.0        0           None   \n",
      "4  103574076.0    1.0            1.0          100.0        0           None   \n",
      "\n",
      "   expiry_indicator  root  suffix  \n",
      "0              None  None    None  \n",
      "1              None  None    None  \n",
      "2              None  None    None  \n",
      "3              None  None    None  \n",
      "4              None  None    None  \n",
      "\n",
      "[5 rows x 26 columns]\n"
     ]
    }
   ],
   "source": [
    "with wrds.Connection(wrds_username=\"mayurankv\") as db:\n",
    "\tquery = \"\"\"\n",
    "\tSELECT *\n",
    "\tFROM optionm_all.opprcd2016\n",
    "\tWHERE  secid = '108105'\n",
    "\t\"\"\"\n",
    "\n",
    "\t# Execute the query and fetch the data\n",
    "\toption_prices = db.raw_sql(query)\n",
    "\n",
    "\t# Display the first few rows of the data\n",
    "\tprint(option_prices.index)\n",
    "\tprint(option_prices.head())"
   ]
  },
  {
   "cell_type": "code",
   "execution_count": 6,
   "metadata": {},
   "outputs": [
    {
     "data": {
      "text/plain": [
       "Index(['secid', 'date', 'symbol', 'symbol_flag', 'exdate', 'last_date',\n",
       "       'cp_flag', 'strike_price', 'best_bid', 'best_offer', 'volume',\n",
       "       'open_interest', 'impl_volatility', 'delta', 'gamma', 'vega', 'theta',\n",
       "       'optionid', 'cfadj', 'am_settlement', 'contract_size', 'ss_flag',\n",
       "       'forward_price', 'expiry_indicator', 'root', 'suffix'],\n",
       "      dtype='object')"
      ]
     },
     "execution_count": 6,
     "metadata": {},
     "output_type": "execute_result"
    }
   ],
   "source": [
    "option_prices.columns"
   ]
  },
  {
   "cell_type": "code",
   "execution_count": 22,
   "metadata": {},
   "outputs": [
    {
     "data": {
      "text/plain": [
       "Index([     0,      1,      2,      3,      4,      5,      6,      7,      8,\n",
       "            9,\n",
       "       ...\n",
       "       393380, 393381, 393382, 393383, 393384, 393385, 393386, 393387, 393388,\n",
       "       393389],\n",
       "      dtype='int64', length=1893390)"
      ]
     },
     "execution_count": 22,
     "metadata": {},
     "output_type": "execute_result"
    }
   ],
   "source": [
    "option_prices.index"
   ]
  },
  {
   "cell_type": "code",
   "execution_count": 24,
   "metadata": {},
   "outputs": [
    {
     "data": {
      "text/plain": [
       "secid                         108105.0\n",
       "date                        2016-01-04\n",
       "symbol              SPX 160115C1000000\n",
       "symbol_flag                          1\n",
       "exdate                      2016-01-15\n",
       "last_date                   2016-01-04\n",
       "cp_flag                              C\n",
       "strike_price                 1000000.0\n",
       "best_bid                        1007.4\n",
       "best_offer                      1010.8\n",
       "volume                          2000.0\n",
       "open_interest                  42291.0\n",
       "impl_volatility                    NaN\n",
       "delta                              NaN\n",
       "gamma                              NaN\n",
       "vega                               NaN\n",
       "theta                              NaN\n",
       "optionid                   103574072.0\n",
       "cfadj                              1.0\n",
       "am_settlement                      1.0\n",
       "contract_size                    100.0\n",
       "ss_flag                              0\n",
       "forward_price                     None\n",
       "expiry_indicator                  None\n",
       "root                              None\n",
       "suffix                            None\n",
       "Name: 0, dtype: object"
      ]
     },
     "execution_count": 24,
     "metadata": {},
     "output_type": "execute_result"
    }
   ],
   "source": [
    "option_prices.iloc[0]"
   ]
  },
  {
   "cell_type": "code",
   "execution_count": 45,
   "metadata": {},
   "outputs": [
    {
     "name": "stdout",
     "output_type": "stream",
     "text": [
      "Loading library list...\n",
      "Done\n",
      "      secid\n",
      "0  108105.0\n",
      "1  108105.0\n",
      "2  108105.0\n",
      "3  108105.0\n",
      "4  108105.0\n",
      "5  108105.0\n"
     ]
    }
   ],
   "source": [
    "with wrds.Connection(wrds_username=\"mayurankv\") as db:\n",
    "\tquery = \"\"\"\n",
    "\tSELECT secid FROM optionm_all.secnmd WHERE ticker = 'SPX'\n",
    "\t\"\"\"\n",
    "\n",
    "\tresult_df = db.raw_sql(query)\n",
    "\n",
    "\tprint(result_df)"
   ]
  },
  {
   "cell_type": "code",
   "execution_count": 54,
   "metadata": {},
   "outputs": [
    {
     "data": {
      "text/plain": [
       "108105"
      ]
     },
     "execution_count": 54,
     "metadata": {},
     "output_type": "execute_result"
    }
   ],
   "source": [
    "int()"
   ]
  },
  {
   "cell_type": "code",
   "execution_count": 5,
   "metadata": {},
   "outputs": [],
   "source": [
    "option_prices.to_csv(\"test.csv\")"
   ]
  },
  {
   "cell_type": "code",
   "execution_count": 59,
   "metadata": {},
   "outputs": [],
   "source": [
    "import pandas as pd\n",
    "\n",
    "\n",
    "option_prices = pd.read_csv(\"test.csv\", index_col=0)"
   ]
  },
  {
   "cell_type": "code",
   "execution_count": null,
   "metadata": {},
   "outputs": [],
   "source": []
  },
  {
   "cell_type": "code",
   "execution_count": 67,
   "metadata": {},
   "outputs": [
    {
     "name": "stdout",
     "output_type": "stream",
     "text": [
      "      secid        date              symbol  symbol_flag      exdate  \\\n",
      "0  108105.0  2016-01-04  SPX 160115C1000000            1  2016-01-15   \n",
      "2  108105.0  2016-01-04  SPX 160115C1050000            1  2016-01-15   \n",
      "3  108105.0  2016-01-04  SPX 160115C1075000            1  2016-01-15   \n",
      "4  108105.0  2016-01-04  SPX 160115C1100000            1  2016-01-15   \n",
      "5  108105.0  2016-01-04  SPX 160115C1125000            1  2016-01-15   \n",
      "\n",
      "    last_date cp_flag  strike_price  best_bid  best_offer  ...  \\\n",
      "0  2016-01-04       C     1000000.0    1007.4      1010.8  ...   \n",
      "2  2015-06-29       C     1050000.0     957.3       960.9  ...   \n",
      "3  2015-06-29       C     1075000.0     932.3       935.9  ...   \n",
      "4  2015-12-16       C     1100000.0     907.4       911.1  ...   \n",
      "5  2015-08-28       C     1125000.0     882.3       886.1  ...   \n",
      "\n",
      "   impl_volatility  delta  gamma  vega  theta     optionid  cfadj  \\\n",
      "0              NaN    NaN    NaN   NaN    NaN  103574072.0    1.0   \n",
      "2              NaN    NaN    NaN   NaN    NaN  103574074.0    1.0   \n",
      "3              NaN    NaN    NaN   NaN    NaN  103574075.0    1.0   \n",
      "4              NaN    NaN    NaN   NaN    NaN  103574076.0    1.0   \n",
      "5              NaN    NaN    NaN   NaN    NaN  103574077.0    1.0   \n",
      "\n",
      "   am_settlement  contract_size  ss_flag  \n",
      "0            1.0          100.0        0  \n",
      "2            1.0          100.0        0  \n",
      "3            1.0          100.0        0  \n",
      "4            1.0          100.0        0  \n",
      "5            1.0          100.0        0  \n",
      "\n",
      "[5 rows x 22 columns]\n"
     ]
    }
   ],
   "source": [
    "print(option_prices.head())"
   ]
  },
  {
   "cell_type": "code",
   "execution_count": 17,
   "metadata": {},
   "outputs": [
    {
     "data": {
      "text/plain": [
       "secid                         108105.0\n",
       "date                        2016-01-04\n",
       "symbol              SPX 160115C1000000\n",
       "symbol_flag                          1\n",
       "exdate                      2016-01-15\n",
       "last_date                   2016-01-04\n",
       "cp_flag                              C\n",
       "strike_price                 1000000.0\n",
       "best_bid                        1007.4\n",
       "best_offer                      1010.8\n",
       "volume                          2000.0\n",
       "open_interest                  42291.0\n",
       "impl_volatility                    NaN\n",
       "delta                              NaN\n",
       "gamma                              NaN\n",
       "vega                               NaN\n",
       "theta                              NaN\n",
       "optionid                   103574072.0\n",
       "cfadj                              1.0\n",
       "am_settlement                      1.0\n",
       "contract_size                    100.0\n",
       "ss_flag                              0\n",
       "forward_price                     None\n",
       "expiry_indicator                  None\n",
       "root                              None\n",
       "suffix                            None\n",
       "Name: 0, dtype: object"
      ]
     },
     "execution_count": 17,
     "metadata": {},
     "output_type": "execute_result"
    }
   ],
   "source": [
    "option_prices.iloc[0]"
   ]
  },
  {
   "cell_type": "code",
   "execution_count": 31,
   "metadata": {},
   "outputs": [
    {
     "data": {
      "text/plain": [
       "Series([], Name: suffix, dtype: object)"
      ]
     },
     "execution_count": 31,
     "metadata": {},
     "output_type": "execute_result"
    }
   ],
   "source": [
    "option_prices[~option_prices[\"suffix\"].isnull()][\"suffix\"]"
   ]
  },
  {
   "cell_type": "code",
   "execution_count": 34,
   "metadata": {},
   "outputs": [
    {
     "data": {
      "text/plain": [
       "array([False, False, False, False, False, False, False, False, False,\n",
       "       False, False, False, False, False, False, False, False, False,\n",
       "       False, False, False, False, False, False, False, False])"
      ]
     },
     "execution_count": 34,
     "metadata": {},
     "output_type": "execute_result"
    }
   ],
   "source": [
    "option_prices.columns.duplicated()"
   ]
  },
  {
   "cell_type": "code",
   "execution_count": 36,
   "metadata": {},
   "outputs": [],
   "source": [
    "columns = option_prices.columns\n",
    "unique_columns = option_prices.loc[:, (option_prices != option_prices.iloc[0]).any()].columns"
   ]
  },
  {
   "cell_type": "code",
   "execution_count": 35,
   "metadata": {},
   "outputs": [
    {
     "data": {
      "text/plain": [
       "Index(['date', 'symbol', 'exdate', 'last_date', 'cp_flag', 'strike_price',\n",
       "       'best_bid', 'best_offer', 'volume', 'open_interest', 'impl_volatility',\n",
       "       'delta', 'gamma', 'vega', 'theta', 'optionid', 'am_settlement',\n",
       "       'forward_price', 'expiry_indicator', 'root', 'suffix'],\n",
       "      dtype='object')"
      ]
     },
     "execution_count": 35,
     "metadata": {},
     "output_type": "execute_result"
    }
   ],
   "source": [
    "unique_columns"
   ]
  },
  {
   "cell_type": "code",
   "execution_count": 39,
   "metadata": {},
   "outputs": [
    {
     "data": {
      "text/plain": [
       "Index(['cfadj', 'contract_size', 'secid', 'ss_flag', 'symbol_flag'], dtype='object')"
      ]
     },
     "execution_count": 39,
     "metadata": {},
     "output_type": "execute_result"
    }
   ],
   "source": [
    "columns.difference(unique_columns)"
   ]
  },
  {
   "cell_type": "code",
   "execution_count": 26,
   "metadata": {},
   "outputs": [
    {
     "data": {
      "text/plain": [
       "0         None\n",
       "1         None\n",
       "2         None\n",
       "3         None\n",
       "4         None\n",
       "          ... \n",
       "393385    None\n",
       "393386    None\n",
       "393387    None\n",
       "393388    None\n",
       "393389    None\n",
       "Name: suffix, Length: 1893390, dtype: object"
      ]
     },
     "execution_count": 26,
     "metadata": {},
     "output_type": "execute_result"
    }
   ],
   "source": [
    "option_prices[option_prices[\"suffix\"].isnull()][\"suffix\"]"
   ]
  },
  {
   "cell_type": "code",
   "execution_count": 19,
   "metadata": {},
   "outputs": [
    {
     "data": {
      "text/plain": [
       "nan"
      ]
     },
     "execution_count": 19,
     "metadata": {},
     "output_type": "execute_result"
    }
   ],
   "source": [
    "option_prices.iloc[0][\"impl_volatility\"]"
   ]
  }
 ],
 "metadata": {
  "kernelspec": {
   "display_name": ".venv",
   "language": "python",
   "name": "python3"
  },
  "language_info": {
   "codemirror_mode": {
    "name": "ipython",
    "version": 3
   },
   "file_extension": ".py",
   "mimetype": "text/x-python",
   "name": "python",
   "nbconvert_exporter": "python",
   "pygments_lexer": "ipython3",
   "version": "3.12.4"
  }
 },
 "nbformat": 4,
 "nbformat_minor": 2
}
